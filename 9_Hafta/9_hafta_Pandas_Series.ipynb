{
 "cells": [
  {
   "cell_type": "markdown",
   "metadata": {},
   "source": [
    "**PANDAS - SERİLER**\n",
    "\n",
    "pip install pandas"
   ]
  },
  {
   "cell_type": "code",
   "execution_count": 1,
   "metadata": {},
   "outputs": [],
   "source": [
    "import pandas as pd"
   ]
  },
  {
   "cell_type": "code",
   "execution_count": 2,
   "metadata": {},
   "outputs": [
    {
     "name": "stderr",
     "output_type": "stream",
     "text": [
      "C:\\Users\\muzey\\AppData\\Local\\Temp\\ipykernel_1972\\797261446.py:1: FutureWarning: The default dtype for empty Series will be 'object' instead of 'float64' in a future version. Specify a dtype explicitly to silence this warning.\n",
      "  seri = pd.Series()\n"
     ]
    },
    {
     "data": {
      "text/plain": [
       "Series([], dtype: float64)"
      ]
     },
     "execution_count": 2,
     "metadata": {},
     "output_type": "execute_result"
    }
   ],
   "source": [
    "seri = pd.Series()\n",
    "seri"
   ]
  },
  {
   "cell_type": "code",
   "execution_count": 4,
   "metadata": {},
   "outputs": [
    {
     "data": {
      "text/plain": [
       "0      Aysel\n",
       "1        Nur\n",
       "2      Duygu\n",
       "3    Menekşe\n",
       "dtype: object"
      ]
     },
     "execution_count": 4,
     "metadata": {},
     "output_type": "execute_result"
    }
   ],
   "source": [
    "#index değerlerini kendimiz belirlemediğimiz için otomatik olarak kendisi belirledi\n",
    "\n",
    "seri = pd.Series([\"Aysel\", \"Nur\", \"Duygu\", \"Menekşe\"])\n",
    "seri"
   ]
  },
  {
   "cell_type": "code",
   "execution_count": 5,
   "metadata": {},
   "outputs": [
    {
     "data": {
      "text/plain": [
       "23      Aysel\n",
       "35        Nur\n",
       "45      Duygu\n",
       "20    Menekşe\n",
       "dtype: object"
      ]
     },
     "execution_count": 5,
     "metadata": {},
     "output_type": "execute_result"
    }
   ],
   "source": [
    "#kendi belirlediğimiz index değeleriyle çalıştırabiliriz.\n",
    "\n",
    "seri = pd.Series([\"Aysel\", \"Nur\", \"Duygu\", \"Menekşe\"],[23, 35, 45, 20])\n",
    "seri"
   ]
  },
  {
   "cell_type": "code",
   "execution_count": 6,
   "metadata": {},
   "outputs": [
    {
     "data": {
      "text/plain": [
       "Int64Index([23, 35, 45, 20], dtype='int64')"
      ]
     },
     "execution_count": 6,
     "metadata": {},
     "output_type": "execute_result"
    }
   ],
   "source": [
    "#sadece index değerlerini göstermek için index metodunu kullanırız.\n",
    "seri.index"
   ]
  },
  {
   "cell_type": "code",
   "execution_count": 9,
   "metadata": {},
   "outputs": [
    {
     "data": {
      "text/plain": [
       "array(['Aysel', 'Nur', 'Duygu', 'Menekşe'], dtype=object)"
      ]
     },
     "execution_count": 9,
     "metadata": {},
     "output_type": "execute_result"
    }
   ],
   "source": [
    "#sadece values değerlerini göstermek için index metodunu kullanırız.\n",
    "seri.values"
   ]
  },
  {
   "cell_type": "code",
   "execution_count": 12,
   "metadata": {},
   "outputs": [
    {
     "name": "stdout",
     "output_type": "stream",
     "text": [
      "Var\n"
     ]
    }
   ],
   "source": [
    "#Aysel adındaki values değeri var mı yok mu ona bakıyoruz.\n",
    "\n",
    "if \"Aysel\" in seri.values:\n",
    "    print(\"Var\")"
   ]
  },
  {
   "cell_type": "code",
   "execution_count": 14,
   "metadata": {},
   "outputs": [
    {
     "data": {
      "text/plain": [
       "a     2\n",
       "b     8\n",
       "c    14\n",
       "d    20\n",
       "e    26\n",
       "f    32\n",
       "dtype: int64"
      ]
     },
     "execution_count": 14,
     "metadata": {},
     "output_type": "execute_result"
    }
   ],
   "source": [
    "#List Comprehension\n",
    "\n",
    "#my_list = [i for i in range(100)]\n",
    "\n",
    "#Belirlediğimiz valuelerı 2 den 36 a kadar olan indexleri 6 şar 6 şar atlayarak sıralama\n",
    "seri = pd.Series(range(2, 36, 6), [i for i in \"abcdef\"])\n",
    "seri"
   ]
  },
  {
   "cell_type": "markdown",
   "metadata": {},
   "source": [
    "Seri Elemanlarına Erişim"
   ]
  },
  {
   "cell_type": "code",
   "execution_count": 17,
   "metadata": {},
   "outputs": [
    {
     "data": {
      "text/plain": [
       "lang_1    KOtlin\n",
       "lang_2      Java\n",
       "lang_3    Python\n",
       "lang_4        JS\n",
       "lang_5       PHP\n",
       "dtype: object"
      ]
     },
     "execution_count": 17,
     "metadata": {},
     "output_type": "execute_result"
    }
   ],
   "source": [
    "languages = pd.Series([\"KOtlin\", \"Java\", \"Python\", \"JS\", \"PHP\"],[\"lang_1\",\"lang_2\",\"lang_3\",\"lang_4\",\"lang_5\"])\n",
    "languages"
   ]
  },
  {
   "cell_type": "code",
   "execution_count": 18,
   "metadata": {},
   "outputs": [
    {
     "data": {
      "text/plain": [
       "'Python'"
      ]
     },
     "execution_count": 18,
     "metadata": {},
     "output_type": "execute_result"
    }
   ],
   "source": [
    "#sadece lang_3 değerini bastırır\n",
    "\n",
    "languages[\"lang_3\"]"
   ]
  },
  {
   "cell_type": "code",
   "execution_count": 20,
   "metadata": {},
   "outputs": [
    {
     "data": {
      "text/plain": [
       "lang_2    Java\n",
       "lang_4      JS\n",
       "dtype: object"
      ]
     },
     "execution_count": 20,
     "metadata": {},
     "output_type": "execute_result"
    }
   ],
   "source": [
    "#sadece lang_2 ve lang_4 değerlerini bastırır\n",
    "\n",
    "languages[[\"lang_2\", \"lang_4\"]]"
   ]
  },
  {
   "cell_type": "code",
   "execution_count": 21,
   "metadata": {},
   "outputs": [
    {
     "data": {
      "text/plain": [
       "lang_2      Java\n",
       "lang_3    Python\n",
       "lang_4        JS\n",
       "dtype: object"
      ]
     },
     "execution_count": 21,
     "metadata": {},
     "output_type": "execute_result"
    }
   ],
   "source": [
    "#2 ve 4 arasındaki değerleri bastırır\n",
    "\n",
    "languages[\"lang_2\":\"lang_4\"]"
   ]
  },
  {
   "cell_type": "code",
   "execution_count": 24,
   "metadata": {},
   "outputs": [
    {
     "data": {
      "text/plain": [
       "1990               Friends\n",
       "1991    Person Of Interest\n",
       "1992             Heartland\n",
       "1993            Doctor Who\n",
       "1994                Merlin\n",
       "dtype: object"
      ]
     },
     "execution_count": 24,
     "metadata": {},
     "output_type": "execute_result"
    }
   ],
   "source": [
    "#Dict den seri oluşturma\n",
    "\n",
    "movies = {\n",
    "    1990: \"Friends\",\n",
    "    1991: \"Person Of Interest\",\n",
    "    1992: \"Heartland\",\n",
    "    1993: \"Doctor Who\",\n",
    "    1994: \"Merlin\"\n",
    "}\n",
    "\n",
    "movies_series = pd.Series(movies.values(), movies.keys())\n",
    "movies_series"
   ]
  },
  {
   "cell_type": "code",
   "execution_count": 26,
   "metadata": {},
   "outputs": [
    {
     "data": {
      "text/plain": [
       "1993    Doctor Who\n",
       "1994        Merlin\n",
       "dtype: object"
      ]
     },
     "execution_count": 26,
     "metadata": {},
     "output_type": "execute_result"
    }
   ],
   "source": [
    "#movies değerleri içerisinden 1992 den (1992 geçerli değil ondan sonrasını getir) büyük olanları getirme \n",
    "\n",
    "movies_series[movies_series.index > 1992]"
   ]
  },
  {
   "cell_type": "code",
   "execution_count": 27,
   "metadata": {},
   "outputs": [
    {
     "data": {
      "text/plain": [
       "1992     Heartland\n",
       "1993    Doctor Who\n",
       "dtype: object"
      ]
     },
     "execution_count": 27,
     "metadata": {},
     "output_type": "execute_result"
    }
   ],
   "source": [
    "#Birden fazla değerleri gösteriyoruz.\n",
    "#Burada ilk önce 1992 den büyük ve eşit olanları aynı zamanda da 1994 den küçük olanları gösterecek ama 1994 değerini almayacak sadece küçük olanlarını alacak \n",
    "\n",
    "movies_series[(movies_series.index >= 1992) & (movies_series.index < 1994)]"
   ]
  }
 ],
 "metadata": {
  "kernelspec": {
   "display_name": "Python 3.10.8 64-bit (microsoft store)",
   "language": "python",
   "name": "python3"
  },
  "language_info": {
   "codemirror_mode": {
    "name": "ipython",
    "version": 3
   },
   "file_extension": ".py",
   "mimetype": "text/x-python",
   "name": "python",
   "nbconvert_exporter": "python",
   "pygments_lexer": "ipython3",
   "version": "3.10.8"
  },
  "orig_nbformat": 4,
  "vscode": {
   "interpreter": {
    "hash": "75328cd36868a46990b96b50a3e79d16599f753ed0672728bccd76ddc954032c"
   }
  }
 },
 "nbformat": 4,
 "nbformat_minor": 2
}
