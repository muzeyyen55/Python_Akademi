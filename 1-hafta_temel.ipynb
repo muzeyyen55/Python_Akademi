{
 "cells": [
  {
   "cell_type": "markdown",
   "metadata": {},
   "source": [
    "** PYTHON **\n",
    "* Web Geliştirme\n",
    "* Oyun Geliştirme\n",
    "* Yapay Zeka ve Makine Öğrenimi\n",
    "* Görüntü İşleme\n",
    "* Veri Bilimi\n",
    "* Sağlık"
   ]
  },
  {
   "cell_type": "code",
   "execution_count": null,
   "metadata": {},
   "outputs": [],
   "source": [
    "print(\"Hello World\")"
   ]
  },
  {
   "cell_type": "markdown",
   "metadata": {},
   "source": [
    "** DEĞİŞKENLER\n",
    "Verileri tutan yapılardır.\n",
    "\n",
    "variable_name = variable_value"
   ]
  },
  {
   "cell_type": "code",
   "execution_count": 1,
   "metadata": {},
   "outputs": [
    {
     "name": "stdout",
     "output_type": "stream",
     "text": [
      "Nur\n",
      "23\n",
      "20000.5\n"
     ]
    }
   ],
   "source": [
    "name = \"Nur\"\n",
    "age = 23\n",
    "salary = 20000.50\n",
    "\n",
    "print(name)\n",
    "print(age)\n",
    "print(salary)"
   ]
  },
  {
   "cell_type": "markdown",
   "metadata": {},
   "source": [
    "** DEĞİŞKEN TANIMLAMA KURALLARI **\n",
    "\n",
    "\n",
    "person_name\n",
    "personName\n",
    "getStart()\n",
    "\n",
    "* Değişken; harf, rakam, alt çizgi (-) kombinasyonunu içermeli\n",
    "* Rakamla başlamamalı\n",
    "* Büyük - Küçük harf duyarlı"
   ]
  },
  {
   "cell_type": "code",
   "execution_count": 3,
   "metadata": {},
   "outputs": [
    {
     "name": "stdout",
     "output_type": "stream",
     "text": [
      "23\n"
     ]
    }
   ],
   "source": [
    "#Bir Değişkenin Değerini Değiştirme\n",
    "\n",
    "variable = 23\n",
    "print(variable)"
   ]
  },
  {
   "cell_type": "code",
   "execution_count": 4,
   "metadata": {},
   "outputs": [
    {
     "data": {
      "text/plain": [
       "int"
      ]
     },
     "execution_count": 4,
     "metadata": {},
     "output_type": "execute_result"
    }
   ],
   "source": [
    "type(variable) #değişkenin tipini öğrenmek için kullanılır."
   ]
  },
  {
   "cell_type": "code",
   "execution_count": null,
   "metadata": {},
   "outputs": [],
   "source": [
    "name = \"Nur\"\n",
    "print(name)"
   ]
  },
  {
   "cell_type": "code",
   "execution_count": 4,
   "metadata": {},
   "outputs": [
    {
     "ename": "NameError",
     "evalue": "name 'name' is not defined",
     "output_type": "error",
     "traceback": [
      "\u001b[1;31m---------------------------------------------------------------------------\u001b[0m",
      "\u001b[1;31mNameError\u001b[0m                                 Traceback (most recent call last)",
      "Cell \u001b[1;32mIn [4], line 1\u001b[0m\n\u001b[1;32m----> 1\u001b[0m \u001b[39mtype\u001b[39m(name)\n",
      "\u001b[1;31mNameError\u001b[0m: name 'name' is not defined"
     ]
    }
   ],
   "source": [
    "type(name)"
   ]
  },
  {
   "cell_type": "code",
   "execution_count": 13,
   "metadata": {},
   "outputs": [
    {
     "name": "stdout",
     "output_type": "stream",
     "text": [
      "Nur\n",
      "akcay\n"
     ]
    }
   ],
   "source": [
    "#Büyük - Küçük Harf Duyarlıdır\n",
    "\n",
    "name = \"Nur\"\n",
    "surname = \"akcay\"\n",
    "\n",
    "print(name)\n",
    "print(surname)"
   ]
  },
  {
   "cell_type": "markdown",
   "metadata": {},
   "source": [
    "** VERİ TİPLERİ **\n",
    "\n",
    "* int\n",
    "* float\n",
    "* boolean\n",
    "* string"
   ]
  },
  {
   "cell_type": "markdown",
   "metadata": {},
   "source": [
    "ÇOKLU DEĞİŞKEN ATAMA"
   ]
  },
  {
   "cell_type": "code",
   "execution_count": 5,
   "metadata": {},
   "outputs": [
    {
     "name": "stdout",
     "output_type": "stream",
     "text": [
      "20\n"
     ]
    }
   ],
   "source": [
    "number_1 = number_2 = number_3 = 20\n",
    "print(number_2)"
   ]
  },
  {
   "cell_type": "code",
   "execution_count": 6,
   "metadata": {},
   "outputs": [
    {
     "name": "stdout",
     "output_type": "stream",
     "text": [
      "Nur\n",
      "23\n",
      "20000\n"
     ]
    }
   ],
   "source": [
    "name, age, salary = \"Nur\", 23, 20000\n",
    "\n",
    "print(name)\n",
    "print(age)\n",
    "print(salary)"
   ]
  },
  {
   "cell_type": "code",
   "execution_count": 7,
   "metadata": {},
   "outputs": [
    {
     "name": "stdout",
     "output_type": "stream",
     "text": [
      "Nur\n",
      "23\n",
      "20000.5\n",
      "a\n",
      "False\n"
     ]
    }
   ],
   "source": [
    "name, age, salary, letter, isNumber = \"Nur\", 23, 20000.50, 'a', False\n",
    "\n",
    "print(name)\n",
    "print(age)\n",
    "print(salary)\n",
    "print(letter)\n",
    "print(isNumber)"
   ]
  },
  {
   "cell_type": "markdown",
   "metadata": {},
   "source": [
    "** DEĞİŞLENLERDE KAPSAM **\n",
    "\n",
    "* Yerel Değişken: Tanımlandığı yerdeki kod bloğunda çalışan değişkenlerdir. Başka yerden erişilemez. "
   ]
  },
  {
   "cell_type": "code",
   "execution_count": 8,
   "metadata": {},
   "outputs": [
    {
     "name": "stdout",
     "output_type": "stream",
     "text": [
      "salary1 1000\n"
     ]
    },
    {
     "ename": "NameError",
     "evalue": "name 'salary1' is not defined",
     "output_type": "error",
     "traceback": [
      "\u001b[1;31m---------------------------------------------------------------------------\u001b[0m",
      "\u001b[1;31mNameError\u001b[0m                                 Traceback (most recent call last)",
      "Cell \u001b[1;32mIn [8], line 9\u001b[0m\n\u001b[0;32m      6\u001b[0m     \u001b[39mprint\u001b[39m(\u001b[39m\"\u001b[39m\u001b[39msalary2\u001b[39m\u001b[39m\"\u001b[39m, salary1)\n\u001b[0;32m      8\u001b[0m getSalary1()\n\u001b[1;32m----> 9\u001b[0m getSaalary2()\n",
      "Cell \u001b[1;32mIn [8], line 6\u001b[0m, in \u001b[0;36mgetSaalary2\u001b[1;34m()\u001b[0m\n\u001b[0;32m      5\u001b[0m \u001b[39mdef\u001b[39;00m \u001b[39mgetSaalary2\u001b[39m():\n\u001b[1;32m----> 6\u001b[0m     \u001b[39mprint\u001b[39m(\u001b[39m\"\u001b[39m\u001b[39msalary2\u001b[39m\u001b[39m\"\u001b[39m, salary1)\n",
      "\u001b[1;31mNameError\u001b[0m: name 'salary1' is not defined"
     ]
    }
   ],
   "source": [
    "def getSalary1():\n",
    "    salary1 = 1000\n",
    "    print(\"salary1\", salary1)\n",
    "\n",
    "def getSalary2():\n",
    "    print(\"salary2\", salary1)\n",
    "\n",
    "getSalary1()\n",
    "getSalary2()"
   ]
  },
  {
   "cell_type": "code",
   "execution_count": 9,
   "metadata": {},
   "outputs": [
    {
     "name": "stdout",
     "output_type": "stream",
     "text": [
      "salary1 10000\n"
     ]
    }
   ],
   "source": [
    "def getSalary1():\n",
    "    salary1 = 10000\n",
    "    print(\"salary1\", salary1)\n",
    "\n",
    "getSalary1()"
   ]
  },
  {
   "cell_type": "markdown",
   "metadata": {},
   "source": [
    "* Global Değişkenler: Kodun her yerinden erişebilen değişkenlerdir."
   ]
  },
  {
   "cell_type": "code",
   "execution_count": 10,
   "metadata": {},
   "outputs": [
    {
     "name": "stdout",
     "output_type": "stream",
     "text": [
      "salary2 20000.5\n",
      "salary1 20000.5\n",
      "main 20000.5\n"
     ]
    }
   ],
   "source": [
    "salary1 = 10000\n",
    "\n",
    "def getSalary1():\n",
    "    print(\"salary1\", salary)\n",
    "\n",
    "def getSalary2():\n",
    "    print(\"salary2\", salary)\n",
    "\n",
    "getSalary2()\n",
    "getSalary1()\n",
    "\n",
    "print(\"main\", salary1)"
   ]
  },
  {
   "cell_type": "markdown",
   "metadata": {},
   "source": [
    "** Global Değişkeninin Değerini Değiştirelim ** "
   ]
  },
  {
   "cell_type": "code",
   "execution_count": 11,
   "metadata": {},
   "outputs": [
    {
     "name": "stdout",
     "output_type": "stream",
     "text": [
      "salary1 10000\n",
      "salary2 10000\n",
      "main 10000\n"
     ]
    }
   ],
   "source": [
    "salary1 = 10000\n",
    "\n",
    "def getSalary1():\n",
    "    salary1 = 15000\n",
    "    print(\"salary1\", salary1)\n",
    "\n",
    "def getSalary2():\n",
    "    print(\"salary2\", salary1)\n",
    "\n",
    "getSalary1()\n",
    "getSalary2()\n",
    "\n",
    "print(\"main\", salary1)"
   ]
  },
  {
   "cell_type": "code",
   "execution_count": 12,
   "metadata": {},
   "outputs": [
    {
     "name": "stdout",
     "output_type": "stream",
     "text": [
      "salary2 10000\n",
      "salary1 15000\n",
      "main 15000\n"
     ]
    }
   ],
   "source": [
    "salary1 = 10000\n",
    "\n",
    "def getSalary1():\n",
    "    global salary1\n",
    "    salary1 = 15000\n",
    "    print(\"salary1\", salary1)\n",
    "\n",
    "def getSalary2():\n",
    "    print(\"salary2\", salary1)\n",
    "\n",
    "getSalary2()\n",
    "getSalary1()\n",
    "\n",
    "print(\"main\", salary1)"
   ]
  },
  {
   "cell_type": "markdown",
   "metadata": {},
   "source": [
    "** OPERATÖRLER **\n",
    "\n",
    " (+) (TOPLAMA)\n",
    "\n",
    " (-) (ÇIKARMA)\n",
    " \n",
    " (*) (ÇARPMA)\n",
    " \n",
    " (/) (BÖLME)\n",
    " \n",
    " (//) (TAM BÖLME)\n",
    " \n",
    " (%) (MOD ALMA)\n",
    " \n",
    " (**) (ÜS ALMA)"
   ]
  },
  {
   "cell_type": "code",
   "execution_count": 13,
   "metadata": {},
   "outputs": [
    {
     "name": "stdout",
     "output_type": "stream",
     "text": [
      " 3 + 2 =  5\n",
      " 7 - 3 =  4\n",
      " 5 + 4 =  20\n",
      " 6 / 3 =  2.0\n",
      " 6 //4 =  1\n",
      " 9 % 4 =  1\n",
      " 2 ** 5 =  32\n"
     ]
    }
   ],
   "source": [
    "print(\" 3 + 2 = \", 3 + 2)\n",
    "print(\" 7 - 3 = \", 7 - 3)\n",
    "print(\" 5 + 4 = \", 5 * 4)\n",
    "print(\" 6 / 3 = \", 6 / 3)\n",
    "print(\" 6 //4 = \", 6 // 4)\n",
    "print(\" 9 % 4 = \", 9 % 4)\n",
    "print(\" 2 ** 5 = \", 2 ** 5)"
   ]
  },
  {
   "cell_type": "markdown",
   "metadata": {},
   "source": [
    "İlişkisel(Karşılaştırma) Operatörleri\n",
    "\n",
    "\">\" Büyüktür\n",
    "\n",
    "\"<\" Küçüktür\n",
    "\n",
    "\"<=\" Küçük Eşittir\n",
    "\n",
    "\">=\" Büyük Eşittir\n",
    "\n",
    "\"==\" Eşittir\n",
    "\n",
    "\"!=\" Eşit Değildir"
   ]
  },
  {
   "cell_type": "code",
   "execution_count": null,
   "metadata": {},
   "outputs": [],
   "source": [
    "a = 29\n",
    "b = 13\n",
    "\n",
    "print(a < b)\n",
    "print(a > b)\n",
    "print(a == b)"
   ]
  },
  {
   "cell_type": "markdown",
   "metadata": {},
   "source": [
    "Atama Operatörleri\n",
    "\n",
    "=, +=, -=, *=, /=, //=, %=\n",
    "\n",
    "**="
   ]
  },
  {
   "cell_type": "code",
   "execution_count": null,
   "metadata": {},
   "outputs": [],
   "source": [
    "x = 1\n",
    "print(x)\n",
    "\n",
    "x += 2 # x = x + 2\n",
    "print(x)\n",
    "\n",
    "x -= 1 # x = x - 1\n",
    "print(x)\n",
    "\n",
    "x *= 9 # x = x * 9\n",
    "print(x)\n",
    "\n",
    "x /= 2 # x / 2 \n",
    "print(x)\n",
    "\n",
    "x //= 4 # x = x // 4\n",
    "print(x)\n",
    "\n",
    "x **= 3 # x = x ** 3\n",
    "print(x)\n",
    "\n",
    "x %= 3 # x = x % 3\n",
    "print(x)"
   ]
  },
  {
   "cell_type": "markdown",
   "metadata": {},
   "source": [
    "** PYTHON COMMENTS ** "
   ]
  },
  {
   "cell_type": "code",
   "execution_count": null,
   "metadata": {},
   "outputs": [],
   "source": [
    "ad=\"Müzeyyen\"\n",
    "print(type(ad))"
   ]
  }
 ],
 "metadata": {
  "kernelspec": {
   "display_name": "Python 3.9.5 64-bit",
   "language": "python",
   "name": "python3"
  },
  "language_info": {
   "codemirror_mode": {
    "name": "ipython",
    "version": 3
   },
   "file_extension": ".py",
   "mimetype": "text/x-python",
   "name": "python",
   "nbconvert_exporter": "python",
   "pygments_lexer": "ipython3",
   "version": "3.9.5"
  },
  "orig_nbformat": 4,
  "vscode": {
   "interpreter": {
    "hash": "f6246b25e200e4c5124e3e61789ac81350562f0761bbcf92ad9e48654207659c"
   }
  }
 },
 "nbformat": 4,
 "nbformat_minor": 2
}
