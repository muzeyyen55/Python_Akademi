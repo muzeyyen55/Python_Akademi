{
 "cells": [
  {
   "cell_type": "markdown",
   "metadata": {},
   "source": [
    "**DOSYALAMA İŞLEMLERİ**\n",
    "\n",
    "* Dosyayı açma\n",
    "* Dosyadan veri okuma\n",
    "* Dosyaya yazma\n",
    "* Dosya kapatma"
   ]
  },
  {
   "cell_type": "markdown",
   "metadata": {},
   "source": [
    "open(\"dosya_yolu\", \"erisim_modu\")"
   ]
  },
  {
   "cell_type": "markdown",
   "metadata": {},
   "source": [
    "* w (write) (Dosyayı yazma amacıyla açar. Bir dosya var ise dosyanın üzerine yazar)\n",
    "* a (Dosyanın sonuna ekleme yapar. Yani eklemek istediklerimizi en sona ekler)"
   ]
  },
  {
   "cell_type": "code",
   "execution_count": 4,
   "metadata": {},
   "outputs": [],
   "source": [
    "f = open(\"names.txt\", \"w\", encoding=\"utf-8\")\n",
    "f.write(\"Rüveyda\")\n",
    "f.write(\"Melisa\")\n",
    "f.write(\"Kübra\")\n",
    "f.write(\"Ezgi\")\n",
    "f.write(\"Ayşe Nur\")\n",
    "f.close()\n"
   ]
  },
  {
   "cell_type": "code",
   "execution_count": 5,
   "metadata": {},
   "outputs": [],
   "source": [
    "f = open(\"names.txt\", \"a\", encoding=\"utf-8\")\n",
    "f.write(\"Bilge\")\n",
    "f.close()"
   ]
  },
  {
   "cell_type": "code",
   "execution_count": 3,
   "metadata": {},
   "outputs": [],
   "source": [
    "my_list = [\"Müzeyyen\", \"Hatice\", \"Nihan\", \"Aysel Hoca\", \"Zeynep\", \"Menekşe\"]\n",
    "f = open(\"names2.txt\",\"w\", encoding=\"utf-8\")\n",
    "\n",
    "for name in my_list:\n",
    "    f.write(name + \"\\n\")\n",
    "\n",
    "f.close()"
   ]
  },
  {
   "cell_type": "code",
   "execution_count": 11,
   "metadata": {},
   "outputs": [
    {
     "name": "stdout",
     "output_type": "stream",
     "text": [
      "['.git', '.gitignore', '.vscode', '1-hafta_temel.ipynb', '2-hafta_donusumler.ipynb', '2-hafta_ekders.ipynb', '4-hafta_fonksiyonlar.ipynb', '4-hafta_moduller.ipynb', '5-hafta-veri_yapilari-List.ipynb', '5-hafta_lambda-filter-map.ipynb', '5-hafta_veri_yapilari_Tuple.ipynb', '6-hafta-veri_yapilari_Dictionary.ipynb', '6-hafta_veri_yapilari_Set.ipynb', '7-hafta_Dosya_İslemleri.ipynb', '7-hafta_Hatalar.ipynb', 'names.txt', 'names2.txt', 'README.md']\n"
     ]
    }
   ],
   "source": [
    "import os\n",
    "print(os.listdir()) #Python Akademi dosyanın içinde hangi dosyalar var onu gösteriyor"
   ]
  },
  {
   "cell_type": "code",
   "execution_count": 12,
   "metadata": {},
   "outputs": [
    {
     "name": "stdout",
     "output_type": "stream",
     "text": [
      "True\n"
     ]
    }
   ],
   "source": [
    "print(os.path.isfile(\"names2.txt\")) #names2.txt adında dosya olup olmadığını gösterir."
   ]
  },
  {
   "cell_type": "markdown",
   "metadata": {},
   "source": [
    "Farklı Bir Dizinde Dosya Kontrolü"
   ]
  },
  {
   "cell_type": "code",
   "execution_count": 17,
   "metadata": {},
   "outputs": [],
   "source": [
    "f = open(r\"C:\\Users\\muzey\\hello.txt\",\"w\", encoding=\"utf-8\")\n",
    "my_list = [\"Müzeyyen\", \"Hatice\", \"Nihan\", \"Aysel Hoca\", \"Zeynep\", \"Menekşe\"]\n",
    "\n",
    "for i in my_list:\n",
    "    f.write(i + \"\\n\")\n",
    "\n",
    "f.close()"
   ]
  },
  {
   "cell_type": "code",
   "execution_count": 19,
   "metadata": {},
   "outputs": [],
   "source": [
    "nur = open(\"greetings.txt\",\"w\")\n",
    "nur.write(\"Hello\")\n",
    "nur.close()\n",
    "\n",
    "\n",
    "\n",
    "with open (\"greetings.txt\", \"w\", encoding=\"utf-8\") as f:\n",
    "    f.write(\"Hello\")"
   ]
  },
  {
   "cell_type": "code",
   "execution_count": 1,
   "metadata": {},
   "outputs": [],
   "source": [
    "#dosya_example adında oluşturduğumuz dosyanın içindeki names2.txt içindeki yazıya ulaş ve onun içine yaz\n",
    "with open(\"dosya_example/names2.txt\",\"w\") as f:\n",
    "    f.write(\"Duygu\")"
   ]
  },
  {
   "cell_type": "markdown",
   "metadata": {},
   "source": [
    "Dosya Okuma"
   ]
  },
  {
   "cell_type": "code",
   "execution_count": 5,
   "metadata": {},
   "outputs": [
    {
     "name": "stdout",
     "output_type": "stream",
     "text": [
      "Müzeyyen\n",
      "Hatice\n",
      "Nihan\n",
      "Aysel Hoca\n",
      "Zeynep\n",
      "Menekşe\n",
      "\n"
     ]
    }
   ],
   "source": [
    "with open(\"names2.txt\", \"r\", encoding=\"utf-8\") as f:\n",
    "    print(f.read())"
   ]
  },
  {
   "cell_type": "code",
   "execution_count": 6,
   "metadata": {},
   "outputs": [
    {
     "ename": "FileNotFoundError",
     "evalue": "[Errno 2] No such file or directory: 'surname.txt'",
     "output_type": "error",
     "traceback": [
      "\u001b[1;31m---------------------------------------------------------------------------\u001b[0m",
      "\u001b[1;31mFileNotFoundError\u001b[0m                         Traceback (most recent call last)",
      "Cell \u001b[1;32mIn [6], line 1\u001b[0m\n\u001b[1;32m----> 1\u001b[0m \u001b[39mwith\u001b[39;00m \u001b[39mopen\u001b[39;49m(\u001b[39m\"\u001b[39;49m\u001b[39msurname.txt\u001b[39;49m\u001b[39m\"\u001b[39;49m, \u001b[39m\"\u001b[39;49m\u001b[39mr\u001b[39;49m\u001b[39m\"\u001b[39;49m, encoding\u001b[39m=\u001b[39;49m\u001b[39m\"\u001b[39;49m\u001b[39mutf-8\u001b[39;49m\u001b[39m\"\u001b[39;49m) \u001b[39mas\u001b[39;00m f:\n\u001b[0;32m      2\u001b[0m     \u001b[39mprint\u001b[39m(f\u001b[39m.\u001b[39mread())\n",
      "\u001b[1;31mFileNotFoundError\u001b[0m: [Errno 2] No such file or directory: 'surname.txt'"
     ]
    }
   ],
   "source": [
    "#var olmayan dosyayı okumaya çalıştığımızda bu hatayı alırız.\n",
    "with open(\"surname.txt\", \"r\", encoding=\"utf-8\") as f:\n",
    "    print(f.read())"
   ]
  },
  {
   "cell_type": "code",
   "execution_count": 7,
   "metadata": {},
   "outputs": [
    {
     "name": "stdout",
     "output_type": "stream",
     "text": [
      "Dosya Belirtilen Dizinde BUlunamadı\n"
     ]
    }
   ],
   "source": [
    "#okuma işlemi öncesi dosya kontrolü\n",
    "\n",
    "import os\n",
    "if os.path.exists(\"surname.txt\"):\n",
    "    with open(\"surname.txt\",\"r\") as f:\n",
    "        print(f.read())\n",
    "\n",
    "else:\n",
    "    print(\"Dosya Belirtilen Dizinde BUlunamadı\")"
   ]
  },
  {
   "cell_type": "code",
   "execution_count": 8,
   "metadata": {},
   "outputs": [
    {
     "name": "stdout",
     "output_type": "stream",
     "text": [
      "Sude\n",
      "İrem\n",
      "Nihan\n",
      "Zeynep\n",
      "Menekşe\n",
      "\n"
     ]
    }
   ],
   "source": [
    "#okuma işlemi öncesi dosya kontrolü\n",
    "\n",
    "import os\n",
    "\n",
    "def read_file():\n",
    "    with open(\"surname.txt\", \"r\") as f:\n",
    "        print(f.read())\n",
    "\n",
    "if os.path.exists(\"surname.txt\"):\n",
    "    read_file()\n",
    "else:\n",
    "    my_list = [\"Sude\", \"İrem\", \"Nihan\", \"Zeynep\", \"Menekşe\"]\n",
    "    f = open(\"surname.txt\", \"w\")\n",
    "    for name in my_list:\n",
    "        f.write(name + \"\\n\")\n",
    "    f.close()\n",
    "    read_file()\n"
   ]
  },
  {
   "cell_type": "code",
   "execution_count": 11,
   "metadata": {},
   "outputs": [
    {
     "name": "stdout",
     "output_type": "stream",
     "text": [
      "Sude\n",
      "İrem\n",
      "Nihan\n",
      "Zeynep\n",
      "Menekşe\n",
      "\n"
     ]
    }
   ],
   "source": [
    "import os\n",
    "\n",
    "def read_file():\n",
    "    with open(\"surname2.txt\", \"r\") as f:\n",
    "        print(f.read())\n",
    "\n",
    "if os.path.exists(\"surname2.txt\"):\n",
    "    read_file()\n",
    "else:\n",
    "    my_list = [\"Sude\", \"İrem\", \"Nihan\", \"Zeynep\", \"Menekşe\"]\n",
    "    with open(\"surname2.txt\",\"w\") as f:\n",
    "        for name in my_list:\n",
    "            f.write(name + \"\\n\")\n",
    "    f.close()\n",
    "    read_file()"
   ]
  },
  {
   "cell_type": "markdown",
   "metadata": {},
   "source": [
    "**Dosya Okuma Yöntemleri**\n",
    "\n",
    "readlines() => Satır satır okuma işlemi yapar ve değerleri bir liste halinde olur"
   ]
  },
  {
   "cell_type": "code",
   "execution_count": 15,
   "metadata": {},
   "outputs": [
    {
     "name": "stdout",
     "output_type": "stream",
     "text": [
      "Sude\n",
      "\n",
      "İrem\n",
      "\n",
      "Nihan\n",
      "\n",
      "Zeynep\n",
      "\n",
      "Menekşe\n",
      "\n"
     ]
    }
   ],
   "source": [
    "with open(\"surname.txt\", \"r\") as f:\n",
    "    lines = f.readlines()\n",
    "    for i in lines:\n",
    "        print(i)"
   ]
  },
  {
   "cell_type": "code",
   "execution_count": 16,
   "metadata": {},
   "outputs": [
    {
     "ename": "UnsupportedOperation",
     "evalue": "not writable",
     "output_type": "error",
     "traceback": [
      "\u001b[1;31m---------------------------------------------------------------------------\u001b[0m",
      "\u001b[1;31mUnsupportedOperation\u001b[0m                      Traceback (most recent call last)",
      "Cell \u001b[1;32mIn [16], line 2\u001b[0m\n\u001b[0;32m      1\u001b[0m \u001b[39mwith\u001b[39;00m \u001b[39mopen\u001b[39m(\u001b[39m\"\u001b[39m\u001b[39msurname.txt\u001b[39m\u001b[39m\"\u001b[39m, \u001b[39m\"\u001b[39m\u001b[39mr\u001b[39m\u001b[39m\"\u001b[39m) \u001b[39mas\u001b[39;00m f:\n\u001b[1;32m----> 2\u001b[0m     f\u001b[39m.\u001b[39;49mwrite(\u001b[39m\"\u001b[39;49m\u001b[39mŞule\u001b[39;49m\u001b[39m\"\u001b[39;49m)\n",
      "\u001b[1;31mUnsupportedOperation\u001b[0m: not writable"
     ]
    }
   ],
   "source": [
    "#okuma modunda açılan bir dosyaya ekleme yapmak istersek hata alırız.\n",
    "with open(\"surname.txt\", \"r\") as f:\n",
    "    f.write(\"Şule\")"
   ]
  }
 ],
 "metadata": {
  "kernelspec": {
   "display_name": "Python 3.10.8 64-bit (microsoft store)",
   "language": "python",
   "name": "python3"
  },
  "language_info": {
   "codemirror_mode": {
    "name": "ipython",
    "version": 3
   },
   "file_extension": ".py",
   "mimetype": "text/x-python",
   "name": "python",
   "nbconvert_exporter": "python",
   "pygments_lexer": "ipython3",
   "version": "3.10.8"
  },
  "orig_nbformat": 4,
  "vscode": {
   "interpreter": {
    "hash": "75328cd36868a46990b96b50a3e79d16599f753ed0672728bccd76ddc954032c"
   }
  }
 },
 "nbformat": 4,
 "nbformat_minor": 2
}
