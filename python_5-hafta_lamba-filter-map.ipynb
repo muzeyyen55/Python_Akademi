{
 "cells": [
  {
   "cell_type": "markdown",
   "metadata": {},
   "source": [
    "* lambda: Syntax olarak sadece bir ifade (expression) ve birden fazla parametre (arguments) alabilir.\n",
    "\n",
    "* filter: parametre olarak bir lambda yani isimsiz bir fonksiyon ve bir liste alır. Verilen ifadeye uygun elemanları işleme alır ve yeni bir liste döner.\n",
    "\n",
    "* map: parametre olarak bir lambda yani isimsiz bir fonksiyon ve bir liste alır."
   ]
  },
  {
   "cell_type": "code",
   "execution_count": null,
   "metadata": {},
   "outputs": [],
   "source": [
    "double = lambda x: x * 2 #x arguments x*2 expression\n",
    "\n",
    "print(double(15))"
   ]
  },
  {
   "cell_type": "code",
   "execution_count": null,
   "metadata": {},
   "outputs": [],
   "source": [
    "def double(x):\n",
    "    return x*2\n",
    "\n",
    "print(double(15))"
   ]
  },
  {
   "cell_type": "code",
   "execution_count": null,
   "metadata": {},
   "outputs": [],
   "source": [
    "# default değer verme\n",
    "\n",
    "double = lambda x = 2: x * 2\n",
    "\n",
    "print(double())\n",
    "print(double(15))"
   ]
  },
  {
   "cell_type": "code",
   "execution_count": null,
   "metadata": {},
   "outputs": [],
   "source": [
    "min = lambda x, y:x if x < y else y\n",
    "\n",
    "print(min(9,7))"
   ]
  },
  {
   "cell_type": "code",
   "execution_count": null,
   "metadata": {},
   "outputs": [],
   "source": [
    "# iç içe yer alan listeleri lambda fonk ile sıralayalım\n",
    "my_list = [[2, 6, 8, 3, 1], [2, 6, 4, 1, 9], [0, 7, 3, 5, 1]]\n",
    "\n",
    "sortedList = lambda use_list: (sorted(i) for i in use_list)\n",
    "print(list(sortedList(my_list)))"
   ]
  },
  {
   "cell_type": "code",
   "execution_count": null,
   "metadata": {},
   "outputs": [],
   "source": [
    "my_list = [[2, 6, 8, 3, 1], [2, 6, 4, 1, 9], [0, 7, 3, 5, 1]]\n",
    "\n",
    "def sortedList(liste):\n",
    "    for index, item in enumerate(my_list):\n",
    "        my_list[index] = sorted(item)\n",
    "\n",
    "    return my_list\n",
    "\n",
    "print(sortedList(my_list))"
   ]
  },
  {
   "cell_type": "code",
   "execution_count": null,
   "metadata": {},
   "outputs": [],
   "source": [
    "multiplyList = lambda x: (i*10 for i in x)\n",
    "\n",
    "print(list(multiplyList([1, 7, 9, 4, 3])))"
   ]
  },
  {
   "cell_type": "code",
   "execution_count": null,
   "metadata": {},
   "outputs": [],
   "source": [
    "#Liste içerisindeki tek sayıları alma\n",
    "\n",
    "my_list = [1, 2, 43, 5, 6, 7, 34, 0, 77]\n",
    "\n",
    "print(list(filter(lambda x: x % 2 !=0, my_list)))"
   ]
  },
  {
   "cell_type": "code",
   "execution_count": null,
   "metadata": {},
   "outputs": [],
   "source": [
    "my_list = [1, 2, 43, 5, 6, 7, 34, 0, 77]\n",
    "\n",
    "print(list(map(lambda x: x % 2 !=0, my_list)))"
   ]
  },
  {
   "cell_type": "code",
   "execution_count": null,
   "metadata": {},
   "outputs": [],
   "source": [
    "# map ile her elemanın karesini alan kod bloğunu yazalım\n",
    "\n",
    "my_list = [1, 2, 43, 5, 6, 7, 34, 0, 77]\n",
    "\n",
    "print(list(map(lambda x: x**2, my_list)))"
   ]
  },
  {
   "cell_type": "code",
   "execution_count": null,
   "metadata": {},
   "outputs": [],
   "source": [
    "#map ile liste içerisindeki her listenin ilk elemanının 3 katını döndürelim\n",
    "\n",
    "my_list = [1, 2, 43, 5, 6, 7, 34, 0, 77]\n",
    "\n",
    "print(list(map(lambda x:x*[0]*3, my_list)))"
   ]
  },
  {
   "cell_type": "code",
   "execution_count": null,
   "metadata": {},
   "outputs": [],
   "source": [
    "#filter ile [20, 30, 15, 10, 13, 50, 40] listesi içerisindeki >=20 \n",
    "#olanları bulup map ile yeni listedeki değerleri int bölme ile 10' a\n",
    "#bölelim, oluşan listeyi ekrana basalım\n",
    "\n",
    "print(list(map(lambda x:x//10, filter(lambda x:x >= 20, [20, 30, 15, 10, 13, 50, 40]))))"
   ]
  },
  {
   "cell_type": "code",
   "execution_count": null,
   "metadata": {},
   "outputs": [],
   "source": [
    "#Listenin içerisinde yer alan int tipindeki elemanları bulma\n",
    "my_list = [\"Nur\", 34, 2, 89, 6, True, 'a']\n",
    "\n",
    "print(list(filter(lambda x:type(x) == int, my_list)))"
   ]
  },
  {
   "cell_type": "code",
   "execution_count": null,
   "metadata": {},
   "outputs": [],
   "source": [
    "#Liste içerisindeki isimleri büyük harfe çavirme\n",
    "my_list = [\"Ayşe\", \"Melisa\", \"Öykü\", \"Nihan\", \"Müzeyyen\", \"Merve\", \"Menekşe\"]\n",
    "print(list(map(lambda x:x.upper(), my_list)))"
   ]
  }
 ],
 "metadata": {
  "kernelspec": {
   "display_name": "Python 3.9.5 64-bit",
   "language": "python",
   "name": "python3"
  },
  "language_info": {
   "name": "python",
   "version": "3.9.5"
  },
  "orig_nbformat": 4,
  "vscode": {
   "interpreter": {
    "hash": "f6246b25e200e4c5124e3e61789ac81350562f0761bbcf92ad9e48654207659c"
   }
  }
 },
 "nbformat": 4,
 "nbformat_minor": 2
}
