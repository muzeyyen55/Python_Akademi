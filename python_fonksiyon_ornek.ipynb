{
 "cells": [
  {
   "cell_type": "markdown",
   "metadata": {},
   "source": [
    "TAŞ - KAĞIT - MAKAS OYUNU\n",
    "\n",
    "Kağıt taşı yener\n",
    "\n",
    "Taş makası yener\n",
    "\n",
    "Makas kağıdı yener"
   ]
  },
  {
   "cell_type": "code",
   "execution_count": null,
   "metadata": {},
   "outputs": [],
   "source": [
    "import random\n",
    "\n",
    "from prompt_toolkit import print_formatted_text\n",
    "player_score = computer_score = 0\n",
    "def print_result(comp_choice, winner):\n",
    "    print(f\"Bilgisayarın Seçimi:{comp_choice}\\n\\nKazanan:{winner}\")\n",
    "\n",
    "print(\"Taş Kağıt Makas Oyununa Hoş Geldiniz\\n\" + \"-\" *37)\n",
    "\n",
    "while True:\n",
    "    print(\"\\n1 - Taş\\n2 - Kağıt\\n3 - Makas\\n Oyundan Çıkmak İsterseniz Bu Değerler Dışında Bir Değer Giriniz\")\n",
    "    player_choice = int(input(\"Seçiminizi Yapınız\"))\n",
    "    computer_choice = random.choice([1, 2, 3])\n",
    "\n",
    "    if player_choice == computer_choice:\n",
    "        print(\"Beraber yeniden oynayınız\")\n",
    "\n",
    "    elif player_choice == 1:\n",
    "        if computer_choice == 2:\n",
    "            print_result(computer_choice, \"Bilgisayar\")\n",
    "            computer_score += 100\n",
    "\n",
    "        elif computer_choice == 3:\n",
    "            print_result(computer_choice, \"Kullanıcı\")\n",
    "            player_score += 100\n",
    "\n",
    "        elif player_choice == 2:\n",
    "            if computer_score == 1:\n",
    "                print_result(computer_choice, \"Kullanıcı\")\n",
    "                player_score += 100\n",
    "\n",
    "            elif computer_choice == 3:\n",
    "                print_result(computer_choice, \"Bilgisayar\")\n",
    "                computer_score += 100\n",
    "        elif player_choice == 3:\n",
    "            if computer_choice == 1:\n",
    "                print_result(computer_choice, \"Bilgisayar\")\n",
    "                computer_score += 100\n",
    "\n",
    "            elif computer_choice == 2:\n",
    "                print_result(computer_choice, \"Kullanııcı\")\n",
    "                player_score += 100\n",
    "\n",
    "        else:\n",
    "            break\n",
    "    print(\"\\n\\n Kullanıcı Skoru {player_score} - Bilgisayarın Skorun {computer_score}\")"
   ]
  },
  {
   "cell_type": "code",
   "execution_count": null,
   "metadata": {},
   "outputs": [],
   "source": [
    "import random\n",
    "\n",
    "player_score = computer_score = computer_choice = 0\n",
    "\n",
    "def print_result(winner = \"Bilgisayar\"):\n",
    "    print(f\"Bilgisayarın Seçimi: {computer_choice}\\n\\n Kazanan: {winner}\")\n",
    "\n",
    "    global player_score, computer_score\n",
    "    \n",
    "    if winner == \"Bilgisayar\":\n",
    "        computer_score += 100\n",
    "    else:\n",
    "        player_score += 100\n",
    "\n",
    "print(\"TAŞ - KAĞIT - MAKAS OYUNUNA HOŞGELDİNİZ! \\n \" + \"-\"*37)\n",
    "\n",
    "while True:\n",
    "    print(\"\\n1 - Taş\\n2 - Kağıt \\n3 - Makas \\noYUNDAN Çıkmak İsterseniz Bu Değerler Dışında Bir Değer Giriniz\")\n",
    "    player_choice = int(input(\"Seçiminizi Yapınız\"))\n",
    "    computer_choice = random.choice([1, 2, 3])\n",
    "\n",
    "    if player_choice == computer_choice:\n",
    "        print(\"Beraber, yeniden oynayınız\")\n",
    "    elif player_choice == 1:\n",
    "        if computer_choice == 2:\n",
    "            print_result()\n",
    "        elif computer_choice == 3:\n",
    "            print_result(\"Kullanıcı\")\n",
    "    elif player_choice == 2:\n",
    "        if computer_choice == 1:\n",
    "            print_result(\"Kullanıcı\")\n",
    "        elif computer_choice == 3:\n",
    "            print_result()\n",
    "    elif player_choice == 3:\n",
    "        if computer_choice == 1:\n",
    "                print_result()\n",
    "        elif computer_choice == 2:\n",
    "            print_result(\"Kullanıcı\")\n",
    "    else:\n",
    "        break\n",
    "\n",
    "    print(f\"\\n\\n Kullanıcı Skoru {player_score} - Bilgisayarın Skoru {computer_score}\")\n",
    "    if player_score > computer_score: print(\"Kazanan Kullanıcı\")\n",
    "    elif player_score < computer_score: print(\"Kazanan Bilgisayar\")\n",
    "    else: print(\"Oyun Berabere\")"
   ]
  },
  {
   "cell_type": "markdown",
   "metadata": {},
   "source": [
    "Bilgisayardan Sayı Tahmin Oyunu"
   ]
  },
  {
   "cell_type": "code",
   "execution_count": null,
   "metadata": {},
   "outputs": [],
   "source": [
    "from random import randint\n",
    "\n",
    "def guess(number):\n",
    "    user_number = int(input(\"Sayı Tahmin Oyunu İçin 1 - 100 Arasında Bir Tahminde Bulunuz\"))\n",
    "    while number != user_number:\n",
    "        if number < user_number:\n",
    "            print(\"Üzgünüm, Daha Küçük Bir Tahminde Bulunmalısın\")\n",
    "        else:\n",
    "            print(\"Üzgünüm, Daha Büyük Bir Tahminde Bulunmalısın\")\n",
    "            user_number = int(input(\"Lütfen Yeniden Bir Tahminde Bulunuz\"))\n",
    "    else:\n",
    "        print(\"Tebrikler, Doğru Tahmimn!\")\n",
    "guess(randint(1, 100))"
   ]
  },
  {
   "cell_type": "markdown",
   "metadata": {},
   "source": [
    "Sayı Tahmin Oyunu"
   ]
  },
  {
   "cell_type": "code",
   "execution_count": null,
   "metadata": {},
   "outputs": [],
   "source": [
    "import random\n",
    "\n",
    "def computer_guess(x):\n",
    "    start = 1\n",
    "    end = 100\n",
    "    result=\"\"\n",
    "    while result != \"d\":\n",
    "        guess = random.randint(start, end)\n",
    "        result = input(f\"{guess} değeri aklından tuttuğun değerden büyükse(b), küçükse(k), doğruysa(d) harfini giriniz:\").lover()\n",
    "        if result == \"b\":\n",
    "            end = guess - 1\n",
    "        elif result == \"k\":\n",
    "                start = guess + 1\n",
    "        print(\"Tebrikler!\")\n",
    "    computer_guess(19)"
   ]
  }
 ],
 "metadata": {
  "kernelspec": {
   "display_name": "Python 3.9.5 64-bit",
   "language": "python",
   "name": "python3"
  },
  "language_info": {
   "codemirror_mode": {
    "name": "ipython",
    "version": 3
   },
   "file_extension": ".py",
   "mimetype": "text/x-python",
   "name": "python",
   "nbconvert_exporter": "python",
   "pygments_lexer": "ipython3",
   "version": "3.9.5"
  },
  "orig_nbformat": 4,
  "vscode": {
   "interpreter": {
    "hash": "f6246b25e200e4c5124e3e61789ac81350562f0761bbcf92ad9e48654207659c"
   }
  }
 },
 "nbformat": 4,
 "nbformat_minor": 2
}
