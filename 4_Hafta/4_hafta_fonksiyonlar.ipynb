{
 "cells": [
  {
   "cell_type": "markdown",
   "metadata": {},
   "source": [
    "**FONKSİYONLAR**\n",
    "\n",
    "Sürekli tekrarlanması gereken işlemlerde aynı kodu tekrar yazmadan \n",
    "aynı işlevi türden çok kez gerçekleşebildiğimiz durumlarda kullanılır.\n",
    "\n",
    "def anahtar kelimesi ile oluşturulur\n",
    "def fonksiyon_ismi(): (required)\n",
    "    return(optional)"
   ]
  },
  {
   "cell_type": "markdown",
   "metadata": {},
   "source": [
    "* Parametreli\n",
    "\n",
    "* Parametresiz"
   ]
  },
  {
   "cell_type": "code",
   "execution_count": 1,
   "metadata": {},
   "outputs": [
    {
     "name": "stdout",
     "output_type": "stream",
     "text": [
      "Hoş Geldiniz\n"
     ]
    }
   ],
   "source": [
    "def selamla():\n",
    "    print(\"Hoş Geldiniz\")\n",
    "\n",
    "selamla()"
   ]
  },
  {
   "cell_type": "code",
   "execution_count": 2,
   "metadata": {},
   "outputs": [
    {
     "name": "stdout",
     "output_type": "stream",
     "text": [
      "Hoş GeldinizNur\n"
     ]
    }
   ],
   "source": [
    "def selamla(name):\n",
    "    print(f\"Hoş Geldiniz{name}\")\n",
    "\n",
    "selamla(\"Nur\")"
   ]
  },
  {
   "cell_type": "code",
   "execution_count": 4,
   "metadata": {},
   "outputs": [
    {
     "name": "stdout",
     "output_type": "stream",
     "text": [
      "Sonuc: 13\n"
     ]
    }
   ],
   "source": [
    "from unittest import result\n",
    "def add(number_1, number_2):\n",
    "    number_3 = number_1 + number_2\n",
    "    return number_3\n",
    "\n",
    "result = add(4, 9)\n",
    "print(\"Sonuc:\", result)"
   ]
  },
  {
   "cell_type": "code",
   "execution_count": 5,
   "metadata": {},
   "outputs": [
    {
     "name": "stdout",
     "output_type": "stream",
     "text": [
      "Sonuc: 13\n"
     ]
    }
   ],
   "source": [
    "def add(number_1, number_2):\n",
    "    return number_1 + number_2\n",
    "\n",
    "print(\"Sonuc:\", add(4, 9))"
   ]
  },
  {
   "cell_type": "code",
   "execution_count": 6,
   "metadata": {},
   "outputs": [
    {
     "name": "stdout",
     "output_type": "stream",
     "text": [
      "Sonuc: (11, 6)\n"
     ]
    }
   ],
   "source": [
    "def add(number_1, number_2):\n",
    "    return number_1 + number_2\n",
    "\n",
    "def add2(total, x):\n",
    "    print(\"Sonuc:\", (total, x))\n",
    "\n",
    "result = add(4, 7)\n",
    "add2(result, 6)"
   ]
  },
  {
   "cell_type": "code",
   "execution_count": 7,
   "metadata": {},
   "outputs": [
    {
     "name": "stdout",
     "output_type": "stream",
     "text": [
      "46\n"
     ]
    }
   ],
   "source": [
    "#Modülün import edilmesi ile beraber fonskiyon kullanımı\n",
    "\n",
    "import random\n",
    "print(random.randint(10, 200))"
   ]
  },
  {
   "cell_type": "code",
   "execution_count": 8,
   "metadata": {},
   "outputs": [
    {
     "name": "stdout",
     "output_type": "stream",
     "text": [
      "149\n"
     ]
    }
   ],
   "source": [
    "#Modülün import edilmesi ile beraber fonskiyon kullanımı\n",
    "\n",
    "from random import randint\n",
    "print(randint(10, 200))"
   ]
  },
  {
   "cell_type": "code",
   "execution_count": 9,
   "metadata": {},
   "outputs": [
    {
     "name": "stdout",
     "output_type": "stream",
     "text": [
      "İki Değerin; \n",
      "Toplamı: 15\n",
      "Çıkarma: 9\n",
      "Çarpma: 36\n",
      "Bölme: 4.0\n"
     ]
    }
   ],
   "source": [
    "#Birden Fazla Dönüş\n",
    "\n",
    "def calculater(num1, num2):\n",
    "    add = num1 + num2\n",
    "    sub = num1 - num2\n",
    "    multiply = num1 * num2\n",
    "    division = num1 / num2\n",
    "\n",
    "    return add, sub, multiply, division\n",
    "\n",
    "a, b, c, d = calculater(12, 3)\n",
    "print(f\"İki Değerin; \\nToplamı: {a}\\nÇıkarma: {b}\\nÇarpma: {c}\\nBölme: {d}\")"
   ]
  },
  {
   "cell_type": "markdown",
   "metadata": {},
   "source": [
    "Fonksiyonların içerisinde değişkenlerin kapsamı\n",
    "\n",
    "* Yerel Değişken\n",
    "\n",
    "* Global Değişken"
   ]
  },
  {
   "cell_type": "code",
   "execution_count": 10,
   "metadata": {},
   "outputs": [
    {
     "name": "stdout",
     "output_type": "stream",
     "text": [
      "Fonksiyon içerisinde Local\n",
      "Fonksiyon içerisinde Global\n",
      "Fonksiyon dışında Global\n"
     ]
    }
   ],
   "source": [
    "global_variable = \"Global\"\n",
    "\n",
    "def func():\n",
    "    local_variable = \"Local\"\n",
    "    print(\"Fonksiyon içerisinde\", local_variable)\n",
    "    print(\"Fonksiyon içerisinde\", global_variable)\n",
    "\n",
    "func()\n",
    "print(\"Fonksiyon dışında\", global_variable)\n",
    "#print(\"Fonksiyon dışında\", local_variable)"
   ]
  },
  {
   "cell_type": "code",
   "execution_count": 11,
   "metadata": {},
   "outputs": [
    {
     "name": "stdout",
     "output_type": "stream",
     "text": [
      "9\n",
      "4\n",
      "9\n"
     ]
    }
   ],
   "source": [
    "a = 9\n",
    "\n",
    "def print1():\n",
    "    print(a) #global\n",
    "\n",
    "def print2():\n",
    "    a = 4    #yerel\n",
    "    print(a)\n",
    "\n",
    "def print3():\n",
    "    print(a) #global\n",
    "\n",
    "print1()\n",
    "print2()\n",
    "print3()"
   ]
  },
  {
   "cell_type": "code",
   "execution_count": 12,
   "metadata": {},
   "outputs": [
    {
     "name": "stdout",
     "output_type": "stream",
     "text": [
      "9\n",
      "4\n",
      "4\n"
     ]
    }
   ],
   "source": [
    "a = 9\n",
    "\n",
    "def print1():\n",
    "    print(a) #global\n",
    "\n",
    "def print2():\n",
    "    global a\n",
    "    a = 4    #global\n",
    "    print(a)\n",
    "\n",
    "def print3():\n",
    "    print(a) #global\n",
    "\n",
    "print1()\n",
    "print2()\n",
    "print3()"
   ]
  },
  {
   "cell_type": "code",
   "execution_count": 13,
   "metadata": {},
   "outputs": [
    {
     "name": "stdout",
     "output_type": "stream",
     "text": [
      "Hoş Geldin Nur\n",
      "Hoş Geldin SistersLab\n"
     ]
    }
   ],
   "source": [
    "#name kısmı bir değer döndürmek istemiyorsak default değerine \n",
    "#değer döndürme işlemi yaparız\n",
    "\n",
    "def say_hello(name = \"SistersLab\"):\n",
    "    print(\"Hoş Geldin\", name)\n",
    "\n",
    "say_hello(\"Nur\")\n",
    "say_hello()"
   ]
  },
  {
   "cell_type": "code",
   "execution_count": 14,
   "metadata": {},
   "outputs": [
    {
     "name": "stdout",
     "output_type": "stream",
     "text": [
      "Nur adlı personel 23 yaşında. Maaşı: 10000\n",
      "Müzeyyen adlı personel 24 yaşında. Maaşı: 5000\n"
     ]
    }
   ],
   "source": [
    "def person(name, age, salary = 5000):\n",
    "    print(f\"{name} adlı personel {age} yaşında. Maaşı: {salary}\")\n",
    "\n",
    "person(\"Nur\", 23, 10000)\n",
    "person(\"Müzeyyen\", 24)"
   ]
  },
  {
   "cell_type": "code",
   "execution_count": 15,
   "metadata": {},
   "outputs": [
    {
     "name": "stdout",
     "output_type": "stream",
     "text": [
      "Toplam: 0\n",
      "Toplam: 19\n",
      "Toplam: 110.6\n"
     ]
    }
   ],
   "source": [
    "def add(*numbers): #* birden fazla değer almamızı sağlar\n",
    "    total =0\n",
    "    for i in numbers:\n",
    "        total += i\n",
    "    print(\"Toplam:\", total)\n",
    "\n",
    "add() #0 argument\n",
    "add(1, 4, 6, 8) #4 argument\n",
    "add(13.6, 7, 90) #3 argument"
   ]
  },
  {
   "cell_type": "code",
   "execution_count": 18,
   "metadata": {},
   "outputs": [
    {
     "ename": "TypeError",
     "evalue": "'tuple' object cannot be interpreted as an integer",
     "output_type": "error",
     "traceback": [
      "\u001b[1;31m---------------------------------------------------------------------------\u001b[0m",
      "\u001b[1;31mTypeError\u001b[0m                                 Traceback (most recent call last)",
      "Cell \u001b[1;32mIn [18], line 11\u001b[0m\n\u001b[0;32m      8\u001b[0m end \u001b[39m=\u001b[39m \u001b[39mint\u001b[39m(\u001b[39minput\u001b[39m(\u001b[39m\"\u001b[39m\u001b[39mBitiş Değeri:\u001b[39m\u001b[39m\"\u001b[39m)),\n\u001b[0;32m     10\u001b[0m total \u001b[39m=\u001b[39m count \u001b[39m=\u001b[39m \u001b[39m0\u001b[39m\n\u001b[1;32m---> 11\u001b[0m \u001b[39mfor\u001b[39;00m i \u001b[39min\u001b[39;00m \u001b[39mrange\u001b[39;49m(start, end):\n\u001b[0;32m     12\u001b[0m     \u001b[39mif\u001b[39;00m isEven(i):\n\u001b[0;32m     13\u001b[0m         total \u001b[39m+\u001b[39m\u001b[39m=\u001b[39m i\n",
      "\u001b[1;31mTypeError\u001b[0m: 'tuple' object cannot be interpreted as an integer"
     ]
    }
   ],
   "source": [
    "#Kullanıcının girdiği bir sayı arasındaki çift sayıları bulup \n",
    "#ortalamasını alan bir fonksiyon yazın\n",
    "\n",
    "def isEven(num):\n",
    "    return num % 2 == 0\n",
    "\n",
    "start = int(input(\"Başlangıç Değeri:\"))\n",
    "end = int(input(\"Bitiş Değeri:\")),\n",
    "\n",
    "total = count = 0\n",
    "for i in range(start, end):\n",
    "    if isEven(i):\n",
    "        total += i\n",
    "        count += 1\n",
    "\n",
    "print(f\"{start} ile {end} Değerleri Arasındaki Çift Sayıların Ortalaması:\", total / count)"
   ]
  },
  {
   "cell_type": "code",
   "execution_count": 19,
   "metadata": {},
   "outputs": [
    {
     "name": "stdout",
     "output_type": "stream",
     "text": [
      "True\n"
     ]
    }
   ],
   "source": [
    "#Bir sayının asal olup olmadığını fonksiyonunu yazalım\n",
    "\n",
    "def asal(number):\n",
    "    result = True\n",
    "    for i in range(2, number):\n",
    "        if number % i == 0:\n",
    "            result = False\n",
    "            break\n",
    "\n",
    "    return result\n",
    "\n",
    "print(asal(17))"
   ]
  }
 ],
 "metadata": {
  "kernelspec": {
   "display_name": "Python 3.10.8 64-bit (microsoft store)",
   "language": "python",
   "name": "python3"
  },
  "language_info": {
   "codemirror_mode": {
    "name": "ipython",
    "version": 3
   },
   "file_extension": ".py",
   "mimetype": "text/x-python",
   "name": "python",
   "nbconvert_exporter": "python",
   "pygments_lexer": "ipython3",
   "version": "3.10.8"
  },
  "orig_nbformat": 4,
  "vscode": {
   "interpreter": {
    "hash": "75328cd36868a46990b96b50a3e79d16599f753ed0672728bccd76ddc954032c"
   }
  }
 },
 "nbformat": 4,
 "nbformat_minor": 2
}
