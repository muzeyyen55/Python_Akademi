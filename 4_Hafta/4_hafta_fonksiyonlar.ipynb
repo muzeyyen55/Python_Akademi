{
 "cells": [
  {
   "cell_type": "markdown",
   "metadata": {},
   "source": [
    "**FONKSİYONLAR**\n",
    "\n",
    "Sürekli tekrarlanması gereken işlemlerde aynı kodu tekrar yazmadan \n",
    "aynı işlevi türden çok kez gerçekleşebildiğimiz durumlarda kullanılır.\n",
    "\n",
    "def anahtar kelimesi ile oluşturulur\n",
    "def fonksiyon_ismi(): (required)\n",
    "    return(optional)"
   ]
  },
  {
   "cell_type": "markdown",
   "metadata": {},
   "source": [
    "* Parametreli\n",
    "\n",
    "* Parametresiz"
   ]
  },
  {
   "cell_type": "code",
   "execution_count": null,
   "metadata": {},
   "outputs": [],
   "source": [
    "def selamla():\n",
    "    print(\"Hoş Geldiniz\")\n",
    "\n",
    "selamla()"
   ]
  },
  {
   "cell_type": "code",
   "execution_count": null,
   "metadata": {},
   "outputs": [],
   "source": [
    "def selamla(name):\n",
    "    print(f\"Hoş Geldiniz{name}\")\n",
    "\n",
    "selamla(\"Nur\")"
   ]
  },
  {
   "cell_type": "code",
   "execution_count": null,
   "metadata": {},
   "outputs": [],
   "source": [
    "from unittest import result\n",
    "\n",
    "\n",
    "def add(number_1, number_2):\n",
    "    number_3 = number_1 + number_2\n",
    "    return number_3\n",
    "\n",
    "result = add(4, 9)\n",
    "print(\"Sonuc:\", result)"
   ]
  },
  {
   "cell_type": "code",
   "execution_count": null,
   "metadata": {},
   "outputs": [],
   "source": [
    "def add(number_1, number_2):\n",
    "    return number_1 + number_2\n",
    "\n",
    "print(\"Sonuc:\", add(4, 9))"
   ]
  },
  {
   "cell_type": "code",
   "execution_count": null,
   "metadata": {},
   "outputs": [],
   "source": [
    "def add(number_1, number_2):\n",
    "    return number_1 + number_2\n",
    "\n",
    "def add2(total, x):\n",
    "    print(\"Sonuc:\", (total, x))\n",
    "\n",
    "result = add(4, 7)\n",
    "add2(result, 6)"
   ]
  },
  {
   "cell_type": "code",
   "execution_count": null,
   "metadata": {},
   "outputs": [],
   "source": [
    "#Modülün import edilmesi ile beraber fonskiyon kullanımı\n",
    "\n",
    "import random\n",
    "print(random.randint(10, 200))"
   ]
  },
  {
   "cell_type": "code",
   "execution_count": null,
   "metadata": {},
   "outputs": [],
   "source": [
    "#Modülün import edilmesi ile beraber fonskiyon kullanımı\n",
    "\n",
    "from random import randint\n",
    "print(randint(10, 200))"
   ]
  },
  {
   "cell_type": "code",
   "execution_count": null,
   "metadata": {},
   "outputs": [],
   "source": [
    "#Birden Fazla Dönüş\n",
    "\n",
    "def calculater(num1, num2):\n",
    "    add = num1 + num2\n",
    "    sub = num1 - num2\n",
    "    multiply = num1 * num2\n",
    "    division = num1 / num2\n",
    "\n",
    "    return add, sub, multiply, division\n",
    "\n",
    "a, b, c, d = calculater(12, 3)\n",
    "print(f\"İki Değerin; \\nToplamı: {a}\\nÇıkarma: {b}\\nÇarpma: {c}\\nBölme: {d}\")"
   ]
  },
  {
   "cell_type": "markdown",
   "metadata": {},
   "source": [
    "Fonksiyonların içerisinde değişkenlerin kapsamı\n",
    "\n",
    "* Yerel Değişken\n",
    "\n",
    "* Global Değişken"
   ]
  },
  {
   "cell_type": "code",
   "execution_count": null,
   "metadata": {},
   "outputs": [],
   "source": [
    "global_variable = \"Global\"\n",
    "\n",
    "def func():\n",
    "    local_variable = \"Local\"\n",
    "    print(\"Fonksiyon içerisinde\", local_variable)\n",
    "    print(\"Fonksiyon içerisinde\", global_variable)\n",
    "\n",
    "func()\n",
    "print(\"Fonksiyon dışında\", global_variable)\n",
    "#print(\"Fonksiyon dışında\", local_variable)"
   ]
  },
  {
   "cell_type": "code",
   "execution_count": null,
   "metadata": {},
   "outputs": [],
   "source": [
    "a = 9\n",
    "\n",
    "def print1():\n",
    "    print(a) #global\n",
    "\n",
    "def print2():\n",
    "    a = 4    #yerel\n",
    "    print(a)\n",
    "\n",
    "def print3():\n",
    "    print(a) #global\n",
    "\n",
    "print1()\n",
    "print2()\n",
    "print3()"
   ]
  },
  {
   "cell_type": "code",
   "execution_count": null,
   "metadata": {},
   "outputs": [],
   "source": [
    "a = 9\n",
    "\n",
    "def print1():\n",
    "    print(a) #global\n",
    "\n",
    "def print2():\n",
    "    global a\n",
    "    a = 4    #global\n",
    "    print(a)\n",
    "\n",
    "def print3():\n",
    "    print(a) #global\n",
    "\n",
    "print1()\n",
    "print2()\n",
    "print3()"
   ]
  },
  {
   "cell_type": "code",
   "execution_count": null,
   "metadata": {},
   "outputs": [],
   "source": [
    "#name kısmı bir değer döndürmek istemiyorsak default değerine \n",
    "#değer döndürme işlemi yaparız\n",
    "\n",
    "def say_hello(name = \"SistersLab\"):\n",
    "    print(\"Hoş Geldin\", name)\n",
    "\n",
    "say_hello(\"Nur\")\n",
    "say_hello()"
   ]
  },
  {
   "cell_type": "code",
   "execution_count": null,
   "metadata": {},
   "outputs": [],
   "source": [
    "def person(name, age, salary = 5000):\n",
    "    print(f\"{name} adlı personel {age} yaşında. Maaşı: {salary}\")\n",
    "\n",
    "person(\"Nur\", 23, 10000)\n",
    "person(\"Müzeyyen\", 24)"
   ]
  },
  {
   "cell_type": "code",
   "execution_count": null,
   "metadata": {},
   "outputs": [],
   "source": [
    "def add(*numbers): #* birden fazla değer almamızı sağlar\n",
    "    total =0\n",
    "    for i in numbers:\n",
    "        total += i\n",
    "    print(\"Toplam:\", total)\n",
    "\n",
    "add() #0 argument\n",
    "add(1, 4, 6, 8) #4 argument\n",
    "add(13.6, 7, 90) #3 argument"
   ]
  },
  {
   "cell_type": "code",
   "execution_count": null,
   "metadata": {},
   "outputs": [],
   "source": [
    "#Kullanıcının girdiği bir sayı arasındaki çift sayıları bulup \n",
    "#ortalamasını alan bir fonksiyon yazın\n",
    "\n",
    "def isEven(num):\n",
    "    return num % 2 == 0\n",
    "\n",
    "start = int(input(\"Başlangıç Değeri:\"))\n",
    "end = int(input(\"Bitiş Değeri:\")),\n",
    "\n",
    "total = count = 0\n",
    "for i in range(start, end):\n",
    "    if isEven(i):\n",
    "        total += i\n",
    "        count += 1\n",
    "\n",
    "print(f\"{start} ile {end} Değerleri Arasındaki Çift Sayıların Ortalaması:\", total / count)"
   ]
  },
  {
   "cell_type": "code",
   "execution_count": null,
   "metadata": {},
   "outputs": [],
   "source": [
    "#Bir sayının asal olup olmadığını fonksiyonunu yazalım\n",
    "\n",
    "def asal(number):\n",
    "    result = True\n",
    "    for i in range(2, number):\n",
    "        if number % i == 0:\n",
    "            result = False\n",
    "            break\n",
    "\n",
    "    return result\n",
    "\n",
    "print(asal(17))"
   ]
  }
 ],
 "metadata": {
  "kernelspec": {
   "display_name": "Python 3.10.8 64-bit (microsoft store)",
   "language": "python",
   "name": "python3"
  },
  "language_info": {
   "name": "python",
   "version": "3.10.8"
  },
  "orig_nbformat": 4,
  "vscode": {
   "interpreter": {
    "hash": "75328cd36868a46990b96b50a3e79d16599f753ed0672728bccd76ddc954032c"
   }
  }
 },
 "nbformat": 4,
 "nbformat_minor": 2
}
