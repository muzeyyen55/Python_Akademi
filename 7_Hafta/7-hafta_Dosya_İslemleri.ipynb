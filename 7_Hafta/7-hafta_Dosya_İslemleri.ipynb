{
 "cells": [
  {
   "cell_type": "markdown",
   "metadata": {},
   "source": [
    "**DOSYALAMA İŞLEMLERİ**\n",
    "\n",
    "* Dosyayı açma\n",
    "* Dosyadan veri okuma\n",
    "* Dosyaya yazma\n",
    "* Dosya kapatma"
   ]
  },
  {
   "cell_type": "markdown",
   "metadata": {},
   "source": [
    "open(\"dosya_yolu\", \"erisim_modu\")"
   ]
  },
  {
   "cell_type": "markdown",
   "metadata": {},
   "source": [
    "**w (write):** Dosyayı yazma amacıyla açar. Bir dosya var ise dosyanın üzerine yazar.\n",
    "\n",
    "**a:** Dosyanın sonuna ekleme yapar. Yani eklemek istediklerimizi en sona ekler."
   ]
  },
  {
   "cell_type": "code",
   "execution_count": 1,
   "metadata": {},
   "outputs": [],
   "source": [
    "f = open(\"./names.txt\", \"w\", encoding=\"utf-8\")\n",
    "f.write(\"Rüveyda\")\n",
    "f.write(\"Melisa\")\n",
    "f.write(\"Kübra\")\n",
    "f.write(\"Ezgi\")\n",
    "f.write(\"Ayşe Nur\")\n",
    "f.close()"
   ]
  },
  {
   "cell_type": "code",
   "execution_count": 2,
   "metadata": {},
   "outputs": [],
   "source": [
    "f = open(\"./names.txt\", \"a\", encoding=\"utf-8\")\n",
    "f.write(\"Bilge\")\n",
    "f.close()"
   ]
  },
  {
   "cell_type": "code",
   "execution_count": 3,
   "metadata": {},
   "outputs": [],
   "source": [
    "my_list = [\"Müzeyyen\", \"Hatice\", \"Nihan\", \"Aysel Hoca\", \"Zeynep\", \"Menekşe\"]\n",
    "f = open(\"./names2.txt\",\"w\", encoding=\"utf-8\")\n",
    "\n",
    "for name in my_list:\n",
    "    f.write(name + \"\\n\")\n",
    "\n",
    "f.close()"
   ]
  },
  {
   "cell_type": "code",
   "execution_count": 11,
   "metadata": {},
   "outputs": [
    {
     "name": "stdout",
     "output_type": "stream",
     "text": [
      "['.git', '.gitignore', '.vscode', '1-hafta_temel.ipynb', '2-hafta_donusumler.ipynb', '2-hafta_ekders.ipynb', '4-hafta_fonksiyonlar.ipynb', '4-hafta_moduller.ipynb', '5-hafta-veri_yapilari-List.ipynb', '5-hafta_lambda-filter-map.ipynb', '5-hafta_veri_yapilari_Tuple.ipynb', '6-hafta-veri_yapilari_Dictionary.ipynb', '6-hafta_veri_yapilari_Set.ipynb', '7-hafta_Dosya_İslemleri.ipynb', '7-hafta_Hatalar.ipynb', 'names.txt', 'names2.txt', 'README.md']\n"
     ]
    }
   ],
   "source": [
    "import os\n",
    "print(os.listdir()) #Python Akademi dosyanın içinde hangi dosyalar var onu gösteriyor"
   ]
  },
  {
   "cell_type": "code",
   "execution_count": 4,
   "metadata": {},
   "outputs": [
    {
     "name": "stdout",
     "output_type": "stream",
     "text": [
      "True\n"
     ]
    }
   ],
   "source": [
    "print(os.path.isfile(\"./names2.txt\")) #names2.txt adında dosya olup olmadığını gösterir."
   ]
  },
  {
   "cell_type": "markdown",
   "metadata": {},
   "source": [
    "**Farklı Bir Dizinde Dosya Kontrolü**"
   ]
  },
  {
   "cell_type": "code",
   "execution_count": 5,
   "metadata": {},
   "outputs": [],
   "source": [
    "f = open(r\"C:\\Users\\muzey\\hello.txt\",\"w\", encoding=\"utf-8\")\n",
    "my_list = [\"Müzeyyen\", \"Hatice\", \"Nihan\", \"Aysel Hoca\", \"Zeynep\", \"Menekşe\"]\n",
    "\n",
    "for i in my_list:\n",
    "    f.write(i + \"\\n\")\n",
    "\n",
    "f.close()"
   ]
  },
  {
   "cell_type": "code",
   "execution_count": 6,
   "metadata": {},
   "outputs": [],
   "source": [
    "nur = open(\"./greetings.txt\",\"w\")\n",
    "nur.write(\"Hello\")\n",
    "nur.close()\n",
    "\n",
    "\n",
    "\n",
    "with open (\"./greetings.txt\", \"w\", encoding=\"utf-8\") as f:\n",
    "    f.write(\"Hello\")"
   ]
  },
  {
   "cell_type": "code",
   "execution_count": 7,
   "metadata": {},
   "outputs": [],
   "source": [
    "#dosya_example adında oluşturduğumuz dosyanın içindeki names2.txt içindeki yazıya ulaş ve onun içine yaz\n",
    "with open(\"../7_Hafta/dosya_example/names2.txt\",\"w\") as f:\n",
    "    f.write(\"Duygu\")"
   ]
  },
  {
   "cell_type": "code",
   "execution_count": 10,
   "metadata": {},
   "outputs": [
    {
     "name": "stdout",
     "output_type": "stream",
     "text": [
      "Now:  2022-11-07 12:06:49.368581\n",
      "Gün ay yıl:  07-11-2022\n",
      "Gün ay yıl saat  07-11-2022 12:06:49\n",
      "Farklı dizinde gün ay yıl saat 07-11-2022 12:06:49\n"
     ]
    }
   ],
   "source": [
    "#Belirli aralıklarla çalışan bir kadınü her seferinde o anın tarih ve saat \n",
    "#bilgilerini alarak bir dosya oluşturduğunu varsayalım\n",
    "\n",
    "from datetime import datetime\n",
    "time = datetime.now()\n",
    "print(\"Now: \", time)\n",
    "\n",
    "#gün, ay ve yıl\n",
    "print(\"Gün ay yıl: \", time.strftime(\"%d-%m-%Y\"))\n",
    "file_name = time.strftime(\"%d-%m-%Y.txt\")\n",
    "with open(file_name, \"w\") as f:\n",
    "    f.write(\"gün ay yıl \" + file_name)\n",
    "\n",
    "#gün ay yıl saat dakika\n",
    "print(\"Gün ay yıl saat \", time.strftime(\"%d-%m-%Y %H:%M:%S\"))\n",
    "file_name2 = time.strftime(\"%d-%m-%Y-%H-%M-%S.txt\")\n",
    "with open(file_name2, \"w\") as f:\n",
    "    f.write(\"gün ay yıl saat \" + time.strftime(\"%d-%m-%Y %H:%M:%S\"))\n",
    "\n",
    "#farklı dizinde dosyayı oluşturma\n",
    "print(\"Farklı dizinde gün ay yıl saat \" + time.strftime(\"%d-%m-%Y %H:%M:%S\"))\n",
    "file_name3 = time.strftime(\"%d-%m-%Y-%H-%M-%S.txt\")\n",
    "with open(\"../7_Hafta/dosya_example/tarih-saat/\" + file_name3, \"w\") as f:\n",
    "    f.write(\"Farklı dizinde gün ay yıl saat \" + time.strftime(\"%d-%m-%Y %H:%M:%S\"))"
   ]
  },
  {
   "cell_type": "markdown",
   "metadata": {},
   "source": [
    "Dosya Okuma"
   ]
  },
  {
   "cell_type": "code",
   "execution_count": 11,
   "metadata": {},
   "outputs": [
    {
     "name": "stdout",
     "output_type": "stream",
     "text": [
      "Müzeyyen\n",
      "Hatice\n",
      "Nihan\n",
      "Aysel Hoca\n",
      "Zeynep\n",
      "Menekşe\n",
      "\n"
     ]
    }
   ],
   "source": [
    "with open(\"../7_Hafta/names2.txt\", \"r\", encoding=\"utf-8\") as f:\n",
    "    print(f.read())"
   ]
  },
  {
   "cell_type": "code",
   "execution_count": 12,
   "metadata": {},
   "outputs": [
    {
     "ename": "UnicodeDecodeError",
     "evalue": "'utf-8' codec can't decode byte 0xdd in position 6: invalid continuation byte",
     "output_type": "error",
     "traceback": [
      "\u001b[1;31m---------------------------------------------------------------------------\u001b[0m",
      "\u001b[1;31mUnicodeDecodeError\u001b[0m                        Traceback (most recent call last)",
      "Cell \u001b[1;32mIn [12], line 3\u001b[0m\n\u001b[0;32m      1\u001b[0m \u001b[39m#var olmayan dosyayı okumaya çalıştığımızda bu hatayı alırız.\u001b[39;00m\n\u001b[0;32m      2\u001b[0m \u001b[39mwith\u001b[39;00m \u001b[39mopen\u001b[39m(\u001b[39m\"\u001b[39m\u001b[39m../7_Hafta/surname.txt\u001b[39m\u001b[39m\"\u001b[39m, \u001b[39m\"\u001b[39m\u001b[39mr\u001b[39m\u001b[39m\"\u001b[39m, encoding\u001b[39m=\u001b[39m\u001b[39m\"\u001b[39m\u001b[39mutf-8\u001b[39m\u001b[39m\"\u001b[39m) \u001b[39mas\u001b[39;00m f:\n\u001b[1;32m----> 3\u001b[0m     \u001b[39mprint\u001b[39m(f\u001b[39m.\u001b[39;49mread())\n",
      "File \u001b[1;32mC:\\Program Files\\WindowsApps\\PythonSoftwareFoundation.Python.3.10_3.10.2288.0_x64__qbz5n2kfra8p0\\lib\\codecs.py:322\u001b[0m, in \u001b[0;36mBufferedIncrementalDecoder.decode\u001b[1;34m(self, input, final)\u001b[0m\n\u001b[0;32m    319\u001b[0m \u001b[39mdef\u001b[39;00m \u001b[39mdecode\u001b[39m(\u001b[39mself\u001b[39m, \u001b[39minput\u001b[39m, final\u001b[39m=\u001b[39m\u001b[39mFalse\u001b[39;00m):\n\u001b[0;32m    320\u001b[0m     \u001b[39m# decode input (taking the buffer into account)\u001b[39;00m\n\u001b[0;32m    321\u001b[0m     data \u001b[39m=\u001b[39m \u001b[39mself\u001b[39m\u001b[39m.\u001b[39mbuffer \u001b[39m+\u001b[39m \u001b[39minput\u001b[39m\n\u001b[1;32m--> 322\u001b[0m     (result, consumed) \u001b[39m=\u001b[39m \u001b[39mself\u001b[39;49m\u001b[39m.\u001b[39;49m_buffer_decode(data, \u001b[39mself\u001b[39;49m\u001b[39m.\u001b[39;49merrors, final)\n\u001b[0;32m    323\u001b[0m     \u001b[39m# keep undecoded input until the next call\u001b[39;00m\n\u001b[0;32m    324\u001b[0m     \u001b[39mself\u001b[39m\u001b[39m.\u001b[39mbuffer \u001b[39m=\u001b[39m data[consumed:]\n",
      "\u001b[1;31mUnicodeDecodeError\u001b[0m: 'utf-8' codec can't decode byte 0xdd in position 6: invalid continuation byte"
     ]
    }
   ],
   "source": [
    "#var olmayan dosyayı okumaya çalıştığımızda bu hatayı alırız.\n",
    "with open(\"../7_Hafta/surname.txt\", \"r\", encoding=\"utf-8\") as f:\n",
    "    print(f.read())"
   ]
  },
  {
   "cell_type": "code",
   "execution_count": 14,
   "metadata": {},
   "outputs": [
    {
     "name": "stdout",
     "output_type": "stream",
     "text": [
      "Sude\n",
      "İrem\n",
      "Nihan\n",
      "Zeynep\n",
      "Menekşe\n",
      "Nur\n",
      "\n"
     ]
    }
   ],
   "source": [
    "#okuma işlemi öncesi dosya kontrolü\n",
    "\n",
    "import os\n",
    "if os.path.exists(\"surname.txt\"):\n",
    "    with open(\"surname.txt\",\"r\") as f:\n",
    "        print(f.read())\n",
    "\n",
    "else:\n",
    "    print(\"Dosya Belirtilen Dizinde BUlunamadı\")"
   ]
  },
  {
   "cell_type": "code",
   "execution_count": 16,
   "metadata": {},
   "outputs": [
    {
     "name": "stdout",
     "output_type": "stream",
     "text": [
      "Sude\n",
      "İrem\n",
      "Nihan\n",
      "Zeynep\n",
      "Menekşe\n",
      "Nur\n",
      "\n"
     ]
    }
   ],
   "source": [
    "#okuma işlemi öncesi dosya kontrolü\n",
    "\n",
    "import os\n",
    "\n",
    "def read_file():\n",
    "    with open(\"../7_Hafta/surname.txt\", \"r\") as f:\n",
    "        print(f.read())\n",
    "\n",
    "if os.path.exists(\"../7_Hafta/surname.txt\"):\n",
    "    read_file()\n",
    "else:\n",
    "    my_list = [\"Sude\", \"İrem\", \"Nihan\", \"Zeynep\", \"Menekşe\"]\n",
    "    f = open(\"../7_Hafta/surname.txt\", \"w\")\n",
    "    for name in my_list:\n",
    "        f.write(name + \"\\n\")\n",
    "    f.close()\n",
    "    read_file()\n"
   ]
  },
  {
   "cell_type": "code",
   "execution_count": 17,
   "metadata": {},
   "outputs": [
    {
     "name": "stdout",
     "output_type": "stream",
     "text": [
      "Sude\n",
      "İrem\n",
      "Nihan\n",
      "Zeynep\n",
      "Menekşe\n",
      "\n"
     ]
    }
   ],
   "source": [
    "import os\n",
    "\n",
    "def read_file():\n",
    "    with open(\"../7_Hafta/surname2.txt\", \"r\") as f:\n",
    "        print(f.read())\n",
    "\n",
    "if os.path.exists(\"../7_Hafta/surname2.txt\"):\n",
    "    read_file()\n",
    "else:\n",
    "    my_list = [\"Sude\", \"İrem\", \"Nihan\", \"Zeynep\", \"Menekşe\"]\n",
    "    with open(\"../7_Hafta/surname2.txt\",\"w\") as f:\n",
    "        for name in my_list:\n",
    "            f.write(name + \"\\n\")\n",
    "    f.close()\n",
    "    read_file()"
   ]
  },
  {
   "cell_type": "markdown",
   "metadata": {},
   "source": [
    "**Dosya Okuma Yöntemleri**\n",
    "\n",
    "**readlines():** Satır satır okuma işlemi yapar ve değerleri bir liste halinde olur"
   ]
  },
  {
   "cell_type": "code",
   "execution_count": 18,
   "metadata": {},
   "outputs": [
    {
     "name": "stdout",
     "output_type": "stream",
     "text": [
      "Sude\n",
      "\n",
      "İrem\n",
      "\n",
      "Nihan\n",
      "\n",
      "Zeynep\n",
      "\n",
      "Menekşe\n",
      "\n",
      "Nur\n",
      "\n"
     ]
    }
   ],
   "source": [
    "with open(\"../7_Hafta/surname.txt\", \"r\") as f:\n",
    "    lines = f.readlines()\n",
    "    for i in lines:\n",
    "        print(i)"
   ]
  },
  {
   "cell_type": "code",
   "execution_count": 16,
   "metadata": {},
   "outputs": [
    {
     "ename": "UnsupportedOperation",
     "evalue": "not writable",
     "output_type": "error",
     "traceback": [
      "\u001b[1;31m---------------------------------------------------------------------------\u001b[0m",
      "\u001b[1;31mUnsupportedOperation\u001b[0m                      Traceback (most recent call last)",
      "Cell \u001b[1;32mIn [16], line 2\u001b[0m\n\u001b[0;32m      1\u001b[0m \u001b[39mwith\u001b[39;00m \u001b[39mopen\u001b[39m(\u001b[39m\"\u001b[39m\u001b[39msurname.txt\u001b[39m\u001b[39m\"\u001b[39m, \u001b[39m\"\u001b[39m\u001b[39mr\u001b[39m\u001b[39m\"\u001b[39m) \u001b[39mas\u001b[39;00m f:\n\u001b[1;32m----> 2\u001b[0m     f\u001b[39m.\u001b[39;49mwrite(\u001b[39m\"\u001b[39;49m\u001b[39mŞule\u001b[39;49m\u001b[39m\"\u001b[39;49m)\n",
      "\u001b[1;31mUnsupportedOperation\u001b[0m: not writable"
     ]
    }
   ],
   "source": [
    "#okuma modunda açılan bir dosyaya ekleme yapmak istersek hata alırız.\n",
    "with open(\"surname.txt\", \"r\") as f:\n",
    "    f.write(\"Şule\")"
   ]
  },
  {
   "cell_type": "code",
   "execution_count": 2,
   "metadata": {},
   "outputs": [
    {
     "name": "stdout",
     "output_type": "stream",
     "text": [
      "Sude\n",
      "İrem\n",
      "Nihan\n",
      "Zeynep\n",
      "Menekşe\n",
      "\n"
     ]
    }
   ],
   "source": [
    "with open(\"../7_Hafta/surname.txt\", \"r+\") as f:\n",
    "    print(f.read())\n",
    "    f.write(\"Nur\\n\")"
   ]
  },
  {
   "cell_type": "code",
   "execution_count": 24,
   "metadata": {},
   "outputs": [
    {
     "name": "stdout",
     "output_type": "stream",
     "text": [
      "Sude\n",
      "\n",
      "İrem\n",
      "\n",
      "Nihan\n",
      "\n",
      "Zeynep\n",
      "\n",
      "Menekşe\n",
      "\n",
      "Nur\n",
      "\n"
     ]
    }
   ],
   "source": [
    "#reversed: tersten okuma işlemi sağlar.\n",
    "\n",
    "with open(\"../7_Hafta/surname.txt\", \"r\") as f:\n",
    "    lines = f.readlines()\n",
    "    for i in (lines):\n",
    "        print(i)"
   ]
  },
  {
   "cell_type": "code",
   "execution_count": 20,
   "metadata": {},
   "outputs": [
    {
     "name": "stdout",
     "output_type": "stream",
     "text": [
      "Nur\n",
      "\n",
      "Menekşe\n",
      "\n",
      "Zeynep\n",
      "\n",
      "Nihan\n",
      "\n",
      "İrem\n",
      "\n",
      "Sude\n",
      "\n"
     ]
    }
   ],
   "source": [
    "#reversed: tersten okuma işlemi sağlar.\n",
    "\n",
    "with open(\"../7_Hafta/surname.txt\", \"r\") as f:\n",
    "    lines = f.readlines()\n",
    "    for i in reversed(lines):\n",
    "        print(i)"
   ]
  },
  {
   "cell_type": "markdown",
   "metadata": {},
   "source": [
    "**Dosya Yazma**\n",
    "\n",
    "**w:** Mevcut içeriğin üzerine yazar.\n",
    "\n",
    "**w+:** Hem yazma hem okuma işlemi yaptırır.\n",
    "\n",
    "**a:** Yazmak için dosya oluşturur. Mevcut dosyayı kaybetmez içine yazdırır.\n",
    "\n",
    "**a+:** Hem okuma hem yazma işlemi yaptırır.\n"
   ]
  },
  {
   "cell_type": "markdown",
   "metadata": {},
   "source": [
    "**Dosya Yazma Yöntemleri**\n",
    "\n",
    "**write():** Tek bir satır ekleme işlemi yapar.\n",
    "\n",
    "**writelines():** Birden fazla satır ekleme işlemi yapar."
   ]
  },
  {
   "cell_type": "code",
   "execution_count": 21,
   "metadata": {},
   "outputs": [],
   "source": [
    "with open(\"../7_Hafta/names.txt\", \"w\") as f:\n",
    "    f.write(\"Merve\")"
   ]
  },
  {
   "cell_type": "code",
   "execution_count": 22,
   "metadata": {},
   "outputs": [],
   "source": [
    "with open(\"../7_Hafta/names.txt\", \"w\") as f:\n",
    "    f.writelines([\"Dilara\", \"\\nBaşak\", \"\\nÇevik\"])"
   ]
  },
  {
   "cell_type": "markdown",
   "metadata": {},
   "source": [
    "**Dosya Arama**\n",
    "\n",
    "**file.seek(imlec_konumu):** İmlacin nereden başlanacağı bilgisi\n",
    "\n",
    "**file.seek(8):**\n",
    "\n",
    "**file.seek(0,2):**\n",
    "\n",
    "**file.seek(4,1):** Geçerli konumunu koru, 4 adım ileri git (1 mevcut konumu neredeyse anlamına gelir.)\n",
    "\n",
    "**file.seek(-4,1):** Geçerli konumunu koru, 4 adım geri git\n",
    "\n",
    "**file.seek(-4,2):**"
   ]
  },
  {
   "cell_type": "code",
   "execution_count": 25,
   "metadata": {},
   "outputs": [
    {
     "name": "stdout",
     "output_type": "stream",
     "text": [
      "de\n",
      "İrem\n",
      "Nihan\n",
      "Zeynep\n",
      "Menekşe\n",
      "Nur\n",
      "\n"
     ]
    }
   ],
   "source": [
    "#ilk karakterin ilk iki karakteri gider diğerlerini yazar ve aşağıya diğer bilgileri de yazdırır\n",
    "with open(\"../7_Hafta/surname.txt\", \"r\") as f:\n",
    "    f.seek(2)\n",
    "    print(f.read())"
   ]
  },
  {
   "cell_type": "code",
   "execution_count": 26,
   "metadata": {},
   "outputs": [
    {
     "name": "stdout",
     "output_type": "stream",
     "text": [
      "Nur\n",
      "\n"
     ]
    }
   ],
   "source": [
    "#sonda yazdığımız karakteri yazar\n",
    "# rb: ikili modda açma işlemi yapar. \n",
    "with open(\"../7_Hafta/surname.txt\", \"rb\") as f:\n",
    "    f.seek(-5,2)\n",
    "    print(f.read().decode(\"utf-8\"))"
   ]
  },
  {
   "cell_type": "markdown",
   "metadata": {},
   "source": [
    "**Dosya Yeniden Adlandırma**"
   ]
  },
  {
   "cell_type": "code",
   "execution_count": 22,
   "metadata": {},
   "outputs": [],
   "source": [
    "import os\n",
    "os.rename(\"names2.txt\", \"name_list.txt\")\n",
    "\n",
    "#var olmayan bir dosyanın ismini değiştirmek istediğimizde hata alırız."
   ]
  },
  {
   "cell_type": "markdown",
   "metadata": {},
   "source": [
    "**Dosya Silme**"
   ]
  },
  {
   "cell_type": "code",
   "execution_count": 23,
   "metadata": {},
   "outputs": [],
   "source": [
    "import os\n",
    "os.remove(\"name_list.txt\")\n",
    "\n",
    "#var olmayan bir dosyayı silmek istediğimizde hata alırız."
   ]
  },
  {
   "cell_type": "code",
   "execution_count": null,
   "metadata": {},
   "outputs": [],
   "source": [
    "#regex noktalama işareti silme"
   ]
  }
 ],
 "metadata": {
  "kernelspec": {
   "display_name": "Python 3.10.8 64-bit (microsoft store)",
   "language": "python",
   "name": "python3"
  },
  "language_info": {
   "codemirror_mode": {
    "name": "ipython",
    "version": 3
   },
   "file_extension": ".py",
   "mimetype": "text/x-python",
   "name": "python",
   "nbconvert_exporter": "python",
   "pygments_lexer": "ipython3",
   "version": "3.10.8"
  },
  "orig_nbformat": 4,
  "vscode": {
   "interpreter": {
    "hash": "75328cd36868a46990b96b50a3e79d16599f753ed0672728bccd76ddc954032c"
   }
  }
 },
 "nbformat": 4,
 "nbformat_minor": 2
}
