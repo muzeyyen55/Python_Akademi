{
 "cells": [
  {
   "cell_type": "markdown",
   "metadata": {},
   "source": [
    "**1-Soru:** \n",
    "\n",
    "0 - 20 arasında karışık sırada sayıları tutan bir listenizin olduğunu düşünün. Bu liste içerisinde n tane sayı eksik. n ve eksik sayıları bulunuz.\n",
    "\n",
    "Örnek: my_list = [0, 7, 5, 8, 2] -> 0-10 arasında\n",
    "\n",
    "6 adet sayı eksiktir. Eksik olan sayılar [1, 3, 4, 6, 9, 10]"
   ]
  },
  {
   "cell_type": "code",
   "execution_count": 2,
   "metadata": {},
   "outputs": [
    {
     "name": "stdout",
     "output_type": "stream",
     "text": [
      "[9, 6, 10, 4, 17, 12, 7, 16, 18, 8, 3, 20, 5, 19, 11, 15, 14, 2, 0, 1, 13]\n",
      "[0, 10, 13, 20, 8, 5]\n",
      "[9, 6, 4, 17, 12, 7, 16, 18, 3, 19, 11, 15, 14, 2, 1]\n"
     ]
    }
   ],
   "source": [
    "#listeyi hazırlama\n",
    "import random\n",
    "\n",
    "my_list = [i for i in range(0, 21)]\n",
    "random.shuffle(my_list)\n",
    "\n",
    "#1.yol\n",
    "remove_list = random.sample(my_list, 6)\n",
    "print(my_list)\n",
    "print(remove_list)\n",
    "\n",
    "for i in remove_list:\n",
    "    my_list.remove(i)\n",
    "\n",
    "#2.yol\n",
    "#del my_list[0:6]\n",
    "\n",
    "print(my_list)"
   ]
  },
  {
   "cell_type": "code",
   "execution_count": 4,
   "metadata": {},
   "outputs": [
    {
     "name": "stdout",
     "output_type": "stream",
     "text": [
      "Listemiz içerisinde 6 tane sayı eksiktir. Eksik olan sayılar [0, 7, 9, 14, 18, 20]\n"
     ]
    }
   ],
   "source": [
    "#1.çözüm\n",
    "\n",
    "my_list = [15, 13, 11, 16, 5, 3, 19, 2, 6, 12, 1, 8, 4, 10, 17]\n",
    "\n",
    "missing_list = []\n",
    "for i in range(0, 21):\n",
    "    if i not in my_list:\n",
    "        missing_list.append(i)\n",
    "\n",
    "print(f\"Listemiz içerisinde {len(missing_list)} tane sayı eksiktir. Eksik olan sayılar {missing_list}\")"
   ]
  },
  {
   "cell_type": "code",
   "execution_count": 3,
   "metadata": {},
   "outputs": [
    {
     "name": "stdout",
     "output_type": "stream",
     "text": [
      "Listemiz içerisinde 6 tane eksiktir. Eksik olan sayılar {0, 7, 9, 14, 18, 20}\n"
     ]
    }
   ],
   "source": [
    "#2.çözüm\n",
    "\n",
    "my_list = [15, 13, 11, 16, 5, 3, 19, 2, 6, 12, 1, 8, 4, 10, 17]\n",
    "my_set = {i for i in range(0,21)}\n",
    "difference_set = my_set - set(my_list)\n",
    "print(f\"Listemiz içerisinde {len(difference_set)} tane eksiktir. Eksik olan sayılar {difference_set}\")"
   ]
  },
  {
   "cell_type": "markdown",
   "metadata": {},
   "source": [
    "**2.Soru** \n",
    "\n",
    "0' dan 100' e kadar karışık sırada sayıları tutan bir listenizin olduğunu düşünün. Bu liste içerisinde bu defa n tane sayı yerine 1 adet sayı eksik. Eksik olan sayıyı bulunuz."
   ]
  },
  {
   "cell_type": "code",
   "execution_count": 1,
   "metadata": {},
   "outputs": [
    {
     "data": {
      "text/plain": [
       "50.0"
      ]
     },
     "execution_count": 1,
     "metadata": {},
     "output_type": "execute_result"
    }
   ],
   "source": [
    "import random\n",
    "\n",
    "my_list = [i for i in range(0, 101)]\n",
    "my_list.remove(random.randint(0, 101))\n",
    "random.shuffle(my_list)\n",
    "\n",
    "diff = (100 * 101) / 2 - sum(my_list)\n",
    "diff"
   ]
  }
 ],
 "metadata": {
  "kernelspec": {
   "display_name": "Python 3.10.8 64-bit (microsoft store)",
   "language": "python",
   "name": "python3"
  },
  "language_info": {
   "codemirror_mode": {
    "name": "ipython",
    "version": 3
   },
   "file_extension": ".py",
   "mimetype": "text/x-python",
   "name": "python",
   "nbconvert_exporter": "python",
   "pygments_lexer": "ipython3",
   "version": "3.10.8"
  },
  "orig_nbformat": 4,
  "vscode": {
   "interpreter": {
    "hash": "75328cd36868a46990b96b50a3e79d16599f753ed0672728bccd76ddc954032c"
   }
  }
 },
 "nbformat": 4,
 "nbformat_minor": 2
}
