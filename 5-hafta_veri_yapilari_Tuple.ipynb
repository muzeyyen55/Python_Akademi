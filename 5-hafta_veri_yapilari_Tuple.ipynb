{
 "cells": [
  {
   "cell_type": "markdown",
   "metadata": {},
   "source": [
    "**TUPLE**\n",
    "\n",
    "   * index ile erişilebilir, ordered yani sıralıdır.\n",
    "   * Tuple değiştirilemezler (immutable). Oluşturulduktan sonra eleman eklenemez, silinemez.\n",
    "   * () parantez içerisinde tanımlanır. Elemanlar (,) ile ayrılır.\n",
    "   * Farklı veri tipleri içerebilir.\n",
    "   * Duplicate veri olabilir. Aynı eleman birden fazla yer alabilir."
   ]
  },
  {
   "cell_type": "code",
   "execution_count": 1,
   "metadata": {},
   "outputs": [],
   "source": [
    "int_tuple = (1, 3, 5)\n",
    "string_tuple = (\"Python\", \"Kotlin\", \"JavaScript\", \"Flutter\")\n",
    "mix_tuple = (1, 6, 4, 1, \"Python\", True, 13.4)"
   ]
  },
  {
   "cell_type": "code",
   "execution_count": 2,
   "metadata": {},
   "outputs": [
    {
     "name": "stdout",
     "output_type": "stream",
     "text": [
      "(1, 6, 4, 1, 'Python', True, 13.4)\n"
     ]
    }
   ],
   "source": [
    "print(mix_tuple)"
   ]
  },
  {
   "cell_type": "code",
   "execution_count": 3,
   "metadata": {},
   "outputs": [
    {
     "name": "stdout",
     "output_type": "stream",
     "text": [
      "Müzeyyen 23 1999\n"
     ]
    }
   ],
   "source": [
    "my_tuple = \"Müzeyyen\", 23, 1999\n",
    "\n",
    "name, age, salary = my_tuple\n",
    "print(name, age, salary)"
   ]
  },
  {
   "cell_type": "code",
   "execution_count": 4,
   "metadata": {},
   "outputs": [
    {
     "name": "stdout",
     "output_type": "stream",
     "text": [
      "Tuple Uzunluğu: 3\n"
     ]
    }
   ],
   "source": [
    "print(\"Tuple Uzunluğu:\", len(my_tuple))"
   ]
  },
  {
   "cell_type": "markdown",
   "metadata": {},
   "source": [
    "**Döngü İle Erişim**"
   ]
  },
  {
   "cell_type": "code",
   "execution_count": 5,
   "metadata": {},
   "outputs": [
    {
     "name": "stdout",
     "output_type": "stream",
     "text": [
      "Müzeyyen\n",
      "23\n",
      "1999\n"
     ]
    }
   ],
   "source": [
    "for i in my_tuple:\n",
    "    print(i)"
   ]
  },
  {
   "cell_type": "code",
   "execution_count": 6,
   "metadata": {},
   "outputs": [
    {
     "name": "stdout",
     "output_type": "stream",
     "text": [
      "0. index değeri: Python\n",
      "1. index değeri: Kotlin\n",
      "2. index değeri: JavaScript\n",
      "3. index değeri: Flutter\n"
     ]
    }
   ],
   "source": [
    "my_tuple = (\"Python\", \"Kotlin\", \"JavaScript\", \"Flutter\")\n",
    "\n",
    "for i in range(len(my_tuple)):\n",
    "    print(f\"{i}. index değeri: {my_tuple[i]}\")"
   ]
  },
  {
   "cell_type": "code",
   "execution_count": 7,
   "metadata": {},
   "outputs": [
    {
     "ename": "IndexError",
     "evalue": "tuple index out of range",
     "output_type": "error",
     "traceback": [
      "\u001b[1;31m---------------------------------------------------------------------------\u001b[0m",
      "\u001b[1;31mIndexError\u001b[0m                                Traceback (most recent call last)",
      "Cell \u001b[1;32mIn [7], line 1\u001b[0m\n\u001b[1;32m----> 1\u001b[0m \u001b[39mprint\u001b[39m(my_tuple[\u001b[39m9\u001b[39;49m])\n",
      "\u001b[1;31mIndexError\u001b[0m: tuple index out of range"
     ]
    }
   ],
   "source": [
    "print(my_tuple[9])"
   ]
  },
  {
   "cell_type": "code",
   "execution_count": 8,
   "metadata": {},
   "outputs": [
    {
     "data": {
      "text/plain": [
       "'Flutter'"
      ]
     },
     "execution_count": 8,
     "metadata": {},
     "output_type": "execute_result"
    }
   ],
   "source": [
    "my_tuple[-1]"
   ]
  },
  {
   "cell_type": "code",
   "execution_count": 9,
   "metadata": {},
   "outputs": [
    {
     "data": {
      "text/plain": [
       "('Kotlin', 'JavaScript')"
      ]
     },
     "execution_count": 9,
     "metadata": {},
     "output_type": "execute_result"
    }
   ],
   "source": [
    "#slicing\n",
    "\n",
    "my_tuple[1:3]"
   ]
  },
  {
   "cell_type": "code",
   "execution_count": 10,
   "metadata": {},
   "outputs": [
    {
     "data": {
      "text/plain": [
       "1"
      ]
     },
     "execution_count": 10,
     "metadata": {},
     "output_type": "execute_result"
    }
   ],
   "source": [
    "#index\n",
    "\n",
    "my_tuple.index(\"Kotlin\")"
   ]
  },
  {
   "cell_type": "code",
   "execution_count": 12,
   "metadata": {},
   "outputs": [
    {
     "data": {
      "text/plain": [
       "1"
      ]
     },
     "execution_count": 12,
     "metadata": {},
     "output_type": "execute_result"
    }
   ],
   "source": [
    "#0 - 3 indexleri arası arar\n",
    "\n",
    "my_tuple.index(\"Kotlin\", 0, 3)"
   ]
  },
  {
   "cell_type": "code",
   "execution_count": 13,
   "metadata": {},
   "outputs": [
    {
     "name": "stdout",
     "output_type": "stream",
     "text": [
      "Kotlin Tuple içerisinde ekli\n"
     ]
    }
   ],
   "source": [
    "if \"Kotlin\" in my_tuple:\n",
    "    print(\"Kotlin Tuple içerisinde ekli\")\n",
    "\n",
    "else:\n",
    "    print(\"Kotlin Tuple içerisinde ekli değil\")"
   ]
  },
  {
   "cell_type": "code",
   "execution_count": 14,
   "metadata": {},
   "outputs": [
    {
     "ename": "TypeError",
     "evalue": "'tuple' object does not support item assignment",
     "output_type": "error",
     "traceback": [
      "\u001b[1;31m---------------------------------------------------------------------------\u001b[0m",
      "\u001b[1;31mTypeError\u001b[0m                                 Traceback (most recent call last)",
      "Cell \u001b[1;32mIn [14], line 1\u001b[0m\n\u001b[1;32m----> 1\u001b[0m my_tuple[\u001b[39m0\u001b[39;49m] \u001b[39m=\u001b[39m \u001b[39m\"\u001b[39m\u001b[39mJava\u001b[39m\u001b[39m\"\u001b[39m\n",
      "\u001b[1;31mTypeError\u001b[0m: 'tuple' object does not support item assignment"
     ]
    }
   ],
   "source": [
    "my_tuple[0] = \"Java\""
   ]
  },
  {
   "cell_type": "code",
   "execution_count": 15,
   "metadata": {},
   "outputs": [
    {
     "name": "stdout",
     "output_type": "stream",
     "text": [
      "Type: <class 'tuple'>\n",
      "Tuple: (1, 2, 3, 4)\n",
      "Convert Type: <class 'list'>\n",
      "Son Hali: (0, 1, 2, 3, 4, 5, 6, 7, 8)\n"
     ]
    }
   ],
   "source": [
    "my_tuple = (1, 2, 3, 4)\n",
    "print(\"Type:\", type(my_tuple))\n",
    "print(\"Tuple:\", my_tuple)\n",
    "\n",
    "temp_list = list(my_tuple)\n",
    "print(\"Convert Type:\", type(temp_list))\n",
    "\n",
    "temp_list.insert(0, 0)\n",
    "temp_list.append(5)\n",
    "temp_list.extend([6, 7, 8])\n",
    "\n",
    "my_tuple = tuple(temp_list)\n",
    "print(\"Son Hali:\", my_tuple)"
   ]
  },
  {
   "cell_type": "code",
   "execution_count": 18,
   "metadata": {},
   "outputs": [
    {
     "name": "stdout",
     "output_type": "stream",
     "text": [
      "(1, 2, 3, 5, [9, 7, 8], 9)\n"
     ]
    }
   ],
   "source": [
    "my_tuple = (1, 2, 3, 5, [6, 7, 8], 9)\n",
    "\n",
    "my_tuple[4][0] = 9\n",
    "\n",
    "print(my_tuple)"
   ]
  },
  {
   "cell_type": "code",
   "execution_count": 19,
   "metadata": {},
   "outputs": [
    {
     "name": "stdout",
     "output_type": "stream",
     "text": [
      "(1, 2, 3, 5, [9, 7, 8], 9)\n"
     ]
    }
   ],
   "source": [
    "my_tuple1 = my_tuple\n",
    "print(my_tuple1)"
   ]
  },
  {
   "cell_type": "code",
   "execution_count": 20,
   "metadata": {},
   "outputs": [
    {
     "data": {
      "text/plain": [
       "9"
      ]
     },
     "execution_count": 20,
     "metadata": {},
     "output_type": "execute_result"
    }
   ],
   "source": [
    "my_tuple = (1, 2, 9, 3, 4)\n",
    "max(my_tuple)"
   ]
  }
 ],
 "metadata": {
  "kernelspec": {
   "display_name": "Python 3.9.5 64-bit",
   "language": "python",
   "name": "python3"
  },
  "language_info": {
   "codemirror_mode": {
    "name": "ipython",
    "version": 3
   },
   "file_extension": ".py",
   "mimetype": "text/x-python",
   "name": "python",
   "nbconvert_exporter": "python",
   "pygments_lexer": "ipython3",
   "version": "3.9.5"
  },
  "orig_nbformat": 4,
  "vscode": {
   "interpreter": {
    "hash": "f6246b25e200e4c5124e3e61789ac81350562f0761bbcf92ad9e48654207659c"
   }
  }
 },
 "nbformat": 4,
 "nbformat_minor": 2
}
