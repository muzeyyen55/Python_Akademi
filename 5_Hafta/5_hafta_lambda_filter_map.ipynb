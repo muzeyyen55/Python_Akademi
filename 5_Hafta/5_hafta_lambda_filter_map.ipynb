{
 "cells": [
  {
   "cell_type": "markdown",
   "metadata": {},
   "source": [
    "**lambda:** Syntax olarak sadece bir ifade (expression) ve birden fazla parametre (arguments) alabilir.\n",
    "\n",
    "**filter:** Parametre olarak bir lambda yani isimsiz bir fonksiyon ve bir liste alır. Verilen ifadeye uygun elemanları işleme alır ve yeni bir liste döner.\n",
    "\n",
    "**map:** Parametre olarak bir lambda yani isimsiz bir fonksiyon ve bir liste alır."
   ]
  },
  {
   "cell_type": "code",
   "execution_count": 1,
   "metadata": {},
   "outputs": [
    {
     "name": "stdout",
     "output_type": "stream",
     "text": [
      "30\n"
     ]
    }
   ],
   "source": [
    "double = lambda x: x * 2 #x arguments x*2 expression\n",
    "\n",
    "print(double(15))"
   ]
  },
  {
   "cell_type": "code",
   "execution_count": 2,
   "metadata": {},
   "outputs": [
    {
     "name": "stdout",
     "output_type": "stream",
     "text": [
      "30\n"
     ]
    }
   ],
   "source": [
    "def double(x):\n",
    "    return x*2\n",
    "\n",
    "print(double(15))"
   ]
  },
  {
   "cell_type": "code",
   "execution_count": 3,
   "metadata": {},
   "outputs": [
    {
     "name": "stdout",
     "output_type": "stream",
     "text": [
      "4\n",
      "30\n"
     ]
    }
   ],
   "source": [
    "# default değer verme\n",
    "\n",
    "double = lambda x = 2: x * 2\n",
    "\n",
    "print(double())\n",
    "print(double(15))"
   ]
  },
  {
   "cell_type": "code",
   "execution_count": 4,
   "metadata": {},
   "outputs": [
    {
     "name": "stdout",
     "output_type": "stream",
     "text": [
      "7\n"
     ]
    }
   ],
   "source": [
    "min = lambda x, y:x if x < y else y\n",
    "\n",
    "print(min(9,7))"
   ]
  },
  {
   "cell_type": "code",
   "execution_count": 5,
   "metadata": {},
   "outputs": [
    {
     "name": "stdout",
     "output_type": "stream",
     "text": [
      "[[1, 2, 3, 6, 8], [1, 2, 4, 6, 9], [0, 1, 3, 5, 7]]\n"
     ]
    }
   ],
   "source": [
    "# iç içe yer alan listeleri lambda fonk ile sıralayalım\n",
    "my_list = [[2, 6, 8, 3, 1], [2, 6, 4, 1, 9], [0, 7, 3, 5, 1]]\n",
    "\n",
    "sortedList = lambda use_list: (sorted(i) for i in use_list)\n",
    "print(list(sortedList(my_list)))"
   ]
  },
  {
   "cell_type": "code",
   "execution_count": 6,
   "metadata": {},
   "outputs": [
    {
     "name": "stdout",
     "output_type": "stream",
     "text": [
      "[[1, 2, 3, 6, 8], [1, 2, 4, 6, 9], [0, 1, 3, 5, 7]]\n"
     ]
    }
   ],
   "source": [
    "my_list = [[2, 6, 8, 3, 1], [2, 6, 4, 1, 9], [0, 7, 3, 5, 1]]\n",
    "\n",
    "def sortedList(liste):\n",
    "    for index, item in enumerate(my_list):\n",
    "        my_list[index] = sorted(item)\n",
    "\n",
    "    return my_list\n",
    "\n",
    "print(sortedList(my_list))"
   ]
  },
  {
   "cell_type": "code",
   "execution_count": 7,
   "metadata": {},
   "outputs": [
    {
     "name": "stdout",
     "output_type": "stream",
     "text": [
      "[10, 70, 90, 40, 30]\n"
     ]
    }
   ],
   "source": [
    "multiplyList = lambda x: (i*10 for i in x)\n",
    "\n",
    "print(list(multiplyList([1, 7, 9, 4, 3])))"
   ]
  },
  {
   "cell_type": "code",
   "execution_count": 8,
   "metadata": {},
   "outputs": [
    {
     "name": "stdout",
     "output_type": "stream",
     "text": [
      "[1, 43, 5, 7, 77]\n"
     ]
    }
   ],
   "source": [
    "#Liste içerisindeki tek sayıları alma\n",
    "\n",
    "my_list = [1, 2, 43, 5, 6, 7, 34, 0, 77]\n",
    "\n",
    "print(list(filter(lambda x: x % 2 !=0, my_list)))"
   ]
  },
  {
   "cell_type": "code",
   "execution_count": 9,
   "metadata": {},
   "outputs": [
    {
     "name": "stdout",
     "output_type": "stream",
     "text": [
      "[True, False, True, True, False, True, False, False, True]\n"
     ]
    }
   ],
   "source": [
    "my_list = [1, 2, 43, 5, 6, 7, 34, 0, 77]\n",
    "\n",
    "print(list(map(lambda x: x % 2 !=0, my_list)))"
   ]
  },
  {
   "cell_type": "code",
   "execution_count": 10,
   "metadata": {},
   "outputs": [
    {
     "name": "stdout",
     "output_type": "stream",
     "text": [
      "[1, 4, 1849, 25, 36, 49, 1156, 0, 5929]\n"
     ]
    }
   ],
   "source": [
    "# map ile her elemanın karesini alan kod bloğunu yazalım\n",
    "\n",
    "my_list = [1, 2, 43, 5, 6, 7, 34, 0, 7]\n",
    "\n",
    "print(list(map(lambda x: x**2, my_list)))"
   ]
  },
  {
   "cell_type": "code",
   "execution_count": null,
   "metadata": {},
   "outputs": [],
   "source": [
    "#map ile liste içerisindeki her listenin ilk elemanının 3 katını döndürelim\n",
    "\n",
    "my_list = [[2, 6, 8, 3, 1], [7, 6, 4, 1, 9], [9, 7, 3, 5, 1]]\n",
    "\n",
    "print(list(map(lambda x:x*[0]*3, my_list)))"
   ]
  },
  {
   "cell_type": "code",
   "execution_count": 14,
   "metadata": {},
   "outputs": [
    {
     "name": "stdout",
     "output_type": "stream",
     "text": [
      "[2, 3, 5, 4]\n"
     ]
    }
   ],
   "source": [
    "#filter ile [20, 30, 15, 10, 13, 50, 40] listesi içerisindeki >=20 \n",
    "#olanları bulup map ile yeni listedeki değerleri int bölme ile 10' a\n",
    "#bölelim, oluşan listeyi ekrana basalım\n",
    "\n",
    "print(list(map(lambda x:x//10, filter(lambda x:x >= 20, [20, 30, 15, 10, 13, 50, 40]))))"
   ]
  },
  {
   "cell_type": "code",
   "execution_count": 15,
   "metadata": {},
   "outputs": [
    {
     "name": "stdout",
     "output_type": "stream",
     "text": [
      "[34, 2, 89, 6]\n"
     ]
    }
   ],
   "source": [
    "#Listenin içerisinde yer alan int tipindeki elemanları bulma\n",
    "my_list = [\"Nur\", 34, 2, 89, 6, True, 'a']\n",
    "\n",
    "print(list(filter(lambda x:type(x) == int, my_list)))"
   ]
  },
  {
   "cell_type": "code",
   "execution_count": 16,
   "metadata": {},
   "outputs": [
    {
     "name": "stdout",
     "output_type": "stream",
     "text": [
      "['AYŞE', 'MELISA', 'ÖYKÜ', 'NIHAN', 'MÜZEYYEN', 'MERVE', 'MENEKŞE']\n"
     ]
    }
   ],
   "source": [
    "#Liste içerisindeki isimleri büyük harfe çavirme\n",
    "my_list = [\"Ayşe\", \"Melisa\", \"Öykü\", \"Nihan\", \"Müzeyyen\", \"Merve\", \"Menekşe\"]\n",
    "print(list(map(lambda x:x.upper(), my_list)))"
   ]
  }
 ],
 "metadata": {
  "kernelspec": {
   "display_name": "Python 3.10.8 64-bit (microsoft store)",
   "language": "python",
   "name": "python3"
  },
  "language_info": {
   "codemirror_mode": {
    "name": "ipython",
    "version": 3
   },
   "file_extension": ".py",
   "mimetype": "text/x-python",
   "name": "python",
   "nbconvert_exporter": "python",
   "pygments_lexer": "ipython3",
   "version": "3.10.8"
  },
  "orig_nbformat": 4,
  "vscode": {
   "interpreter": {
    "hash": "75328cd36868a46990b96b50a3e79d16599f753ed0672728bccd76ddc954032c"
   }
  }
 },
 "nbformat": 4,
 "nbformat_minor": 2
}
