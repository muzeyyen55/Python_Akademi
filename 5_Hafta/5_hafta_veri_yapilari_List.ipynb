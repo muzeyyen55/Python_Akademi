{
 "cells": [
  {
   "cell_type": "markdown",
   "metadata": {},
   "source": [
    "**VERİ YAPILARI**\n",
    "\n",
    "* List\n",
    "\n",
    "* Tuple\n",
    "\n",
    "* Set\n",
    "\n",
    "* Dictionary\n",
    "\n",
    "**Listeler**\n",
    "\n",
    "* index ile erişilebilir, ordered yani sıralıdır.\n",
    "* mutable(değiştirilebilir) yani liste içine eklenen bir veri değiştirilebilir\n",
    "* [ ] ile tanımlanır. Liste elemanları da (,) ile ayrılır.\n",
    "* Farklı tipte veri içerebilir.\n",
    "* Aynı değerlere sahip iki elemana sahip olabilir. Duplicate veri barındırabilir"
   ]
  },
  {
   "cell_type": "code",
   "execution_count": null,
   "metadata": {},
   "outputs": [],
   "source": [
    "list_int = [1, 6, 8, 4, -1, 1]\n",
    "list_string = [\"Nur\",\"Müzeyyen\",\"Enes\",\"Reşit\",\"Türkan\"]\n",
    "list_bool = [True, False]\n",
    "list_float = [1.2, 4.5, 13.6]\n",
    "\n",
    "list_mix = [\"Hatice\", 23, 10000, True, 13.4]"
   ]
  },
  {
   "cell_type": "code",
   "execution_count": null,
   "metadata": {},
   "outputs": [],
   "source": [
    "#Elemanlara index ile erişim: eğer pozitif olarek erişmek için 0 dan başlıyor, \n",
    "# negatif den başlamak istiyorsak -1 den ilerliyoruz.\n",
    "\n",
    "print(list_mix)\n",
    "\n",
    "print(\"\\npozitif indexler ile erişim\")\n",
    "print(\"0. index değeri:\", list_mix[0])\n",
    "print(\"1. index değeri:\", list_mix[1])\n",
    "print(\"2. index değeri:\", list_mix[2])\n",
    "\n",
    "print(\"\\nnegatif indexler ile erişim\")\n",
    "print(\"-1. index değeri:\", list_mix[-1])\n",
    "print(\"-2. index değeri:\", list_mix[-2])\n",
    "print(\"-3. index değeri:\", list_mix[-3])"
   ]
  },
  {
   "cell_type": "code",
   "execution_count": null,
   "metadata": {},
   "outputs": [],
   "source": [
    "list_mix[7] #var olmayan bir index yazarsak hata alırız"
   ]
  },
  {
   "cell_type": "code",
   "execution_count": null,
   "metadata": {},
   "outputs": [],
   "source": [
    "#indexlere her zaman int bir değerle yapmalıyız.\n",
    "\n",
    "list_mix[2.3]"
   ]
  },
  {
   "cell_type": "code",
   "execution_count": null,
   "metadata": {},
   "outputs": [],
   "source": [
    "#Listelerde Uzunluk kısmı len ile yapılır\n",
    "\n",
    "print(list_mix)\n",
    "print(\"Listemizin Uzunluğu:\", len(list_mix))"
   ]
  },
  {
   "cell_type": "markdown",
   "metadata": {},
   "source": [
    "**SLICING**\n",
    "\n",
    "Tek bir eleman almak yerine birden fazla eleman almak için slicing kullanırız."
   ]
  },
  {
   "cell_type": "code",
   "execution_count": null,
   "metadata": {},
   "outputs": [],
   "source": [
    "my_list = [\"Nur\",23,\"Front - End Developer\",True,10000,\"Enes\",\"Türkan\",\"Reşit\"]\n",
    "print(my_list)"
   ]
  },
  {
   "cell_type": "code",
   "execution_count": null,
   "metadata": {},
   "outputs": [],
   "source": [
    "#ilk 4 elemanı ekrana basalım\n",
    "\n",
    "my_list = [\"Nur\",23,\"Front - End Developer\",True,10000,\"Enes\",\"Türkan\",\"Reşit\"]\n",
    "print(my_list[0:4])"
   ]
  },
  {
   "cell_type": "code",
   "execution_count": null,
   "metadata": {},
   "outputs": [],
   "source": [
    "# her iki elemanda bir etlayarak ekrana bas\n",
    "my_list = [\"Nur\",23,\"Front - End Developer\",True,10000,\"Enes\",\"Türkan\",\"Reşit\"]\n",
    "print(my_list[::2])"
   ]
  },
  {
   "cell_type": "code",
   "execution_count": null,
   "metadata": {},
   "outputs": [],
   "source": [
    "# 2 - 5 index aralığındaki elemanlara basalım\n",
    "my_list = [\"Nur\",23,\"Front - End Developer\",True,10000,\"Enes\",\"Türkan\",\"Reşit\"]\n",
    "print(my_list[2:5])"
   ]
  },
  {
   "cell_type": "code",
   "execution_count": null,
   "metadata": {},
   "outputs": [],
   "source": [
    "#Listeyi tersten yazdıralım\n",
    "my_list = [\"Nur\",23,\"Front - End Developer\",True,10000,\"Enes\",\"Türkan\",\"Reşit\"]\n",
    "print(my_list[::-1])"
   ]
  },
  {
   "cell_type": "markdown",
   "metadata": {},
   "source": [
    "**Döngüler ile Listenin Elemanlarını Yazdırma**"
   ]
  },
  {
   "cell_type": "code",
   "execution_count": null,
   "metadata": {},
   "outputs": [],
   "source": [
    "my_list = [\"Nur\",23,\"Front - End Developer\",True,10000,\"Enes\",\"Türkan\",\"Reşit\"]\n",
    "for i in my_list:\n",
    "    print(i)"
   ]
  },
  {
   "cell_type": "markdown",
   "metadata": {},
   "source": [
    "**Elemanları Yan Yana Yazdırma**"
   ]
  },
  {
   "cell_type": "code",
   "execution_count": null,
   "metadata": {},
   "outputs": [],
   "source": [
    "for i in my_list:\n",
    "    print(i, end=\"  -  \")"
   ]
  },
  {
   "cell_type": "markdown",
   "metadata": {},
   "source": [
    "**İndexler Üzerinden Erişim**"
   ]
  },
  {
   "cell_type": "code",
   "execution_count": null,
   "metadata": {},
   "outputs": [],
   "source": [
    "for i in range(0, len(my_list)):\n",
    "    print(i)"
   ]
  },
  {
   "cell_type": "code",
   "execution_count": null,
   "metadata": {},
   "outputs": [],
   "source": [
    "for i in range(0, len(my_list)):\n",
    "    print(f\"{i}, index degeri: {my_list[i]}\")"
   ]
  },
  {
   "cell_type": "markdown",
   "metadata": {},
   "source": [
    "**Listelere Eleman Ekleme**\n",
    "\n",
    "**append ():** Listenin sonuna ekleme yapar\n",
    "\n",
    "**insert ():** İstenen indexte konumlandırma yapar\n",
    "\n",
    "**extend ():** Listenin sonuna ekleme yapar append' den farkı birden fazla eleman ekleyebiliriz."
   ]
  },
  {
   "cell_type": "code",
   "execution_count": null,
   "metadata": {},
   "outputs": [],
   "source": [
    "my_list = [\"Nur\",23,\"Front - End Developer\",True,10000,\"Enes\",\"Türkan\",\"Reşit\"]\n",
    "print(my_list)\n",
    "\n",
    "my_list.append(\"Müzeyyen\")\n",
    "print(my_list)"
   ]
  },
  {
   "cell_type": "code",
   "execution_count": 20,
   "metadata": {},
   "outputs": [
    {
     "name": "stdout",
     "output_type": "stream",
     "text": [
      "['Nur', 23, 'Front - End Developer', True, 10000, 'Enes', 'Türkan', 'Reşit', 'Samsun']\n",
      "['Naz', 'Nur', 23, 'Front - End Developer', True, 10000, 'Enes', 'Türkan', 'Reşit', 'Samsun']\n"
     ]
    }
   ],
   "source": [
    "print(my_list)\n",
    "\n",
    "my_list.insert(0, \"Naz\") #0. indexe naz isminde yeni bir eleman ekledi\n",
    "print(my_list)"
   ]
  },
  {
   "cell_type": "code",
   "execution_count": 21,
   "metadata": {},
   "outputs": [
    {
     "name": "stdout",
     "output_type": "stream",
     "text": [
      "['Nur', 23, 'Front - End Developer', True, 10000, 'Enes', 'Türkan', 'Reşit']\n",
      "['Nur', 23, 'Front - End Developer', True, 10000, 'Enes', 'Türkan', 'Reşit', 1, 2, 3, 4]\n"
     ]
    }
   ],
   "source": [
    "my_list = [\"Nur\",23,\"Front - End Developer\",True,10000,\"Enes\",\"Türkan\",\"Reşit\"]\n",
    "print(my_list)\n",
    "\n",
    "\n",
    "my_list.extend([1, 2, 3, 4])\n",
    "print(my_list)"
   ]
  },
  {
   "cell_type": "code",
   "execution_count": 22,
   "metadata": {},
   "outputs": [
    {
     "name": "stdout",
     "output_type": "stream",
     "text": [
      "['Nur', 23, 'Front - End Developer', True, 10000, 'Enes', 'Türkan', 'Reşit', [1, 2, 3, 4]]\n"
     ]
    }
   ],
   "source": [
    "my_list = [\"Nur\",23,\"Front - End Developer\",True,10000,\"Enes\",\"Türkan\",\"Reşit\"]\n",
    "my_list.append([1, 2, 3, 4])\n",
    "\n",
    "print(my_list)"
   ]
  },
  {
   "cell_type": "code",
   "execution_count": 23,
   "metadata": {},
   "outputs": [
    {
     "name": "stdout",
     "output_type": "stream",
     "text": [
      "['Nur', 23, 'Front - End Developer', True, 10000, 'Enes', 'Türkan', 'Reşit']\n",
      "['Nur', 23, 'Front - End Developer', True, 10000, 'Enes', 'Türkan', 'Reşit', 1, 2, 3, 4, [5, 6, 7]]\n"
     ]
    }
   ],
   "source": [
    "my_list = [\"Nur\",23,\"Front - End Developer\",True,10000,\"Enes\",\"Türkan\",\"Reşit\"]\n",
    "print(my_list)\n",
    "\n",
    "\n",
    "my_list.extend([1, 2, 3, 4, [5, 6, 7]])\n",
    "\n",
    "print(my_list)"
   ]
  },
  {
   "cell_type": "markdown",
   "metadata": {},
   "source": [
    "**Liste Elemanları Üzerinde Değişiklik**"
   ]
  },
  {
   "cell_type": "code",
   "execution_count": 24,
   "metadata": {},
   "outputs": [
    {
     "name": "stdout",
     "output_type": "stream",
     "text": [
      "Önceki hali: [1, 4, 6, 7, 8, 3, 9]\n",
      "Sonraki hali: [23, 4, 6, 7, 8, 3, 9]\n"
     ]
    }
   ],
   "source": [
    "my_list = [1, 4, 6, 7, 8, 3, 9]\n",
    "print(\"Önceki hali:\",my_list)\n",
    "\n",
    "my_list[0]  = 23 #0 ıncı indexe 23 değerini ekledi\n",
    "\n",
    "print(\"Sonraki hali:\",my_list)"
   ]
  },
  {
   "cell_type": "code",
   "execution_count": 25,
   "metadata": {},
   "outputs": [
    {
     "name": "stdout",
     "output_type": "stream",
     "text": [
      "Önceki hali: [23, 4, 6, 7, 8, 3, 9]\n",
      "Sonraki hali: [23, 12, 13, 14, 8, 3, 9]\n"
     ]
    }
   ],
   "source": [
    "print(\"Önceki hali:\",my_list)\n",
    "\n",
    "my_list[1:4] = [12, 13, 14] # 1 ile 4 aralığındaki indexlere 12, 13, 14 indexleri ekledi\n",
    "\n",
    "print(\"Sonraki hali:\",my_list)"
   ]
  },
  {
   "cell_type": "code",
   "execution_count": 26,
   "metadata": {},
   "outputs": [
    {
     "name": "stdout",
     "output_type": "stream",
     "text": [
      "Önceki hali: [1, 4, 6, 7, 8, 3]\n",
      "Sonraki hali: [2, 5, 7, 8, 9, 4]\n"
     ]
    }
   ],
   "source": [
    "#Listenin tüm elemanlarına 1 ekle\n",
    "\n",
    "my_list = [1, 4, 6, 7, 8, 3]\n",
    "print(\"Önceki hali:\", my_list)\n",
    "\n",
    "for i in range(0, len(my_list)):\n",
    "    my_list[i] += 1\n",
    "\n",
    "print(\"Sonraki hali:\", my_list)"
   ]
  },
  {
   "cell_type": "markdown",
   "metadata": {},
   "source": [
    "**Listeden Eleman Silme**\n",
    "\n",
    "**remove():** Listeden ilk elemanı siler.\n",
    "\n",
    "**pop():** Herhangi bir index verilmezse son elemanı silinir. İndex verilirse de ilgili indexteki elemanı siler.\n",
    "\n",
    "**clear():** Liste içerisindeki tüm elemanları siler. Boş eleman döner\n",
    "\n",
    "**del():** Listeyi tamamen siler\n",
    "\n",
    "**Del ve Clear Arasındaki Fark**\n",
    "\n",
    "  del listeyi tamamen siler yanı pc nin hafızasından da tamamen siler, clear ise sadece listenin içerisindeki elemanları siler [] silmez."
   ]
  },
  {
   "cell_type": "code",
   "execution_count": null,
   "metadata": {},
   "outputs": [],
   "source": [
    "my_list = [0, 1, 2, 3, 4, 5, 6, 7, 8, 1, 9, 10, 11, 2, 12, 13]"
   ]
  },
  {
   "cell_type": "code",
   "execution_count": null,
   "metadata": {},
   "outputs": [],
   "source": [
    "my_list = [0, 1, 2, 3, 4, 5, 6, 7, 8, 1, 9, 10, 11, 2, 12, 13]\n",
    "\n",
    "print(\"Önceki hali:\", my_list)\n",
    "\n",
    "my_list.remove(1)\n",
    "\n",
    "print(\"Sonraki hali:\", my_list)"
   ]
  },
  {
   "cell_type": "code",
   "execution_count": 28,
   "metadata": {},
   "outputs": [
    {
     "name": "stdout",
     "output_type": "stream",
     "text": [
      "Önceki hali: [0, 2, 3, 4, 5, 6, 7, 8, 1, 9, 10, 11, 2, 12, 13]\n"
     ]
    },
    {
     "ename": "ValueError",
     "evalue": "list.remove(x): x not in list",
     "output_type": "error",
     "traceback": [
      "\u001b[1;31m---------------------------------------------------------------------------\u001b[0m",
      "\u001b[1;31mValueError\u001b[0m                                Traceback (most recent call last)",
      "Cell \u001b[1;32mIn [28], line 4\u001b[0m\n\u001b[0;32m      1\u001b[0m \u001b[39m#Listede olmayan bir elemanı silme\u001b[39;00m\n\u001b[0;32m      2\u001b[0m \u001b[39mprint\u001b[39m(\u001b[39m\"\u001b[39m\u001b[39mÖnceki hali:\u001b[39m\u001b[39m\"\u001b[39m, my_list)\n\u001b[1;32m----> 4\u001b[0m my_list\u001b[39m.\u001b[39;49mremove(\u001b[39m100\u001b[39;49m)\n\u001b[0;32m      6\u001b[0m \u001b[39mprint\u001b[39m(\u001b[39m\"\u001b[39m\u001b[39mSonraki hali:\u001b[39m\u001b[39m\"\u001b[39m, my_list)\n",
      "\u001b[1;31mValueError\u001b[0m: list.remove(x): x not in list"
     ]
    }
   ],
   "source": [
    "#Listede olmayan bir elemanı silme\n",
    "print(\"Önceki hali:\", my_list)\n",
    "\n",
    "my_list.remove(100)\n",
    "\n",
    "print(\"Sonraki hali:\", my_list)"
   ]
  },
  {
   "cell_type": "code",
   "execution_count": 29,
   "metadata": {},
   "outputs": [
    {
     "name": "stdout",
     "output_type": "stream",
     "text": [
      "['Zeynep', 'Nur', 'Betül', 'Nihal', 'Aysel', 'Melisa', 1]\n"
     ]
    }
   ],
   "source": [
    "my_list = [\"Zeynep\", \"Nur\", \"Betül\", \"Nihal\", \"Aysel\", \"Melisa\", \"Buse\", 1, \"Buse\"]\n",
    "\n",
    "for item in my_list:\n",
    "    if item == \"Buse\":\n",
    "        my_list.remove(\"Buse\")\n",
    "\n",
    "print(my_list)"
   ]
  },
  {
   "cell_type": "code",
   "execution_count": 30,
   "metadata": {},
   "outputs": [
    {
     "name": "stdout",
     "output_type": "stream",
     "text": [
      "['Zeynep', 'Nur', 'Betül', 'Nihal', 'Aysel', 'Melisa']\n"
     ]
    }
   ],
   "source": [
    "my_list = [\"Zeynep\", \"Nur\", \"Betül\", \"Nihal\", \"Aysel\", \"Melisa\", \"Buse\", \"Buse\"]\n",
    "\n",
    "\n",
    "while \"Buse\" in my_list:\n",
    "    #my_list.pop(my_list.index(\"Buse\"))\n",
    "    my_list.remove(\"Buse\")\n",
    "\n",
    "print(my_list)"
   ]
  },
  {
   "cell_type": "code",
   "execution_count": 31,
   "metadata": {},
   "outputs": [
    {
     "name": "stdout",
     "output_type": "stream",
     "text": [
      "Önceki hali: ['Zeynep', 'Nur', 'Betül', 'Nihal', 'Aysel', 'Melisa', 'Buse', 'Buse']\n",
      "İkinci hali: ['Zeynep', 'Nur', 'Betül', 'Nihal', 'Aysel', 'Melisa', 'Buse']\n",
      "Sonraki hali: ['Zeynep', 'Nur', 'Nihal', 'Aysel', 'Melisa', 'Buse']\n"
     ]
    }
   ],
   "source": [
    "my_list = [\"Zeynep\", \"Nur\", \"Betül\", \"Nihal\", \"Aysel\", \"Melisa\", \"Buse\", \"Buse\"]\n",
    "\n",
    "print(\"Önceki hali:\", my_list)\n",
    "\n",
    "my_list.pop() #index değeri vermediğimiz için sondaki indexi siler\n",
    "\n",
    "print(\"İkinci hali:\", my_list)\n",
    "\n",
    "my_list.pop(2) #2. index deki değeri siler\n",
    "\n",
    "print(\"Sonraki hali:\", my_list)"
   ]
  },
  {
   "cell_type": "code",
   "execution_count": 32,
   "metadata": {},
   "outputs": [
    {
     "name": "stdout",
     "output_type": "stream",
     "text": [
      "['Zeyneo', 'Nur', 'Betül', 'Nihal', 'Aysel', 'Melisa', 'Buse', 'Buse']\n",
      "['Zeyneo', 'Nihal', 'Aysel', 'Melisa', 'Buse', 'Buse']\n"
     ]
    },
    {
     "ename": "NameError",
     "evalue": "name 'my_list' is not defined",
     "output_type": "error",
     "traceback": [
      "\u001b[1;31m---------------------------------------------------------------------------\u001b[0m",
      "\u001b[1;31mNameError\u001b[0m                                 Traceback (most recent call last)",
      "Cell \u001b[1;32mIn [32], line 8\u001b[0m\n\u001b[0;32m      5\u001b[0m \u001b[39mprint\u001b[39m(my_list)\n\u001b[0;32m      7\u001b[0m \u001b[39mdel\u001b[39;00m my_list \u001b[39m#listedeki elemanları tamamen siler\u001b[39;00m\n\u001b[1;32m----> 8\u001b[0m \u001b[39mprint\u001b[39m(my_list)\n",
      "\u001b[1;31mNameError\u001b[0m: name 'my_list' is not defined"
     ]
    }
   ],
   "source": [
    "my_list = [\"Zeynep\", \"Nur\", \"Betül\", \"Nihal\", \"Aysel\", \"Melisa\", \"Buse\", \"Buse\"]\n",
    "print(my_list)\n",
    "\n",
    "del my_list[1:3] #belirtilen aralıktaki değerleri siler\n",
    "print(my_list)\n",
    "\n",
    "del my_list #listedeki elemanları tamamen siler\n",
    "print(my_list)"
   ]
  },
  {
   "cell_type": "code",
   "execution_count": 33,
   "metadata": {},
   "outputs": [
    {
     "name": "stdout",
     "output_type": "stream",
     "text": [
      "['Zeyneo', 'Nur', 'Betül', 'Nihal', 'Aysel', 'Melisa', 'Buse', 'Buse']\n",
      "[]\n"
     ]
    }
   ],
   "source": [
    "my_list = [\"Zeynep\", \"Nur\", \"Betül\", \"Nihal\", \"Aysel\", \"Melisa\", \"Buse\", \"Buse\"]\n",
    "print(my_list)\n",
    "\n",
    "my_list.clear()\n",
    "print(my_list)"
   ]
  },
  {
   "cell_type": "code",
   "execution_count": 30,
   "metadata": {},
   "outputs": [
    {
     "name": "stdout",
     "output_type": "stream",
     "text": [
      "2\n"
     ]
    }
   ],
   "source": [
    "#index(): Herhangi bir elemanın kaçıncı elamanda olduğunu öğrenmek için kullanırız.\n",
    "\n",
    "movies = [\"Friends\", \"The Office\", \"Big Bang Theory\", \"Breaking Bad\", \"How I Meet Your Mother\", \"HeartLand\"]\n",
    "\n",
    "print(movies.index(\"Big Bang Theory\")) "
   ]
  },
  {
   "cell_type": "code",
   "execution_count": 34,
   "metadata": {},
   "outputs": [
    {
     "ename": "NameError",
     "evalue": "name 'movies' is not defined",
     "output_type": "error",
     "traceback": [
      "\u001b[1;31m---------------------------------------------------------------------------\u001b[0m",
      "\u001b[1;31mNameError\u001b[0m                                 Traceback (most recent call last)",
      "Cell \u001b[1;32mIn [34], line 1\u001b[0m\n\u001b[1;32m----> 1\u001b[0m \u001b[39mprint\u001b[39m(movies\u001b[39m.\u001b[39mindex(\u001b[39m\"\u001b[39m\u001b[39mBig Bang Theory\u001b[39m\u001b[39m\"\u001b[39m))\n",
      "\u001b[1;31mNameError\u001b[0m: name 'movies' is not defined"
     ]
    }
   ],
   "source": [
    "print(movies.index(\"Big Bang Theory\")) "
   ]
  },
  {
   "cell_type": "markdown",
   "metadata": {},
   "source": [
    "**İki listeyi concat (birleştirme)**\n",
    "\n",
    "* (+) operatörü\n",
    "* extend() operatörü"
   ]
  },
  {
   "cell_type": "code",
   "execution_count": 33,
   "metadata": {},
   "outputs": [
    {
     "name": "stdout",
     "output_type": "stream",
     "text": [
      "[1, 2, 3, 4, 5, 6]\n"
     ]
    }
   ],
   "source": [
    "my_list1 = [1, 2, 3]\n",
    "my_list2 = [4, 5, 6]\n",
    "\n",
    "my_list3 = my_list1 + my_list2\n",
    "\n",
    "print(my_list3)"
   ]
  },
  {
   "cell_type": "code",
   "execution_count": 35,
   "metadata": {},
   "outputs": [],
   "source": [
    "my_list1 = [1, 2, 3]\n",
    "my_list2 = [4, 5, 6]\n",
    "\n",
    "my_list1.extend(my_list2)"
   ]
  },
  {
   "cell_type": "code",
   "execution_count": 36,
   "metadata": {},
   "outputs": [
    {
     "name": "stdout",
     "output_type": "stream",
     "text": [
      "[1, 2, 3, 4]\n"
     ]
    }
   ],
   "source": [
    "#Listeyi kopyalama\n",
    "# = atama operatörü ile\n",
    "\n",
    "my_list = [1, 2, 3]\n",
    "new_list = my_list\n",
    "my_list.append(4)\n",
    "print(new_list)"
   ]
  },
  {
   "cell_type": "code",
   "execution_count": 47,
   "metadata": {},
   "outputs": [
    {
     "name": "stdout",
     "output_type": "stream",
     "text": [
      "[1, 2, 3]\n"
     ]
    }
   ],
   "source": [
    "#copy()\n",
    "my_list = [1, 2, 3]\n",
    "new_list = my_list.copy()\n",
    "\n",
    "my_list.append(4)\n",
    "print(new_list)"
   ]
  },
  {
   "cell_type": "markdown",
   "metadata": {},
   "source": [
    "**sort:** Listeyi küçükten büyüğe doğru sıralar.\n",
    "\n",
    "**reverse:** Listeyi tersten sıralar. Yani büyükten küçüğe doğru sıralar.\n",
    "\n",
    "**max - min:** Listenin max ve min değerdeki elemanı gösterir.\n",
    "\n",
    "**sum:** Listedeki elemanları toplar"
   ]
  },
  {
   "cell_type": "code",
   "execution_count": 37,
   "metadata": {},
   "outputs": [
    {
     "name": "stdout",
     "output_type": "stream",
     "text": [
      "Listenin ilk hali:  [1, 6, 3, 8, 0]\n",
      "Listenin sıralanmış hali:  [0, 1, 3, 6, 8]\n",
      "Listenin tersten sıralanmış hali:  [8, 6, 3, 1, 0]\n",
      "Listenin max. elemanı:  8\n",
      "Listenin min. elemanı:  0\n",
      "Listenin elemanlarının toplamı:  18\n"
     ]
    }
   ],
   "source": [
    "my_list = [1, 6, 3, 8, 0]\n",
    "print(\"Listenin ilk hali: \", my_list)\n",
    "\n",
    "my_list.sort()\n",
    "print(\"Listenin sıralanmış hali: \", my_list)\n",
    "\n",
    "my_list.reverse()\n",
    "print(\"Listenin tersten sıralanmış hali: \", my_list)\n",
    "\n",
    "print(\"Listenin max. elemanı: \", max(my_list))\n",
    "print(\"Listenin min. elemanı: \", min(my_list))\n",
    "print(\"Listenin elemanlarının toplamı: \", sum(my_list))"
   ]
  },
  {
   "cell_type": "code",
   "execution_count": 38,
   "metadata": {},
   "outputs": [
    {
     "name": "stdout",
     "output_type": "stream",
     "text": [
      "['Jr. Front - End Developer', 'Back - End Developer', 'Computer Programming']\n",
      "Jr. Front - End Developer\n",
      "Computer Programming\n"
     ]
    }
   ],
   "source": [
    "#İç İçe Listeler\n",
    "\n",
    "my_list = [\"Müzeyyen Nur AKÇAY\", 2021, [\"Jr. Front - End Developer\", \"Back - End Developer\", \"Computer Programming\"], 3, 5000]\n",
    "\n",
    "print(my_list[2]) # 2 \n",
    "print(my_list[2][0]) #  2 nci listedeki 0 ıncı listedeki elemanı gösterir\n",
    "print(my_list[2][-1]) # 2 nci listedeki -1 inci listedeki elemanı gösterir"
   ]
  },
  {
   "cell_type": "code",
   "execution_count": 52,
   "metadata": {},
   "outputs": [
    {
     "name": "stdout",
     "output_type": "stream",
     "text": [
      "[4, 16, 36, 64, 100, 0]\n"
     ]
    }
   ],
   "source": [
    "#Bu listedeki çift sayıların karelerinden yeni bir liste oluşturalım\n",
    "\n",
    "my_list = [1, 2, 3, 4, 5, 6, 7, 8, 9,10, 0]\n",
    "\n",
    "new_list = []\n",
    "for i in my_list:\n",
    "    if i % 2 == 0:\n",
    "        new_list.append(i**2)\n",
    "\n",
    "print(new_list)"
   ]
  },
  {
   "cell_type": "code",
   "execution_count": 3,
   "metadata": {},
   "outputs": [
    {
     "name": "stdout",
     "output_type": "stream",
     "text": [
      "['Müzeyyen Nur AKÇAY', 2021, ['Jr. Front - End Developer', 'Back - End Developer', 'Computer Programming', 'Eğitmen'], 3, 5000]\n"
     ]
    }
   ],
   "source": [
    "# Eğitmen title değerini 2. nci indexe ekle\n",
    "\n",
    "my_list = [\"Müzeyyen Nur AKÇAY\", 2021, [\"Jr. Front - End Developer\", \"Back - End Developer\", \"Computer Programming\"], 3, 5000]\n",
    "\n",
    "my_list[2].append(\"Eğitmen\")\n",
    "\n",
    "print(my_list)"
   ]
  },
  {
   "cell_type": "code",
   "execution_count": 2,
   "metadata": {},
   "outputs": [
    {
     "name": "stdout",
     "output_type": "stream",
     "text": [
      "[10, 20, 30, 40, 50]\n"
     ]
    }
   ],
   "source": [
    "#deuplicate (tekrarlanan )verileri temizleyerek yeni bir oluşturma\n",
    "\n",
    "my_list = [10, 10, 20, 30, 10, 40, 50]\n",
    "unique_list = []\n",
    "\n",
    "for i in my_list:\n",
    "    if i not in unique_list:\n",
    "        unique_list.append(i)\n",
    "\n",
    "print(unique_list)"
   ]
  },
  {
   "cell_type": "code",
   "execution_count": 57,
   "metadata": {},
   "outputs": [
    {
     "name": "stdout",
     "output_type": "stream",
     "text": [
      "10\n"
     ]
    }
   ],
   "source": [
    "#Liste içerisindeki en küçük elemanı bulma (min metodu kullanmadan)\n",
    "\n",
    "my_list = [1, 2, 3, 4, 5, 6, 7, 8, 9, 10, 0]\n",
    "\n",
    "temp = 0\n",
    "for i in my_list:\n",
    "    if i > temp:\n",
    "        temp = i\n",
    "\n",
    "print(temp)"
   ]
  },
  {
   "cell_type": "code",
   "execution_count": 1,
   "metadata": {},
   "outputs": [
    {
     "name": "stdout",
     "output_type": "stream",
     "text": [
      "['SistersLab', 'Women', 'In', 'Tech', 'Python', 'Akademimiz', 'Tüm', 'Hızıyla', 'Devam', 'Ediyor']\n",
      "['SistersLab', 'Python', 'Akademimiz', 'Hızıyla', 'Ediyor']\n"
     ]
    }
   ],
   "source": [
    "#text içerisinde yer alan kelimelerden uzunluğu altıdan büyük eşit olanları aynı bir listeye atalım\n",
    "\n",
    "text = \"SistersLab Women In Tech Python Akademimiz Tüm Hızıyla Devam Ediyor\"\n",
    "\n",
    "words = text.split(\" \")\n",
    "print(words)\n",
    "\n",
    "new_list = []\n",
    "for i in words:\n",
    "    if len(i) >= 6:\n",
    "        new_list.append(i)\n",
    "\n",
    "print(new_list)"
   ]
  }
 ],
 "metadata": {
  "kernelspec": {
   "display_name": "Python 3.10.8 64-bit (microsoft store)",
   "language": "python",
   "name": "python3"
  },
  "language_info": {
   "codemirror_mode": {
    "name": "ipython",
    "version": 3
   },
   "file_extension": ".py",
   "mimetype": "text/x-python",
   "name": "python",
   "nbconvert_exporter": "python",
   "pygments_lexer": "ipython3",
   "version": "3.10.8"
  },
  "orig_nbformat": 4,
  "vscode": {
   "interpreter": {
    "hash": "75328cd36868a46990b96b50a3e79d16599f753ed0672728bccd76ddc954032c"
   }
  }
 },
 "nbformat": 4,
 "nbformat_minor": 2
}
