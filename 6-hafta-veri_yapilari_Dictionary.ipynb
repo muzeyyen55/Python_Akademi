{
 "cells": [
  {
   "cell_type": "markdown",
   "metadata": {},
   "source": [
    "**DICTIONARY**\n",
    "\n",
    "* index ile erişilemezler. Unordered yani sıralı değildir.\n",
    "* key, value mantığında tutulur. Değerlere key üzerinden erşiriz.\n",
    "* Dict, değiştirilebilir yani mutable' dır.\n",
    "* {} içerisinde tanımlanır. Key - value çiftini (,) le ayrılır.\n",
    "* Farklı tiplere veriler içerebilir.\n",
    "* key değerleri unique olacak ama taşıdıkları değerler duplicate olabilir.\n",
    "\n",
    "**Dictionary Oluşturma Yöntemleri**\n",
    "\n",
    "* {} ile boş bir sözcük oluşturulur.\n",
    "* dict"
   ]
  },
  {
   "cell_type": "code",
   "execution_count": null,
   "metadata": {},
   "outputs": [
    {
     "ename": "",
     "evalue": "",
     "output_type": "error",
     "traceback": [
      "\u001b[1;31mÇekirdek başlatılamadı. \n",
      "\u001b[1;31mBağlantı zaman aşımına uğradığından 'Python 3.9.5 64-bit' Çekirdeği başlatılamıyor. \n",
      "\u001b[1;31mDaha fazla ayrıntı için Jupyter <a href='command:jupyter.viewOutput'>günlüğüne</a> bakın."
     ]
    }
   ],
   "source": [
    "my_dict = {\n",
    "    \"name\": \"Müzeyyen Nur\",\n",
    "    \"company\": \"Turkcell\",\n",
    "    \"age\":23,\n",
    "    \"isFemale\":True,\n",
    "    \"salary\":10000.50\n",
    "}\n",
    "\n",
    "my_dict"
   ]
  },
  {
   "cell_type": "code",
   "execution_count": null,
   "metadata": {},
   "outputs": [
    {
     "ename": "",
     "evalue": "",
     "output_type": "error",
     "traceback": [
      "\u001b[1;31mÇekirdek başlatılamadı. \n",
      "\u001b[1;31mBağlantı zaman aşımına uğradığından 'Python 3.9.5 64-bit' Çekirdeği başlatılamıyor. \n",
      "\u001b[1;31mDaha fazla ayrıntı için Jupyter <a href='command:jupyter.viewOutput'>günlüğüne</a> bakın."
     ]
    }
   ],
   "source": [
    "my_dict = {\n",
    "    \"name\": \"Müzeyyen Nur\",\n",
    "    \"company\": \"Turkcell\",\n",
    "    \"title\": [\"AI & ML Engineer\", \"Data Scientist\", \"Back - End Developer\"],\n",
    "    \"age\":23,\n",
    "    \"isFemale\":True,\n",
    "    \"salary\":10000.50\n",
    "}\n",
    "\n",
    "my_dict"
   ]
  },
  {
   "cell_type": "code",
   "execution_count": 4,
   "metadata": {},
   "outputs": [
    {
     "data": {
      "text/plain": [
       "{'firstname': 'Müzeyyen Nur', 'lastname': 'AKÇAY'}"
      ]
     },
     "execution_count": 4,
     "metadata": {},
     "output_type": "execute_result"
    }
   ],
   "source": [
    "my_dict = dict({\"firstname\": \"Müzeyyen Nur\", \"lastname\": \"AKÇAY\"})\n",
    "\n",
    "my_dict"
   ]
  },
  {
   "cell_type": "code",
   "execution_count": 5,
   "metadata": {},
   "outputs": [
    {
     "data": {
      "text/plain": [
       "dict"
      ]
     },
     "execution_count": 5,
     "metadata": {},
     "output_type": "execute_result"
    }
   ],
   "source": [
    "type(my_dict)"
   ]
  },
  {
   "cell_type": "markdown",
   "metadata": {},
   "source": [
    "**Sözlük Elemanlarına Erişim**\n",
    "\n",
    "* [] içinde key değerini vererek\n",
    "* get() içinde key değerini vererek"
   ]
  },
  {
   "cell_type": "code",
   "execution_count": 6,
   "metadata": {},
   "outputs": [
    {
     "data": {
      "text/plain": [
       "{'blue': 'mavi',\n",
       " 'red': 'kırmızı',\n",
       " 'yellow': 'sarı',\n",
       " 'pink': 'pembe',\n",
       " 'green': 'yeşil'}"
      ]
     },
     "execution_count": 6,
     "metadata": {},
     "output_type": "execute_result"
    }
   ],
   "source": [
    "colors = {\n",
    "    \"blue\": \"mavi\",\n",
    "    \"red\": \"kırmızı\",\n",
    "    \"yellow\": \"sarı\",\n",
    "    \"pink\": \"pembe\",\n",
    "    \"green\": \"yeşil\"\n",
    "}\n",
    "\n",
    "colors"
   ]
  },
  {
   "cell_type": "code",
   "execution_count": 7,
   "metadata": {},
   "outputs": [
    {
     "data": {
      "text/plain": [
       "'pembe'"
      ]
     },
     "execution_count": 7,
     "metadata": {},
     "output_type": "execute_result"
    }
   ],
   "source": [
    "colors[\"pink\"]"
   ]
  },
  {
   "cell_type": "code",
   "execution_count": 8,
   "metadata": {},
   "outputs": [
    {
     "data": {
      "text/plain": [
       "'mavi'"
      ]
     },
     "execution_count": 8,
     "metadata": {},
     "output_type": "execute_result"
    }
   ],
   "source": [
    "colors.get(\"blue\")"
   ]
  },
  {
   "cell_type": "code",
   "execution_count": 10,
   "metadata": {},
   "outputs": [
    {
     "data": {
      "text/plain": [
       "dict_keys(['blue', 'red', 'yellow', 'pink', 'green'])"
      ]
     },
     "execution_count": 10,
     "metadata": {},
     "output_type": "execute_result"
    }
   ],
   "source": [
    "#sözlükte yer alan tüm key değerlerine erişim\n",
    "\n",
    "colors.keys()"
   ]
  },
  {
   "cell_type": "code",
   "execution_count": 11,
   "metadata": {},
   "outputs": [
    {
     "data": {
      "text/plain": [
       "dict_values(['mavi', 'kırmızı', 'sarı', 'pembe', 'yeşil'])"
      ]
     },
     "execution_count": 11,
     "metadata": {},
     "output_type": "execute_result"
    }
   ],
   "source": [
    "#sözlükte yer alan tüm value değerlerine erişim\n",
    "\n",
    "colors.values()"
   ]
  },
  {
   "cell_type": "code",
   "execution_count": 12,
   "metadata": {},
   "outputs": [
    {
     "data": {
      "text/plain": [
       "dict_items([('blue', 'mavi'), ('red', 'kırmızı'), ('yellow', 'sarı'), ('pink', 'pembe'), ('green', 'yeşil')])"
      ]
     },
     "execution_count": 12,
     "metadata": {},
     "output_type": "execute_result"
    }
   ],
   "source": [
    "#key - value çiftine erişmek istersek\n",
    "\n",
    "colors.items()"
   ]
  },
  {
   "cell_type": "markdown",
   "metadata": {},
   "source": [
    "**Döngü İle Erişim**"
   ]
  },
  {
   "cell_type": "code",
   "execution_count": 13,
   "metadata": {},
   "outputs": [
    {
     "name": "stdout",
     "output_type": "stream",
     "text": [
      "blue\n",
      "red\n",
      "yellow\n",
      "pink\n",
      "green\n"
     ]
    }
   ],
   "source": [
    "colors = {\n",
    "    \"blue\": \"mavi\",\n",
    "    \"red\": \"kırmızı\",\n",
    "    \"yellow\": \"sarı\",\n",
    "    \"pink\": \"pembe\",\n",
    "    \"green\": \"yeşil\"\n",
    "}\n",
    "\n",
    "for i in colors.keys():\n",
    "    print(i)"
   ]
  },
  {
   "cell_type": "code",
   "execution_count": 14,
   "metadata": {},
   "outputs": [
    {
     "name": "stdout",
     "output_type": "stream",
     "text": [
      "mavi\n",
      "kırmızı\n",
      "sarı\n",
      "pembe\n",
      "yeşil\n"
     ]
    }
   ],
   "source": [
    "for i in colors.values():\n",
    "    print(i)"
   ]
  },
  {
   "cell_type": "code",
   "execution_count": 15,
   "metadata": {},
   "outputs": [
    {
     "name": "stdout",
     "output_type": "stream",
     "text": [
      "key: blue --- value: blue\n",
      "key: red --- value: red\n",
      "key: yellow --- value: yellow\n",
      "key: pink --- value: pink\n",
      "key: green --- value: green\n"
     ]
    }
   ],
   "source": [
    "for i in colors.items():\n",
    "    print(f\"key: {i[0]} --- value: {i[0]}\")"
   ]
  },
  {
   "cell_type": "code",
   "execution_count": 16,
   "metadata": {},
   "outputs": [
    {
     "name": "stdout",
     "output_type": "stream",
     "text": [
      "Sözlüğün Uzunluğu: 5\n"
     ]
    }
   ],
   "source": [
    "print(\"Sözlüğün Uzunluğu:\", len(colors))"
   ]
  },
  {
   "cell_type": "markdown",
   "metadata": {},
   "source": [
    "**Sözlüğe Eleman Ekleme**\n",
    "\n",
    "* key - value atama işlemi ile (Eğer key yoksa yeni atama olarak ekleme yapar, varsa value değerini update eder.)\n",
    "\n",
    "* update() metodu ile"
   ]
  },
  {
   "cell_type": "code",
   "execution_count": 17,
   "metadata": {},
   "outputs": [
    {
     "data": {
      "text/plain": [
       "{1990: 'Friends',\n",
       " 1991: 'Person Of Interest',\n",
       " 1992: 'Heartland',\n",
       " 1993: 'Doctor Who',\n",
       " 1994: 'Merlin'}"
      ]
     },
     "execution_count": 17,
     "metadata": {},
     "output_type": "execute_result"
    }
   ],
   "source": [
    "movies = {\n",
    "    1990: \"Friends\",\n",
    "    1991: \"Person Of Interest\",\n",
    "    1992: \"Heartland\",\n",
    "    1993: \"Doctor Who\",\n",
    "    1994: \"Merlin\"\n",
    "}\n",
    "\n",
    "movies"
   ]
  },
  {
   "cell_type": "code",
   "execution_count": 18,
   "metadata": {},
   "outputs": [
    {
     "data": {
      "text/plain": [
       "{1990: 'Friends',\n",
       " 1991: 'Person Of Interest',\n",
       " 1992: 'Heartland',\n",
       " 1993: 'Doctor Who',\n",
       " 1994: 'Merlin',\n",
       " 1995: 'Harry Potter'}"
      ]
     },
     "execution_count": 18,
     "metadata": {},
     "output_type": "execute_result"
    }
   ],
   "source": [
    "movies[1995] = \"Harry Potter\"\n",
    "movies"
   ]
  },
  {
   "cell_type": "code",
   "execution_count": 19,
   "metadata": {},
   "outputs": [
    {
     "data": {
      "text/plain": [
       "{1990: 'Friends',\n",
       " 1991: 'Person Of Interest',\n",
       " 1992: 'Heartland',\n",
       " 1993: 'Doctor Who',\n",
       " 1994: 'The Big Bang Theory',\n",
       " 1995: 'Harry Potter'}"
      ]
     },
     "execution_count": 19,
     "metadata": {},
     "output_type": "execute_result"
    }
   ],
   "source": [
    "movies[1994] = \"The Big Bang Theory\"\n",
    "movies"
   ]
  },
  {
   "cell_type": "code",
   "execution_count": 20,
   "metadata": {},
   "outputs": [
    {
     "data": {
      "text/plain": [
       "{1990: 'Friends',\n",
       " 1991: 'Person Of Interest',\n",
       " 1992: 'Heartland',\n",
       " 1993: 'The Queen Gambit',\n",
       " 1994: 'The Big Bang Theory',\n",
       " 1995: 'Harry Potter',\n",
       " 1996: 'Squid Game'}"
      ]
     },
     "execution_count": 20,
     "metadata": {},
     "output_type": "execute_result"
    }
   ],
   "source": [
    "movies.update({1996:\"Squid Game\", 1993:\"The Queen Gambit\"})\n",
    "movies"
   ]
  },
  {
   "cell_type": "markdown",
   "metadata": {},
   "source": [
    "**Silme İşlemleri**\n",
    "\n",
    "* del key\n",
    "* clear()\n",
    "* del dict_name\n",
    "* popitem()\n",
    "* pop(key)"
   ]
  },
  {
   "cell_type": "code",
   "execution_count": 22,
   "metadata": {},
   "outputs": [
    {
     "data": {
      "text/plain": [
       "{'name': 'Müzeyyen Nur',\n",
       " 'TCKN': 123456789,\n",
       " 'start_date': 2022,\n",
       " 'title': 'AI & ML Engineer'}"
      ]
     },
     "execution_count": 22,
     "metadata": {},
     "output_type": "execute_result"
    }
   ],
   "source": [
    "personal_info = {\n",
    "    \"name\": \"Müzeyyen Nur\",\n",
    "    \"TCKN\": 123456789,\n",
    "    \"start_date\": 2022,\n",
    "    \"title\": \"AI & ML Engineer\"\n",
    "}\n",
    "\n",
    "personal_info"
   ]
  },
  {
   "cell_type": "code",
   "execution_count": 23,
   "metadata": {},
   "outputs": [
    {
     "data": {
      "text/plain": [
       "{'name': 'Müzeyyen Nur', 'TCKN': 123456789, 'title': 'AI & ML Engineer'}"
      ]
     },
     "execution_count": 23,
     "metadata": {},
     "output_type": "execute_result"
    }
   ],
   "source": [
    "#del key\n",
    "del personal_info[\"start_date\"]\n",
    "personal_info"
   ]
  },
  {
   "cell_type": "code",
   "execution_count": 24,
   "metadata": {},
   "outputs": [
    {
     "data": {
      "text/plain": [
       "{}"
      ]
     },
     "execution_count": 24,
     "metadata": {},
     "output_type": "execute_result"
    }
   ],
   "source": [
    "#celar()\n",
    "\n",
    "personal_info.clear()\n",
    "personal_info"
   ]
  },
  {
   "cell_type": "code",
   "execution_count": 25,
   "metadata": {},
   "outputs": [
    {
     "ename": "NameError",
     "evalue": "name 'personal_info' is not defined",
     "output_type": "error",
     "traceback": [
      "\u001b[1;31m---------------------------------------------------------------------------\u001b[0m",
      "\u001b[1;31mNameError\u001b[0m                                 Traceback (most recent call last)",
      "Cell \u001b[1;32mIn [25], line 4\u001b[0m\n\u001b[0;32m      1\u001b[0m \u001b[39m#del dict_name\u001b[39;00m\n\u001b[0;32m      3\u001b[0m \u001b[39mdel\u001b[39;00m personal_info\n\u001b[1;32m----> 4\u001b[0m personal_info\n",
      "\u001b[1;31mNameError\u001b[0m: name 'personal_info' is not defined"
     ]
    }
   ],
   "source": [
    "#del dict_name\n",
    "\n",
    "del personal_info\n",
    "personal_info"
   ]
  },
  {
   "cell_type": "code",
   "execution_count": 30,
   "metadata": {},
   "outputs": [
    {
     "data": {
      "text/plain": [
       "{'name': 'Müzeyyen Nur',\n",
       " 'TCKN': 123456789,\n",
       " 'start_date': 2022,\n",
       " 'title': 'AI & ML Engineer'}"
      ]
     },
     "execution_count": 30,
     "metadata": {},
     "output_type": "execute_result"
    }
   ],
   "source": [
    "#popitem -> son eklenen elemanı siler\n",
    "personal_info = {\n",
    "    \"name\": \"Müzeyyen Nur\",\n",
    "    \"TCKN\": 123456789,\n",
    "    \"start_date\": 2022,\n",
    "    \"title\": \"AI & ML Engineer\"\n",
    "}\n",
    "\n",
    "personal_info"
   ]
  },
  {
   "cell_type": "code",
   "execution_count": 31,
   "metadata": {},
   "outputs": [
    {
     "data": {
      "text/plain": [
       "{'name': 'Müzeyyen Nur', 'TCKN': 123456789, 'start_date': 2022}"
      ]
     },
     "execution_count": 31,
     "metadata": {},
     "output_type": "execute_result"
    }
   ],
   "source": [
    "#boş bir sözlükten silme işlemi yapılırsa hata verir.\n",
    "\n",
    "personal_info.popitem()\n",
    "personal_info"
   ]
  },
  {
   "cell_type": "code",
   "execution_count": 32,
   "metadata": {},
   "outputs": [
    {
     "data": {
      "text/plain": [
       "{'name': 'Müzeyyen Nur', 'start_date': 2022}"
      ]
     },
     "execution_count": 32,
     "metadata": {},
     "output_type": "execute_result"
    }
   ],
   "source": [
    "#pop\n",
    "\n",
    "personal_info.pop(\"TCKN\")\n",
    "personal_info"
   ]
  },
  {
   "cell_type": "code",
   "execution_count": 33,
   "metadata": {},
   "outputs": [
    {
     "ename": "KeyError",
     "evalue": "'TCKN'",
     "output_type": "error",
     "traceback": [
      "\u001b[1;31m---------------------------------------------------------------------------\u001b[0m",
      "\u001b[1;31mKeyError\u001b[0m                                  Traceback (most recent call last)",
      "Cell \u001b[1;32mIn [33], line 1\u001b[0m\n\u001b[1;32m----> 1\u001b[0m personal_info\u001b[39m.\u001b[39;49mpop(\u001b[39m\"\u001b[39;49m\u001b[39mTCKN\u001b[39;49m\u001b[39m\"\u001b[39;49m)\n\u001b[0;32m      2\u001b[0m personal_info\n",
      "\u001b[1;31mKeyError\u001b[0m: 'TCKN'"
     ]
    }
   ],
   "source": [
    "personal_info.pop(\"TCKN\")\n",
    "personal_info\n",
    "\n",
    "#TCKN algılayamadığı için hata verdi."
   ]
  },
  {
   "cell_type": "markdown",
   "metadata": {},
   "source": [
    "**Bir Anahtarın Varlığını Kontrol Etme**"
   ]
  },
  {
   "cell_type": "code",
   "execution_count": 34,
   "metadata": {},
   "outputs": [
    {
     "data": {
      "text/plain": [
       "{'Adana': 1,\n",
       " 'Antalya': 7,\n",
       " 'Kayseri': 38,\n",
       " 'İzmir': 35,\n",
       " 'Samsun': 55,\n",
       " 'İstanbul': 34}"
      ]
     },
     "execution_count": 34,
     "metadata": {},
     "output_type": "execute_result"
    }
   ],
   "source": [
    "cities = {\"Adana\":1, \"Antalya\":7, \"Kayseri\":38, \"İzmir\":35, \"Samsun\":55}\n",
    "if \"İstanbul\" not in cities.keys():\n",
    "    cities[\"İstanbul\"] = 34\n",
    "\n",
    "cities\n",
    "\n",
    "#Şehir İstanbul ve plaka 34 olan değeri göster eğer yoksa da o değeri yazdırır."
   ]
  },
  {
   "cell_type": "markdown",
   "metadata": {},
   "source": [
    "**İki Sözcüğü Birleştirme**\n",
    "\n",
    "* update\n",
    "* ** ile"
   ]
  },
  {
   "cell_type": "code",
   "execution_count": 35,
   "metadata": {},
   "outputs": [
    {
     "name": "stdout",
     "output_type": "stream",
     "text": [
      "{'Adana': 1, 'Antalya': 7, 'Kayseri': 38, 'İzmir': 35, 'Samsun': 55, 'Manisa': 45, 'Van': 65}\n",
      "{'Manisa': 45, 'Van': 65}\n"
     ]
    }
   ],
   "source": [
    "#update\n",
    "\n",
    "cities = {\"Adana\":1, \"Antalya\":7, \"Kayseri\":38, \"İzmir\":35, \"Samsun\":55}\n",
    "cities2 = {\"Manisa\":45, \"Van\":65}\n",
    "\n",
    "cities.update(cities2)\n",
    "\n",
    "print(cities)\n",
    "print(cities2)\n",
    "\n",
    "#cities ve cities2 değerlerini bir liste içerisine yerleştirir."
   ]
  },
  {
   "cell_type": "code",
   "execution_count": 36,
   "metadata": {},
   "outputs": [
    {
     "data": {
      "text/plain": [
       "{'Adana': 1,\n",
       " 'Antalya': 7,\n",
       " 'Kayseri': 38,\n",
       " 'İzmir': 35,\n",
       " 'Samsun': 55,\n",
       " 'Manisa': 45,\n",
       " 'Van': 65}"
      ]
     },
     "execution_count": 36,
     "metadata": {},
     "output_type": "execute_result"
    }
   ],
   "source": [
    "#** ile\n",
    "cities = {\"Adana\":1, \"Antalya\":7, \"Kayseri\":38, \"İzmir\":35, \"Samsun\":55}\n",
    "cities2 = {\"Manisa\":45, \"Van\":65}\n",
    "\n",
    "new_cities = {**cities, **cities2}\n",
    "new_cities\n",
    "\n",
    "#cities ve cities2 değerlerini alt alta yaılacak şekilde birleştirme işlemi yapar."
   ]
  },
  {
   "cell_type": "markdown",
   "metadata": {},
   "source": [
    "**Dictionary Kopyalama İşlemlerş**\n",
    "\n",
    "* copy()\n",
    "* dict()\n",
    "* = operatörü"
   ]
  },
  {
   "cell_type": "code",
   "execution_count": 37,
   "metadata": {},
   "outputs": [],
   "source": [
    "sports = {\n",
    "    1: \"Voleybol\",\n",
    "    2: \"Basketbol\",\n",
    "    3: \"Masa Tenisi\",\n",
    "    4: \"Yüzme\",\n",
    "    5: \"Futbol\"\n",
    "}"
   ]
  },
  {
   "cell_type": "code",
   "execution_count": 38,
   "metadata": {},
   "outputs": [
    {
     "name": "stdout",
     "output_type": "stream",
     "text": [
      "{1: 'Voleybol', 2: 'Basketbol', 3: 'Masa Tenisi', 4: 'Yüzme', 5: 'Futbol', 6: 'Oryantiring'}\n",
      "{1: 'Voleybol', 2: 'Basketbol', 3: 'Masa Tenisi', 4: 'Yüzme', 5: 'Futbol'}\n"
     ]
    }
   ],
   "source": [
    "#copy\n",
    "\n",
    "#sports değerini hem kopyalar hem de oryantiring diye oluşturduğumuz değeri ekler.\n",
    "copy_sports = sports.copy()\n",
    "copy_sports[6] = \"Oryantiring\"\n",
    "\n",
    "print(copy_sports)\n",
    "print(sports)"
   ]
  },
  {
   "cell_type": "code",
   "execution_count": 39,
   "metadata": {},
   "outputs": [
    {
     "name": "stdout",
     "output_type": "stream",
     "text": [
      "{1: 'Voleybol', 2: 'Basketbol', 3: 'Masa Tenisi', 4: 'Yüzme', 5: 'Futbol', 6: 'Oryantiring'}\n",
      "{1: 'Voleybol', 2: 'Basketbol', 3: 'Masa Tenisi', 4: 'Yüzme', 5: 'Futbol', 6: 'Oryantiring'}\n"
     ]
    }
   ],
   "source": [
    "# = operatörü\n",
    "\n",
    "#hem daha önceden oluşturduğumuz listeye hem de kopyaladığımız değere oryantiring değerini listeye ekler.\n",
    "new_sports = sports\n",
    "new_sports[6] = \"Oryantiring\"\n",
    "\n",
    "print(new_sports)\n",
    "print(sports)"
   ]
  },
  {
   "cell_type": "code",
   "execution_count": 43,
   "metadata": {},
   "outputs": [
    {
     "name": "stdout",
     "output_type": "stream",
     "text": [
      "{1: 'Voleybol', 2: 'Basketbol', 3: 'Masa Tenisi', 4: 'Yüzme', 5: 'Futbol', 6: 'Oryantiring'}\n",
      "{1: 'Voleybol', 2: 'Basketbol', 3: 'Masa Tenisi', 4: 'Yüzme', 5: 'Futbol'}\n"
     ]
    }
   ],
   "source": [
    "sports = {\n",
    "    1: \"Voleybol\",\n",
    "    2: \"Basketbol\",\n",
    "    3: \"Masa Tenisi\",\n",
    "    4: \"Yüzme\",\n",
    "    5: \"Futbol\"\n",
    "}\n",
    "\n",
    "#dict() ile: ilk yazdığımız listeyi tanımlar onu kopyalar ondan sonra ikinci tanımladığımız oryantiring tanımladığımız yazıyı listeye ekler.\n",
    "\n",
    "dict_sports = dict(sports)\n",
    "dict_sports[6] = \"Oryantiring\"\n",
    "\n",
    "print(dict_sports)\n",
    "print(sports)\n"
   ]
  },
  {
   "cell_type": "markdown",
   "metadata": {},
   "source": [
    "**İÇ İÇE SÖZLÜKLER**"
   ]
  },
  {
   "cell_type": "code",
   "execution_count": 46,
   "metadata": {},
   "outputs": [
    {
     "data": {
      "text/plain": [
       "{'name': 'Müzeyyen Nur',\n",
       " 'GSM': '2134567890',\n",
       " 'email': 'example@gmail.com',\n",
       " 'adres': {'samsun': 'atakum', 'istanbul': 'Pendik', 'is': 'Maltepe'}}"
      ]
     },
     "execution_count": 46,
     "metadata": {},
     "output_type": "execute_result"
    }
   ],
   "source": [
    "my_info = {\n",
    "    \"name\": \"Müzeyyen Nur\",\n",
    "    \"GSM\": \"2134567890\",\n",
    "    \"email\": \"example@gmail.com\",\n",
    "    \"adres\": {\"samsun\":\"atakum\", \"istanbul\":\"Pendik\", \"is\":\"Maltepe\"}\n",
    "}\n",
    "my_info"
   ]
  },
  {
   "cell_type": "code",
   "execution_count": 51,
   "metadata": {},
   "outputs": [
    {
     "data": {
      "text/plain": [
       "'Pendik'"
      ]
     },
     "execution_count": 51,
     "metadata": {},
     "output_type": "execute_result"
    }
   ],
   "source": [
    "my_info[\"adres\"][\"istanbul\"]\n",
    "\n",
    "#istanbul şehrinin hangi adreste olduuğunu göstermemizi sağlar."
   ]
  },
  {
   "cell_type": "code",
   "execution_count": 52,
   "metadata": {},
   "outputs": [
    {
     "name": "stdout",
     "output_type": "stream",
     "text": [
      "[1, 2, 3, 4, 5]\n",
      "[(1, 'Voleybol'), (2, 'Basketbol'), (3, 'Masa Tenisi'), (4, 'Yüzme'), (5, 'Futbol')]\n",
      "['Basketbol', 'Futbol', 'Masa Tenisi', 'Voleybol', 'Yüzme']\n"
     ]
    }
   ],
   "source": [
    "sports = {\n",
    "    1: \"Voleybol\",\n",
    "    2: \"Basketbol\",\n",
    "    3: \"Masa Tenisi\",\n",
    "    4: \"Yüzme\",\n",
    "    5: \"Futbol\"\n",
    "}\n",
    "\n",
    "print(sorted(sports.keys())) #listedeki keys değerleri gösterir\n",
    "print(sorted(sports.items()))#listedeki items değerleri gösterir\n",
    "print(sorted(sports.values()))#listedeki value değerleri gösterir"
   ]
  },
  {
   "cell_type": "code",
   "execution_count": 53,
   "metadata": {},
   "outputs": [
    {
     "name": "stdout",
     "output_type": "stream",
     "text": [
      "[5, 4, 3, 2, 1]\n",
      "[(5, 'Futbol'), (4, 'Yüzme'), (3, 'Masa Tenisi'), (2, 'Basketbol'), (1, 'Voleybol')]\n",
      "['Yüzme', 'Voleybol', 'Masa Tenisi', 'Futbol', 'Basketbol']\n"
     ]
    }
   ],
   "source": [
    "print(sorted(sports.keys(), reverse=True)) #listedeki keys değerlerini tersten yazdırır.\n",
    "print(sorted(sports.items(), reverse=True)) #listedeki items değerlerini tersten yazdırır.\n",
    "print(sorted(sports.values(), reverse=True)) #listedeki values değerlerini tersten yazdırır."
   ]
  },
  {
   "cell_type": "code",
   "execution_count": 54,
   "metadata": {},
   "outputs": [
    {
     "data": {
      "text/plain": [
       "{'hidrojen': 9, 'oksijen': 15, 'helyum': 8, 'karbon': 12}"
      ]
     },
     "execution_count": 54,
     "metadata": {},
     "output_type": "execute_result"
    }
   ],
   "source": [
    "#key değerlerinin uzunluğu kadar value değerine ekleme yapalım\n",
    "\n",
    "elements = {\n",
    "    \"hidrojen\":1,\n",
    "    \"oksijen\":8,\n",
    "    \"helyum\":2,\n",
    "    \"karbon\":6\n",
    "}\n",
    "\n",
    "for key, value in elements.items():\n",
    "    elements[key] = len(key) + value\n",
    "\n",
    "elements"
   ]
  },
  {
   "cell_type": "code",
   "execution_count": 55,
   "metadata": {},
   "outputs": [
    {
     "data": {
      "text/plain": [
       "{'Merve': 35, 'Emre': 38, 'Ayşe': 24, 'Asena': 27, 'Ezgi': 31}"
      ]
     },
     "execution_count": 55,
     "metadata": {},
     "output_type": "execute_result"
    }
   ],
   "source": [
    "my_dict1 = {\"Merve\":35, \"Emre\":27, \"Ayşe\":24}\n",
    "my_dict2 = {\"Asena\":27, \"Ezgi\":31, \"Emre\":38}\n",
    "\n",
    "new_dict = {**my_dict1, **my_dict2}\n",
    "new_dict"
   ]
  },
  {
   "cell_type": "code",
   "execution_count": 56,
   "metadata": {},
   "outputs": [
    {
     "data": {
      "text/plain": [
       "{'Merve': 35, 'Emre': 38, 'Ayşe': 24, 'Asena': 27, 'Ezgi': 31}"
      ]
     },
     "execution_count": 56,
     "metadata": {},
     "output_type": "execute_result"
    }
   ],
   "source": [
    "my_dict1.update(my_dict2)\n",
    "my_dict1"
   ]
  },
  {
   "cell_type": "code",
   "execution_count": 57,
   "metadata": {},
   "outputs": [
    {
     "data": {
      "text/plain": [
       "0"
      ]
     },
     "execution_count": 57,
     "metadata": {},
     "output_type": "execute_result"
    }
   ],
   "source": [
    "my_dict = {\n",
    "    \"Python\":\n",
    "        {\n",
    "            \"weeks\":\n",
    "            {\n",
    "                \"data_structures\":\"list\",\n",
    "                \"dict\":\n",
    "                      {\n",
    "                        \"key\":0,\n",
    "                        \"value\":1\n",
    "                      }\n",
    "            }\n",
    "\n",
    "        }\n",
    "    }\n",
    "\n",
    "my_dict[\"Python\"][\"weeks\"][\"dict\"][\"key\"]"
   ]
  },
  {
   "cell_type": "code",
   "execution_count": 58,
   "metadata": {},
   "outputs": [
    {
     "data": {
      "text/plain": [
       "{'Adana': 1, 'İstanbul': 34, 'Van': 65}"
      ]
     },
     "execution_count": 58,
     "metadata": {},
     "output_type": "execute_result"
    }
   ],
   "source": [
    "#iki listeyi birleştirip bir sözlük oluşturma\n",
    "\n",
    "keys = [\"Adana\", \"İstanbul\", \"Van\"]\n",
    "values = [1, 34, 65]\n",
    "\n",
    "my_dict = {}\n",
    "for i in range(len(keys)):\n",
    "    my_dict.update({keys[i]:values[i]})\n",
    "\n",
    "my_dict"
   ]
  },
  {
   "cell_type": "code",
   "execution_count": 59,
   "metadata": {},
   "outputs": [
    {
     "data": {
      "text/plain": [
       "{'Adana': 1, 'İstanbul': 34, 'Van': 65}"
      ]
     },
     "execution_count": 59,
     "metadata": {},
     "output_type": "execute_result"
    }
   ],
   "source": [
    "#zip ile iki listeyi birleştirip bir sözlük oluşturma\n",
    "keys = [\"Adana\", \"İstanbul\", \"Van\"]\n",
    "values = [1, 34, 65]\n",
    "\n",
    "my_dict = dict(zip(keys, values))\n",
    "\n",
    "my_dict"
   ]
  },
  {
   "cell_type": "code",
   "execution_count": 65,
   "metadata": {},
   "outputs": [
    {
     "data": {
      "text/plain": [
       "{'joey': 'joey_tribbiani',\n",
       " 'rachel': 'rachel_green',\n",
       " 'ross': 'ross_geller',\n",
       " 'monica': 'monica_geller',\n",
       " 'phoebe': 'phoebe_buffay',\n",
       " 'chandler': 'chandler_bing'}"
      ]
     },
     "execution_count": 65,
     "metadata": {},
     "output_type": "execute_result"
    }
   ],
   "source": [
    "#friends dizisinin oyuncularının ismini joey Tribbiani -> joey_tribbiani\n",
    "#listedeki yazıları küçük harfe çevirir ve aralarına (_) koyar.\n",
    "\n",
    "friends = {\n",
    "    \"joey\":\"Joey Tribbiani\",\n",
    "    \"rachel\":\"Rachel Green\",\n",
    "    \"ross\":\"Ross Geller\",\n",
    "    \"monica\":\"Monica Geller\",\n",
    "    \"phoebe\":\"Phoebe Buffay\",\n",
    "    \"chandler\":\"Chandler Bing\"\n",
    "}\n",
    "\n",
    "for key, value in friends.items():\n",
    "    friends.update({key:value.replace(\" \", \"_\").lower()})\n",
    "    #friends[key] = value.replace(\" \", \"_\").llower()\n",
    "\n",
    "friends"
   ]
  },
  {
   "cell_type": "markdown",
   "metadata": {},
   "source": []
  },
  {
   "cell_type": "markdown",
   "metadata": {},
   "source": []
  },
  {
   "cell_type": "markdown",
   "metadata": {},
   "source": []
  },
  {
   "cell_type": "markdown",
   "metadata": {},
   "source": []
  },
  {
   "cell_type": "markdown",
   "metadata": {},
   "source": []
  },
  {
   "cell_type": "markdown",
   "metadata": {},
   "source": []
  },
  {
   "cell_type": "markdown",
   "metadata": {},
   "source": []
  },
  {
   "cell_type": "markdown",
   "metadata": {},
   "source": []
  },
  {
   "cell_type": "markdown",
   "metadata": {},
   "source": []
  },
  {
   "cell_type": "code",
   "execution_count": null,
   "metadata": {},
   "outputs": [],
   "source": []
  },
  {
   "cell_type": "code",
   "execution_count": null,
   "metadata": {},
   "outputs": [],
   "source": []
  },
  {
   "cell_type": "code",
   "execution_count": null,
   "metadata": {},
   "outputs": [],
   "source": []
  },
  {
   "cell_type": "code",
   "execution_count": null,
   "metadata": {},
   "outputs": [],
   "source": []
  },
  {
   "cell_type": "markdown",
   "metadata": {},
   "source": []
  },
  {
   "cell_type": "markdown",
   "metadata": {},
   "source": []
  },
  {
   "cell_type": "markdown",
   "metadata": {},
   "source": []
  },
  {
   "cell_type": "markdown",
   "metadata": {},
   "source": []
  },
  {
   "cell_type": "markdown",
   "metadata": {},
   "source": []
  },
  {
   "cell_type": "markdown",
   "metadata": {},
   "source": []
  },
  {
   "cell_type": "markdown",
   "metadata": {},
   "source": []
  },
  {
   "cell_type": "markdown",
   "metadata": {},
   "source": []
  },
  {
   "cell_type": "markdown",
   "metadata": {},
   "source": []
  },
  {
   "cell_type": "markdown",
   "metadata": {},
   "source": []
  },
  {
   "cell_type": "markdown",
   "metadata": {},
   "source": []
  },
  {
   "cell_type": "markdown",
   "metadata": {},
   "source": []
  },
  {
   "cell_type": "markdown",
   "metadata": {},
   "source": []
  },
  {
   "cell_type": "markdown",
   "metadata": {},
   "source": []
  }
 ],
 "metadata": {
  "kernelspec": {
   "display_name": "Python 3.9.5 64-bit",
   "language": "python",
   "name": "python3"
  },
  "language_info": {
   "codemirror_mode": {
    "name": "ipython",
    "version": 3
   },
   "file_extension": ".py",
   "mimetype": "text/x-python",
   "name": "python",
   "nbconvert_exporter": "python",
   "pygments_lexer": "ipython3",
   "version": "3.9.5"
  },
  "orig_nbformat": 4,
  "vscode": {
   "interpreter": {
    "hash": "f6246b25e200e4c5124e3e61789ac81350562f0761bbcf92ad9e48654207659c"
   }
  }
 },
 "nbformat": 4,
 "nbformat_minor": 2
}
