{
 "cells": [
  {
   "cell_type": "markdown",
   "metadata": {},
   "source": [
    "TİP DÖNÜŞÜMLERİ"
   ]
  },
  {
   "cell_type": "code",
   "execution_count": 1,
   "metadata": {},
   "outputs": [
    {
     "name": "stdout",
     "output_type": "stream",
     "text": [
      "28\n",
      "3.14\n",
      "başarısız\n"
     ]
    }
   ],
   "source": [
    "number = 28\n",
    "pi = 3.14\n",
    "result = \"başarısız\"\n",
    "\n",
    "print(number)\n",
    "print(pi)\n",
    "print(result)"
   ]
  },
  {
   "cell_type": "markdown",
   "metadata": {},
   "source": [
    "#method anlatımı yapar: ?print"
   ]
  },
  {
   "cell_type": "code",
   "execution_count": 2,
   "metadata": {},
   "outputs": [
    {
     "name": "stdout",
     "output_type": "stream",
     "text": [
      "28.0\n",
      "3\n"
     ]
    }
   ],
   "source": [
    "print(float(number))\n",
    "print(int(pi))"
   ]
  },
  {
   "cell_type": "code",
   "execution_count": 3,
   "metadata": {},
   "outputs": [
    {
     "name": "stdout",
     "output_type": "stream",
     "text": [
      "80\n",
      "80\n"
     ]
    },
    {
     "ename": "ValueError",
     "evalue": "invalid literal for int() with base 10: 'seksen'",
     "output_type": "error",
     "traceback": [
      "\u001b[1;31m---------------------------------------------------------------------------\u001b[0m",
      "\u001b[1;31mValueError\u001b[0m                                Traceback (most recent call last)",
      "Cell \u001b[1;32mIn [3], line 3\u001b[0m\n\u001b[0;32m      1\u001b[0m \u001b[39mprint\u001b[39m(\u001b[39mint\u001b[39m(\u001b[39m\"\u001b[39m\u001b[39m80\u001b[39m\u001b[39m\"\u001b[39m))\n\u001b[0;32m      2\u001b[0m \u001b[39mprint\u001b[39m(\u001b[39mstr\u001b[39m(\u001b[39m80\u001b[39m))\n\u001b[1;32m----> 3\u001b[0m \u001b[39mprint\u001b[39m(\u001b[39mint\u001b[39;49m(\u001b[39m\"\u001b[39;49m\u001b[39mseksen\u001b[39;49m\u001b[39m\"\u001b[39;49m))\n",
      "\u001b[1;31mValueError\u001b[0m: invalid literal for int() with base 10: 'seksen'"
     ]
    }
   ],
   "source": [
    "print(int(\"80\"))\n",
    "print(str(80))\n",
    "print(int(\"seksen\"))"
   ]
  },
  {
   "cell_type": "code",
   "execution_count": null,
   "metadata": {},
   "outputs": [],
   "source": []
  },
  {
   "cell_type": "code",
   "execution_count": null,
   "metadata": {},
   "outputs": [],
   "source": []
  },
  {
   "cell_type": "code",
   "execution_count": null,
   "metadata": {},
   "outputs": [],
   "source": []
  },
  {
   "cell_type": "code",
   "execution_count": null,
   "metadata": {},
   "outputs": [],
   "source": []
  },
  {
   "cell_type": "markdown",
   "metadata": {},
   "source": [
    "print() ve format()"
   ]
  },
  {
   "cell_type": "code",
   "execution_count": null,
   "metadata": {},
   "outputs": [
    {
     "name": "stdout",
     "output_type": "stream",
     "text": [
      "Hoş Geldin Nur\n"
     ]
    }
   ],
   "source": [
    "name = \"Nur\"\n",
    "print(\"Hoş Geldin\", name)"
   ]
  },
  {
   "cell_type": "code",
   "execution_count": null,
   "metadata": {},
   "outputs": [
    {
     "name": "stdout",
     "output_type": "stream",
     "text": [
      "Hoş Geldin Nur seni aramızda gördüğümüz için mutluyuz\n"
     ]
    }
   ],
   "source": [
    "print(\"Hoş Geldin {} seni aramızda gördüğümüz için mutluyuz\".format(name))"
   ]
  },
  {
   "cell_type": "code",
   "execution_count": null,
   "metadata": {},
   "outputs": [
    {
     "name": "stdout",
     "output_type": "stream",
     "text": [
      "Hoş Geldin Nur seni Python dersinde gördüğümüz için mutluyuz\n"
     ]
    }
   ],
   "source": [
    "lesson = \"Python\"\n",
    "print(\"Hoş Geldin {} seni {} dersinde gördüğümüz için mutluyuz\".format(name, lesson))"
   ]
  },
  {
   "cell_type": "code",
   "execution_count": null,
   "metadata": {},
   "outputs": [
    {
     "name": "stdout",
     "output_type": "stream",
     "text": [
      "Hoş Geldin Nur seni Python dersinde gördüğümüz için mutluyuz\n"
     ]
    }
   ],
   "source": [
    "print(f\"Hoş Geldin {name} seni {lesson} dersinde gördüğümüz için mutluyuz\")"
   ]
  },
  {
   "cell_type": "code",
   "execution_count": null,
   "metadata": {},
   "outputs": [
    {
     "name": "stdout",
     "output_type": "stream",
     "text": [
      "isminizi girin:\n",
      "Hoş Geldin: nur\n"
     ]
    }
   ],
   "source": [
    "print(\"isminizi girin:\")\n",
    "name = input()\n",
    "\n",
    "print(\"Hoş Geldin:\", name)"
   ]
  },
  {
   "cell_type": "markdown",
   "metadata": {},
   "source": [
    "KONTROL YAPILARI\n",
    "\n",
    "\n",
    "(<)  Küçük\n",
    "\n",
    "(>)  Büyük\n",
    "\n",
    "(<=) Küçük Eşi\n",
    "\n",
    "(>=) Büyük Eşit\n",
    "\n",
    "!=   Eşit Değil"
   ]
  },
  {
   "cell_type": "code",
   "execution_count": null,
   "metadata": {},
   "outputs": [
    {
     "name": "stdout",
     "output_type": "stream",
     "text": [
      "y değeri x değerinden büyüktür\n"
     ]
    }
   ],
   "source": [
    "x = 12\n",
    "y = 16\n",
    "\n",
    "if y > x:\n",
    "    print(\"y değeri x değerinden büyüktür\")"
   ]
  },
  {
   "cell_type": "code",
   "execution_count": null,
   "metadata": {},
   "outputs": [
    {
     "name": "stdout",
     "output_type": "stream",
     "text": [
      "y değeri x değerine eşittir\n"
     ]
    }
   ],
   "source": [
    "x = 12\n",
    "y = 12\n",
    "if y > x:\n",
    "    print(\"y değeri x değerinden büyüktür\")\n",
    "\n",
    "elif y == x:\n",
    "    print(\"y değeri x değerine eşittir\")"
   ]
  },
  {
   "cell_type": "code",
   "execution_count": null,
   "metadata": {},
   "outputs": [
    {
     "name": "stdout",
     "output_type": "stream",
     "text": [
      "y değeri x değerinden küçüktür\n"
     ]
    }
   ],
   "source": [
    "x = 18\n",
    "y = 12\n",
    "\n",
    "if y > x:\n",
    "    print(\"y değeri x değerinden büyüktür\")\n",
    "\n",
    "elif y == x:\n",
    "    print(\"y değeri x değerine eşittir\")\n",
    "\n",
    "elif y < x:\n",
    "    print(\"y değeri x değerinden küçüktür\")"
   ]
  },
  {
   "cell_type": "markdown",
   "metadata": {},
   "source": [
    "Kullanıcıdan iki sayı alma. İlk kullanımda >=, iç içe kontrol yapısı kullanılacak"
   ]
  },
  {
   "cell_type": "code",
   "execution_count": null,
   "metadata": {},
   "outputs": [
    {
     "name": "stdout",
     "output_type": "stream",
     "text": [
      "10 değeri 5 değerinden büyüktür\n"
     ]
    }
   ],
   "source": [
    "num_1 = int(input(\"1. Sayıyı Giriniz:\"))\n",
    "num_2 = int(input(\"2. Sayıyı Giriniz:\"))\n",
    "\n",
    "if num_1 >= num_2:\n",
    "    if num_1 == num_2:\n",
    "        print(\"{} değeri {} değerine eşittir\".format(num_1, num_2))\n",
    "\n",
    "    else:\n",
    "        print(f\"{num_1} değeri {num_2} değerinden büyüktür\")\n",
    "    \n",
    "else:\n",
    "    print(f\"{num_1} değeri {num_2} değerinden küçüktür\")"
   ]
  },
  {
   "cell_type": "code",
   "execution_count": null,
   "metadata": {},
   "outputs": [
    {
     "name": "stdout",
     "output_type": "stream",
     "text": [
      "True\n"
     ]
    }
   ],
   "source": [
    "result = True\n",
    "if result:\n",
    "    print(\"True\")\n",
    "    result = False\n",
    "else:   print(\"False\")"
   ]
  },
  {
   "cell_type": "markdown",
   "metadata": {},
   "source": [
    "DÖNGÜLER\n",
    "\n",
    "* range (start_value, end_value, step): Belirtilmediği durumlarda; start_value = 0, step = 1 kabul edilir. end_value dahil değildir.\n",
    "\n",
    "* for\n",
    "\n",
    "* while: Koşul sağlandığı sürece çalışan döngüdür."
   ]
  },
  {
   "cell_type": "code",
   "execution_count": null,
   "metadata": {},
   "outputs": [
    {
     "data": {
      "text/plain": [
       "range(100, 1, -5)"
      ]
     },
     "execution_count": 19,
     "metadata": {},
     "output_type": "execute_result"
    }
   ],
   "source": [
    "range(5)\n",
    "range(2, 34, 3)\n",
    "range(100, 1, -5)"
   ]
  },
  {
   "cell_type": "code",
   "execution_count": null,
   "metadata": {},
   "outputs": [
    {
     "name": "stdout",
     "output_type": "stream",
     "text": [
      "0\n",
      "1\n",
      "2\n",
      "3\n",
      "4\n"
     ]
    }
   ],
   "source": [
    "for i in range(5):\n",
    "    print(i)"
   ]
  },
  {
   "cell_type": "code",
   "execution_count": null,
   "metadata": {},
   "outputs": [
    {
     "name": "stdout",
     "output_type": "stream",
     "text": [
      "100\n",
      "95\n",
      "90\n",
      "85\n",
      "80\n",
      "75\n",
      "70\n",
      "65\n",
      "60\n",
      "55\n",
      "50\n",
      "45\n",
      "40\n",
      "35\n",
      "30\n",
      "25\n",
      "20\n",
      "15\n",
      "10\n",
      "5\n"
     ]
    }
   ],
   "source": [
    "for i in range(100, 1, -5):\n",
    "    print(i)"
   ]
  },
  {
   "cell_type": "code",
   "execution_count": null,
   "metadata": {},
   "outputs": [
    {
     "name": "stdout",
     "output_type": "stream",
     "text": [
      "2\n",
      "5\n",
      "8\n",
      "11\n",
      "14\n",
      "17\n",
      "20\n",
      "23\n",
      "26\n",
      "29\n",
      "32\n"
     ]
    }
   ],
   "source": [
    "for i in range(2, 34, 3):\n",
    "    print(i)"
   ]
  },
  {
   "cell_type": "markdown",
   "metadata": {},
   "source": [
    "break: istenen koşul sağlandığında döngüyü kırar ve çıkar"
   ]
  },
  {
   "cell_type": "code",
   "execution_count": null,
   "metadata": {},
   "outputs": [
    {
     "name": "stdout",
     "output_type": "stream",
     "text": [
      "40\n",
      "35\n",
      "30\n",
      "25\n"
     ]
    }
   ],
   "source": [
    "for x in range(40, 1, -5):\n",
    "    if x <= 20:\n",
    "        break\n",
    "    else:\n",
    "        print(x)"
   ]
  },
  {
   "cell_type": "markdown",
   "metadata": {},
   "source": [
    "continue: istenen koşulu atlayıp döngüye devam eder."
   ]
  },
  {
   "cell_type": "code",
   "execution_count": null,
   "metadata": {},
   "outputs": [
    {
     "name": "stdout",
     "output_type": "stream",
     "text": [
      "35\n",
      "25\n",
      "15\n",
      "5\n"
     ]
    }
   ],
   "source": [
    "for x in range(40, 1, -5):\n",
    "    if x % 2 == 0:\n",
    "        continue\n",
    "    print(x)"
   ]
  },
  {
   "cell_type": "code",
   "execution_count": null,
   "metadata": {},
   "outputs": [
    {
     "name": "stdout",
     "output_type": "stream",
     "text": [
      "1\n",
      "2\n",
      "3\n",
      "4\n",
      "Döngü tamamlandı\n"
     ]
    }
   ],
   "source": [
    "count = 1\n",
    "while count < 5:\n",
    "    print(count)\n",
    "    count += 1\n",
    "\n",
    "print(\"Döngü tamamlandı\")"
   ]
  },
  {
   "cell_type": "markdown",
   "metadata": {},
   "source": [
    "Sonsuz Döngü"
   ]
  },
  {
   "cell_type": "code",
   "execution_count": null,
   "metadata": {},
   "outputs": [],
   "source": [
    "count = 1\n",
    "while count < 5:\n",
    "    print(count)"
   ]
  },
  {
   "cell_type": "markdown",
   "metadata": {},
   "source": []
  }
 ],
 "metadata": {
  "kernelspec": {
   "display_name": "Python 3.9.5 64-bit",
   "language": "python",
   "name": "python3"
  },
  "language_info": {
   "codemirror_mode": {
    "name": "ipython",
    "version": 3
   },
   "file_extension": ".py",
   "mimetype": "text/x-python",
   "name": "python",
   "nbconvert_exporter": "python",
   "pygments_lexer": "ipython3",
   "version": "3.9.5"
  },
  "orig_nbformat": 4,
  "vscode": {
   "interpreter": {
    "hash": "f6246b25e200e4c5124e3e61789ac81350562f0761bbcf92ad9e48654207659c"
   }
  }
 },
 "nbformat": 4,
 "nbformat_minor": 2
}
