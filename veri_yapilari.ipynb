{
 "cells": [
  {
   "cell_type": "markdown",
   "metadata": {},
   "source": [
    "**VERİ YAPILARI**\n",
    "\n",
    "* List\n",
    "\n",
    "* Tuple\n",
    "\n",
    "* Set\n",
    "\n",
    "* Dictionary\n",
    "\n",
    "**Listeler**\n",
    "\n",
    "* index ile erişilebilir, ordered yani sıralıdır.\n",
    "* mutable(değiştirilebilir) yani liste içine eklenen bir veri değiştirilebilir\n",
    "* [ ] ile tanımlanır. Liste elemanları da (,) ile ayrılır.\n",
    "* Farklı tipte veri içerebilir.\n",
    "* Aynı değerlere sahip iki elemana sahip olabilir. Duplicate veri barındırabilir"
   ]
  },
  {
   "cell_type": "code",
   "execution_count": 1,
   "metadata": {},
   "outputs": [],
   "source": [
    "list_int = [1, 6, 8, 4, -1, 1]\n",
    "list_string = [\"Nur\",\"Müzeyyen\",\"Enes\",\"Reşit\",\"Türkan\"]\n",
    "list_bool = [True, False]\n",
    "list_float = [1.2, 4.5, 13.6]\n",
    "\n",
    "list_mix = [\"Hatice\", 23, 10000, True, 13.4]"
   ]
  },
  {
   "cell_type": "code",
   "execution_count": 6,
   "metadata": {},
   "outputs": [
    {
     "name": "stdout",
     "output_type": "stream",
     "text": [
      "['Hatice', 23, 10000, True, 13.4]\n",
      "\n",
      "pozitif indexler ile erişim\n",
      "0. index değeri: Hatice\n",
      "1. index değeri: 23\n",
      "2. index değeri: 10000\n",
      "\n",
      "negatif indexler ile erişim\n",
      "-1. index değeri: 13.4\n",
      "-2. index değeri: True\n",
      "-3. index değeri: 10000\n"
     ]
    }
   ],
   "source": [
    "#Elemanlara index ile erişim\n",
    "\n",
    "print(list_mix)\n",
    "\n",
    "print(\"\\npozitif indexler ile erişim\")\n",
    "print(\"0. index değeri:\", list_mix[0])\n",
    "print(\"1. index değeri:\", list_mix[1])\n",
    "print(\"2. index değeri:\", list_mix[2])\n",
    "\n",
    "print(\"\\nnegatif indexler ile erişim\")\n",
    "print(\"-1. index değeri:\", list_mix[-1])\n",
    "print(\"-2. index değeri:\", list_mix[-2])\n",
    "print(\"-3. index değeri:\", list_mix[-3])"
   ]
  },
  {
   "cell_type": "code",
   "execution_count": 7,
   "metadata": {},
   "outputs": [
    {
     "ename": "IndexError",
     "evalue": "list index out of range",
     "output_type": "error",
     "traceback": [
      "\u001b[1;31m---------------------------------------------------------------------------\u001b[0m",
      "\u001b[1;31mIndexError\u001b[0m                                Traceback (most recent call last)",
      "Cell \u001b[1;32mIn [7], line 1\u001b[0m\n\u001b[1;32m----> 1\u001b[0m \u001b[43mlist_mix\u001b[49m\u001b[43m[\u001b[49m\u001b[38;5;241;43m7\u001b[39;49m\u001b[43m]\u001b[49m\n",
      "\u001b[1;31mIndexError\u001b[0m: list index out of range"
     ]
    }
   ],
   "source": [
    "list_mix[7]"
   ]
  },
  {
   "cell_type": "code",
   "execution_count": 10,
   "metadata": {},
   "outputs": [
    {
     "ename": "TypeError",
     "evalue": "list indices must be integers or slices, not float",
     "output_type": "error",
     "traceback": [
      "\u001b[1;31m---------------------------------------------------------------------------\u001b[0m",
      "\u001b[1;31mTypeError\u001b[0m                                 Traceback (most recent call last)",
      "Cell \u001b[1;32mIn [10], line 3\u001b[0m\n\u001b[0;32m      1\u001b[0m \u001b[38;5;66;03m#indexlere her zaman int bir değerle yapmalıyız.\u001b[39;00m\n\u001b[1;32m----> 3\u001b[0m \u001b[43mlist_mix\u001b[49m\u001b[43m[\u001b[49m\u001b[38;5;241;43m2.3\u001b[39;49m\u001b[43m]\u001b[49m\n",
      "\u001b[1;31mTypeError\u001b[0m: list indices must be integers or slices, not float"
     ]
    }
   ],
   "source": [
    "#indexlere her zaman int bir değerle yapmalıyız.\n",
    "\n",
    "list_mix[2.3]"
   ]
  },
  {
   "cell_type": "code",
   "execution_count": 11,
   "metadata": {},
   "outputs": [
    {
     "name": "stdout",
     "output_type": "stream",
     "text": [
      "['Hatice', 23, 10000, True, 13.4]\n",
      "Listemizin Uzunluğu: 5\n"
     ]
    }
   ],
   "source": [
    "#Listelerde Uzunluk\n",
    "\n",
    "print(list_mix)\n",
    "print(\"Listemizin Uzunluğu:\", len(list_mix))"
   ]
  }
 ],
 "metadata": {
  "kernelspec": {
   "display_name": "Python 3.9.5 64-bit",
   "language": "python",
   "name": "python3"
  },
  "language_info": {
   "codemirror_mode": {
    "name": "ipython",
    "version": 3
   },
   "file_extension": ".py",
   "mimetype": "text/x-python",
   "name": "python",
   "nbconvert_exporter": "python",
   "pygments_lexer": "ipython3",
   "version": "3.9.5"
  },
  "orig_nbformat": 4,
  "vscode": {
   "interpreter": {
    "hash": "f6246b25e200e4c5124e3e61789ac81350562f0761bbcf92ad9e48654207659c"
   }
  }
 },
 "nbformat": 4,
 "nbformat_minor": 2
}
