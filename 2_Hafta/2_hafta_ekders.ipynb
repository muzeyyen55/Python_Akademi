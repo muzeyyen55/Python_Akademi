{
 "cells": [
  {
   "cell_type": "code",
   "execution_count": 2,
   "metadata": {},
   "outputs": [
    {
     "name": "stdout",
     "output_type": "stream",
     "text": [
      "0 ile 10 sayıları arasındaki sayıların toplamı 55\n"
     ]
    }
   ],
   "source": [
    "#Kullanıcıdan bir sayı alıp ardından 0 ile girilen değer arasındaki sayıların toplamını veren kod\n",
    "\n",
    "number = int(input(\"Bir Sayı Giriniz:\"))\n",
    "total = 0\n",
    "for i in range(1, number + 1):\n",
    "    total += i\n",
    "\n",
    "print(\"0 ile {} sayıları arasındaki sayıların toplamı {}\".format(number, total))"
   ]
  },
  {
   "cell_type": "code",
   "execution_count": 3,
   "metadata": {},
   "outputs": [
    {
     "name": "stdout",
     "output_type": "stream",
     "text": [
      "0 ile 5 sayıları arasındaki sayıların toplamı 10\n"
     ]
    }
   ],
   "source": [
    "#Toplama işlemi sırasında eğer o anki değer 5' e tam bölünebiliyorsa o sayıyı toplama ekleme \n",
    "\n",
    "number = int(input(\"Bir Sayı Giriniz:\"))\n",
    "total = 0\n",
    "for i in range(1, number + 1):\n",
    "    if i % 5 == 0:\n",
    "        continue\n",
    "    total += i\n",
    "\n",
    "print(f\"0 ile {number} sayıları arasındaki sayıların toplamı {total}\")"
   ]
  },
  {
   "cell_type": "code",
   "execution_count": 5,
   "metadata": {},
   "outputs": [
    {
     "name": "stdout",
     "output_type": "stream",
     "text": [
      "sayı 5 basamaklıdır\n"
     ]
    }
   ],
   "source": [
    "#Bir sayının kaç basamaklı olduğunu hesapla\n",
    "\n",
    "x = 53674\n",
    "count = 0\n",
    "while x % 10 != 0:\n",
    "    count += 1\n",
    "    x = x // 10\n",
    "\n",
    "print(f\"sayı {count} basamaklıdır\")"
   ]
  },
  {
   "cell_type": "code",
   "execution_count": 6,
   "metadata": {},
   "outputs": [
    {
     "name": "stdout",
     "output_type": "stream",
     "text": [
      "Sayı 4 basamaklıdır\n"
     ]
    }
   ],
   "source": [
    "#Bir sayının kaç basamaklı olduğunu hesapla\n",
    "\n",
    "x = 6200\n",
    "count = 0\n",
    "while x != 0:\n",
    "    count += 1\n",
    "    x = x // 10\n",
    "\n",
    "print(f\"Sayı {count} basamaklıdır\")"
   ]
  },
  {
   "cell_type": "code",
   "execution_count": 8,
   "metadata": {},
   "outputs": [
    {
     "name": "stdout",
     "output_type": "stream",
     "text": [
      "3\n",
      "5\n",
      "7\n",
      "11\n",
      "13\n",
      "17\n",
      "19\n"
     ]
    }
   ],
   "source": [
    "#Bir aralık belirleyip bu aralıktaki tüm asal sayıları ekrana yaz\n",
    "\n",
    "start_value = 3\n",
    "end_value = 20\n",
    "\n",
    "for i in range(start_value, end_value):\n",
    "    asal = True\n",
    "    for j in range(2, i):\n",
    "        if i % j == 0:\n",
    "            asal = False\n",
    "    if asal:\n",
    "        print(i)"
   ]
  },
  {
   "cell_type": "code",
   "execution_count": 11,
   "metadata": {},
   "outputs": [
    {
     "name": "stdout",
     "output_type": "stream",
     "text": [
      "0 1 1 2 3 5 "
     ]
    }
   ],
   "source": [
    "#Fibonacci serisini ekrana bastır\n",
    "\n",
    "number_1, number_2 = 0, 1\n",
    "x = int(input(\"Seri için bir sayı giriniz:\"))\n",
    "for i in range(x):\n",
    "    print(number_1, end= \" \")\n",
    "    total = number_1 + number_2\n",
    "    number_1 = number_2\n",
    "    number_2 = total"
   ]
  },
  {
   "cell_type": "code",
   "execution_count": 13,
   "metadata": {},
   "outputs": [
    {
     "name": "stdout",
     "output_type": "stream",
     "text": [
      "8 sayısının faktöriyeli = 8\n",
      "8 sayısının faktöriyeli = 56\n",
      "8 sayısının faktöriyeli = 336\n",
      "8 sayısının faktöriyeli = 1680\n",
      "8 sayısının faktöriyeli = 6720\n",
      "8 sayısının faktöriyeli = 20160\n",
      "8 sayısının faktöriyeli = 40320\n"
     ]
    }
   ],
   "source": [
    "#Faktöriyel Hesabı\n",
    "\n",
    "number = int(input(\"Bir sayı giriniz:\"))\n",
    "x = 1\n",
    "for i in range(number, 1, -1):\n",
    "    x *= i\n",
    "print(f\"{number} sayısının faktöriyeli = {x}\")"
   ]
  },
  {
   "cell_type": "code",
   "execution_count": 15,
   "metadata": {},
   "outputs": [
    {
     "name": "stdout",
     "output_type": "stream",
     "text": [
      "Girilen sayı: 5689\n",
      "9\n",
      "98\n",
      "986\n",
      "9865\n",
      "Ters Çevrilmiş Hali: 9865\n"
     ]
    }
   ],
   "source": [
    "#Girilen sayıyı tersine çevir\n",
    "\n",
    "from tempfile import tempdir\n",
    "\n",
    "a = 5689\n",
    "print(\"Girilen sayı:\",a)\n",
    "new_number = 0\n",
    "while a > 0:\n",
    "    temp = a % 10\n",
    "    new_number = new_number*10+temp\n",
    "    print(new_number)\n",
    "    a //=10\n",
    "\n",
    "print(\"Ters Çevrilmiş Hali:\", new_number)"
   ]
  }
 ],
 "metadata": {
  "kernelspec": {
   "display_name": "Python 3.10.8 64-bit (microsoft store)",
   "language": "python",
   "name": "python3"
  },
  "language_info": {
   "codemirror_mode": {
    "name": "ipython",
    "version": 3
   },
   "file_extension": ".py",
   "mimetype": "text/x-python",
   "name": "python",
   "nbconvert_exporter": "python",
   "pygments_lexer": "ipython3",
   "version": "3.10.8"
  },
  "orig_nbformat": 4,
  "vscode": {
   "interpreter": {
    "hash": "75328cd36868a46990b96b50a3e79d16599f753ed0672728bccd76ddc954032c"
   }
  }
 },
 "nbformat": 4,
 "nbformat_minor": 2
}
