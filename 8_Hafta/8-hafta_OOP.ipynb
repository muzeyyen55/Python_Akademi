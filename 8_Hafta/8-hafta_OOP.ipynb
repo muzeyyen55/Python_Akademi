{
 "cells": [
  {
   "cell_type": "markdown",
   "metadata": {},
   "source": [
    "**OOP (Nesne Tabanlı Programlama)**\n",
    "\n",
    "Bir sınıf tanımlaması yapmak için;\n",
    "\n",
    "* class sinif_adi():\n",
    "     body\n",
    "\n",
    "* class sinif_adi:\n",
    "     body"
   ]
  },
  {
   "cell_type": "markdown",
   "metadata": {},
   "source": [
    "* class(sınıf)\n",
    "* object(nesne)\n",
    "* attributes(özellik)\n",
    "* metod"
   ]
  },
  {
   "cell_type": "code",
   "execution_count": 1,
   "metadata": {},
   "outputs": [],
   "source": [
    "class Araba:\n",
    "    plaka = \"\"\n",
    "    vites_tipi = \"\"\n",
    "    marka = \"\"\n",
    "    renk = \"\""
   ]
  },
  {
   "cell_type": "code",
   "execution_count": 2,
   "metadata": {},
   "outputs": [],
   "source": [
    "#araba classın içine audi adında nesne oluşturduk\n",
    "audi = Araba()\n",
    "audi.marka = \"Audi\"\n",
    "audi.plaka = \"55 MNA 2420\"\n",
    "audi.renk = \"Beyaz\"\n",
    "audi.vites_tipi = \"Manuel\""
   ]
  },
  {
   "cell_type": "code",
   "execution_count": 3,
   "metadata": {},
   "outputs": [
    {
     "name": "stdout",
     "output_type": "stream",
     "text": [
      "55 MNA 2420\n"
     ]
    }
   ],
   "source": [
    "print(audi.plaka)"
   ]
  },
  {
   "cell_type": "code",
   "execution_count": 4,
   "metadata": {},
   "outputs": [],
   "source": [
    "#bir class da birden fazla nesne oluşturabiliriz.\n",
    "\n",
    "bmw = Araba()\n",
    "bmw.marka = \"BMW\"\n",
    "bmw.plaka = \"16 EMA 6570\"\n",
    "bmw.renk = \"Siyah\"\n",
    "bmw.vites_tipi = \"Otomatik\""
   ]
  },
  {
   "cell_type": "code",
   "execution_count": 5,
   "metadata": {},
   "outputs": [
    {
     "data": {
      "text/plain": [
       "'Otomatik'"
      ]
     },
     "execution_count": 5,
     "metadata": {},
     "output_type": "execute_result"
    }
   ],
   "source": [
    "bmw.vites_tipi"
   ]
  },
  {
   "cell_type": "code",
   "execution_count": 6,
   "metadata": {},
   "outputs": [
    {
     "name": "stdout",
     "output_type": "stream",
     "text": [
      "<class '__main__.Araba'>\n"
     ]
    }
   ],
   "source": [
    "#bmw classın hangi type de olduğunu aşağıdaki gibi öğrenebiliriz\n",
    "\n",
    "print(type(bmw))"
   ]
  },
  {
   "cell_type": "code",
   "execution_count": 7,
   "metadata": {},
   "outputs": [],
   "source": [
    "#bir claassın içerisindeki özellikleri hizmet etmeye metot denir.\n",
    "\n",
    "class Araba:\n",
    "    plaka = \"\"\n",
    "    vites_tipi = \"\"\n",
    "    marka = \"\"\n",
    "    renk = \"\"\n",
    "    km = 0\n",
    "\n",
    "\n",
    "    #self attributes classlara ulaşmak için kullanırız.\n",
    "    def km_arttir(self):\n",
    "        self.km += 100\n",
    "        return self.km"
   ]
  },
  {
   "cell_type": "code",
   "execution_count": 8,
   "metadata": {},
   "outputs": [
    {
     "data": {
      "text/plain": [
       "100"
      ]
     },
     "execution_count": 8,
     "metadata": {},
     "output_type": "execute_result"
    }
   ],
   "source": [
    "bmw = Araba()\n",
    "bmw.km_arttir()"
   ]
  },
  {
   "cell_type": "markdown",
   "metadata": {},
   "source": [
    "Default Değerler ile Class Oluşturma"
   ]
  },
  {
   "cell_type": "code",
   "execution_count": 9,
   "metadata": {},
   "outputs": [],
   "source": [
    "class Araba:\n",
    "    plaka = \"\"\n",
    "    vites_tipi = \"Manuel\"\n",
    "    marka = \"Audi\"\n",
    "    renk = \"Siyah\"\n",
    "    km = 0"
   ]
  },
  {
   "cell_type": "code",
   "execution_count": 10,
   "metadata": {},
   "outputs": [
    {
     "data": {
      "text/plain": [
       "'Manuel'"
      ]
     },
     "execution_count": 10,
     "metadata": {},
     "output_type": "execute_result"
    }
   ],
   "source": [
    "araba = Araba()\n",
    "araba.vites_tipi"
   ]
  },
  {
   "cell_type": "markdown",
   "metadata": {},
   "source": [
    "**init() Fonksiyonu:** \n",
    "\n",
    "Nesne özelliklerine veya nesne oluşturulurken yapılması gereken diğer işlemlere değer atamak için kullanırız."
   ]
  },
  {
   "cell_type": "code",
   "execution_count": 11,
   "metadata": {},
   "outputs": [],
   "source": [
    "class Araba:\n",
    "    def __init__(self, vites_tipi, marka, renk, plaka, hiz):\n",
    "        self.vites_tipi = vites_tipi\n",
    "        self.marka = marka\n",
    "        self.renk = renk\n",
    "        self.plaka = plaka\n",
    "        self.hiz = hiz\n",
    "\n",
    "    def HizArttir(self):\n",
    "        self.hiz += 10\n",
    "        return self.hiz"
   ]
  },
  {
   "cell_type": "code",
   "execution_count": 12,
   "metadata": {},
   "outputs": [
    {
     "data": {
      "text/plain": [
       "90"
      ]
     },
     "execution_count": 12,
     "metadata": {},
     "output_type": "execute_result"
    }
   ],
   "source": [
    "audi_araba = Araba(\"Otomatik\", \"Audi\", \"Beyaz\", \"35 RTA 9926\", 80)\n",
    "audi_araba.HizArttir()"
   ]
  },
  {
   "cell_type": "code",
   "execution_count": 13,
   "metadata": {},
   "outputs": [
    {
     "name": "stdout",
     "output_type": "stream",
     "text": [
      "Arabamızın Özellikleri: \n",
      "Marka: Audi\n",
      "Plaka: 35 RTA 9926\n",
      "Marka: Audi\n",
      "Vites Tipi: Otomatik\n",
      "Rengi: Beyaz\n"
     ]
    }
   ],
   "source": [
    "print(f\"Arabamızın Özellikleri: \\nMarka: {audi_araba.marka}\\nPlaka: {audi_araba.plaka}\\nMarka: {audi_araba.marka}\\nVites Tipi: {audi_araba.vites_tipi}\\nRengi: {audi_araba.renk}\")"
   ]
  },
  {
   "cell_type": "markdown",
   "metadata": {},
   "source": [
    "**Encapsulation - Kapsülleme:** Bir class içerisindeki nesnede yazdıklarımızı gizleme işlemi yaparız.\n",
    "\n",
    "**Inheritance - Miras:** Kalıtım, bir sınıfın özellikleri başka bir sınıftan türetme veya miras alma yeteneğidir.\n",
    "\n",
    "**Polymorphism:**\n",
    "\n",
    "**Abstract Class:**\n",
    "\n",
    "**Overriding:**"
   ]
  },
  {
   "cell_type": "markdown",
   "metadata": {},
   "source": [
    "**ENCAPSULATION - KAPSÜLLEME**"
   ]
  },
  {
   "cell_type": "code",
   "execution_count": 14,
   "metadata": {},
   "outputs": [],
   "source": [
    "class Person:\n",
    "    def __init__(self, isim, sicilno, maas, departman):\n",
    "        self.isim = isim\n",
    "        self.sicilno = sicilno\n",
    "        self.__maas = maas #maas nesnesini gizledik\n",
    "        self.departman = departman\n",
    "\n",
    "    def zam(self):\n",
    "        self.__maas *= 1.4"
   ]
  },
  {
   "cell_type": "code",
   "execution_count": 15,
   "metadata": {},
   "outputs": [
    {
     "ename": "AttributeError",
     "evalue": "'Person' object has no attribute '__maas'",
     "output_type": "error",
     "traceback": [
      "\u001b[1;31m---------------------------------------------------------------------------\u001b[0m",
      "\u001b[1;31mAttributeError\u001b[0m                            Traceback (most recent call last)",
      "Cell \u001b[1;32mIn [15], line 2\u001b[0m\n\u001b[0;32m      1\u001b[0m tpm \u001b[39m=\u001b[39m Person(\u001b[39m\"\u001b[39m\u001b[39mümit\u001b[39m\u001b[39m\"\u001b[39m,\u001b[39m\"\u001b[39m\u001b[39mTCMUMIT\u001b[39m\u001b[39m\"\u001b[39m, \u001b[39m100000\u001b[39m, \u001b[39m\"\u001b[39m\u001b[39mICT\u001b[39m\u001b[39m\"\u001b[39m)\n\u001b[1;32m----> 2\u001b[0m tpm\u001b[39m.\u001b[39;49m__maas\n",
      "\u001b[1;31mAttributeError\u001b[0m: 'Person' object has no attribute '__maas'"
     ]
    }
   ],
   "source": [
    "tpm = Person(\"ümit\",\"TCMUMIT\", 100000, \"ICT\")\n",
    "tpm.__maas #maas nesnesini gizlediğimiz için hata aldık"
   ]
  },
  {
   "cell_type": "code",
   "execution_count": 16,
   "metadata": {},
   "outputs": [],
   "source": [
    "class Person:\n",
    "    def __init__(self, isim, sicilno, maas, departman):\n",
    "        self.isim = isim\n",
    "        self.sicilno = sicilno\n",
    "        self.__maas = maas #maas nesnesini gizledik\n",
    "        self.departman = departman\n",
    "\n",
    "    def getMaas(self): #deger okuma\n",
    "        return self.__maas\n",
    "\n",
    "    def setMaas(self, yeni_maas): \n",
    "        self.__maas = yeni_maas  #yeni bir değer atadık"
   ]
  },
  {
   "cell_type": "code",
   "execution_count": 17,
   "metadata": {},
   "outputs": [
    {
     "data": {
      "text/plain": [
       "20000"
      ]
     },
     "execution_count": 17,
     "metadata": {},
     "output_type": "execute_result"
    }
   ],
   "source": [
    "IK = Person(\"Öykü\",\"TCYKU\", 20000, \"HR\")\n",
    "IK.getMaas()"
   ]
  },
  {
   "cell_type": "code",
   "execution_count": 18,
   "metadata": {},
   "outputs": [
    {
     "name": "stdout",
     "output_type": "stream",
     "text": [
      "20000\n",
      "25000\n"
     ]
    }
   ],
   "source": [
    "IK = Person(\"Öykü\",\"TCYKU\", 20000, \"HR\")\n",
    "print(IK.getMaas())\n",
    "IK.setMaas(25000)\n",
    "print(IK.getMaas())"
   ]
  },
  {
   "cell_type": "markdown",
   "metadata": {},
   "source": [
    "**INHERITANCE - KALITIM MİRAS**"
   ]
  },
  {
   "cell_type": "code",
   "execution_count": 19,
   "metadata": {},
   "outputs": [],
   "source": [
    "class Person:\n",
    "    def __init__(self, isim, sicilno, departman):\n",
    "        self.isim = isim\n",
    "        self.sicilno = sicilno\n",
    "        self.departman = departman\n",
    "        print(\"Person Classı oluşturuldu\")\n",
    "\n",
    "class InSource(Person):\n",
    "    def __init__(self, isim, sicilno, departman, yanHak):\n",
    "        super().__init__(isim, sicilno, departman)\n",
    "        self.yanHak = yanHak\n",
    "        print(\"InSource Classı Oluşturuldu\")"
   ]
  },
  {
   "cell_type": "code",
   "execution_count": 20,
   "metadata": {},
   "outputs": [
    {
     "name": "stdout",
     "output_type": "stream",
     "text": [
      "Person Classı oluşturuldu\n",
      "InSource Classı Oluşturuldu\n"
     ]
    }
   ],
   "source": [
    "Person = InSource(\"Rabia\", \"TCRABIA\", \"ICT\", True)"
   ]
  },
  {
   "cell_type": "markdown",
   "metadata": {},
   "source": [
    "**ABSTRACT CLASS (SOYUT SINIFLAR)**"
   ]
  },
  {
   "cell_type": "code",
   "execution_count": 21,
   "metadata": {},
   "outputs": [],
   "source": [
    "from abc import ABC, abstractmethod #ABC => Abstract Base Class\n",
    "\n",
    "\n",
    "class Person(ABC):\n",
    "    @abstractmethod\n",
    "    def yas(self):\n",
    "        pass"
   ]
  },
  {
   "cell_type": "code",
   "execution_count": 22,
   "metadata": {},
   "outputs": [],
   "source": [
    "class outSource(Person):\n",
    "    def yas(self):\n",
    "        pass"
   ]
  },
  {
   "cell_type": "code",
   "execution_count": 23,
   "metadata": {},
   "outputs": [],
   "source": [
    "staff = outSource()"
   ]
  },
  {
   "cell_type": "markdown",
   "metadata": {},
   "source": [
    "**Overriding (Üzerine Yazma)**"
   ]
  },
  {
   "cell_type": "code",
   "execution_count": 24,
   "metadata": {},
   "outputs": [],
   "source": [
    "class Person:\n",
    "    def __init__(self, isim, sicilno, departman):\n",
    "        self.isim = isim\n",
    "        self.sicilno = sicilno\n",
    "        self.departman = departman\n",
    "        print(\"Person Classı oluşturuldu\")\n",
    "\n",
    "    def info(self):\n",
    "        print(\"Üst Class İçerisindeyim\")"
   ]
  },
  {
   "cell_type": "code",
   "execution_count": 25,
   "metadata": {},
   "outputs": [],
   "source": [
    "class InSource(Person):\n",
    "    def __init__(self, isim, sicilno, departman):\n",
    "            super().__init__(isim, sicilno, departman)\n",
    "    def info(self):\n",
    "        print(\"Alt sınıfın içerisindeyim\")"
   ]
  },
  {
   "cell_type": "code",
   "execution_count": 26,
   "metadata": {},
   "outputs": [
    {
     "name": "stdout",
     "output_type": "stream",
     "text": [
      "Person Classı oluşturuldu\n",
      "Alt sınıfın içerisindeyim\n"
     ]
    }
   ],
   "source": [
    "personel = InSource(\"Zeynep\",\"TCZEYNEP\",\"DSS\")\n",
    "personel.info()"
   ]
  },
  {
   "cell_type": "markdown",
   "metadata": {},
   "source": [
    "**POLYMORPHISM (ÇOK BİÇİMLİLİK)**"
   ]
  },
  {
   "cell_type": "code",
   "execution_count": 27,
   "metadata": {},
   "outputs": [],
   "source": [
    "from ast import MatchAs\n",
    "\n",
    "\n",
    "class Person:\n",
    "    def __init__(self, isim, sicilno, maas):\n",
    "        self.isim = isim\n",
    "        self.sicilno = sicilno\n",
    "        self.maas = maas\n",
    "\n",
    "    def zam(self):\n",
    "        return self.maas * 1.2"
   ]
  },
  {
   "cell_type": "code",
   "execution_count": 28,
   "metadata": {},
   "outputs": [],
   "source": [
    "class InSource(Person):\n",
    "    def __init__(self, isim, sicilno, maas):\n",
    "            super().__init__(isim, sicilno, maas)\n",
    "\n",
    "    def zam(self):\n",
    "        return self.maas * 1.4"
   ]
  },
  {
   "cell_type": "code",
   "execution_count": 29,
   "metadata": {},
   "outputs": [],
   "source": [
    "class OutSource(Person):\n",
    "    def __init__(self, isim, sicilno, maas):\n",
    "            super().__init__(isim, sicilno, maas)\n",
    "\n",
    "    def zam(self):\n",
    "        return self.maas * 1.1"
   ]
  },
  {
   "cell_type": "code",
   "execution_count": 30,
   "metadata": {},
   "outputs": [],
   "source": [
    "person_1 = Person(\"Ayşe Nur\", \"TCNUR\", 10000)\n",
    "person_2 = InSource(\"Zehra\", \"TCZEHRA\", 10000)\n",
    "person_3 = OutSource(\"Sude\", \"TCSUDE\", 10000)"
   ]
  },
  {
   "cell_type": "code",
   "execution_count": 31,
   "metadata": {},
   "outputs": [
    {
     "name": "stdout",
     "output_type": "stream",
     "text": [
      "12000.0\n",
      "14000.0\n",
      "11000.0\n"
     ]
    }
   ],
   "source": [
    "print(person_1.zam())\n",
    "print(person_2.zam())\n",
    "print(person_3.zam())"
   ]
  },
  {
   "cell_type": "markdown",
   "metadata": {},
   "source": [
    "**HAYVANAT BAHÇESİ**\n",
    "\n",
    "Hayvanların bilgilerini takip etmek için bir sistem tasarlayalım.\n",
    "\n",
    "* Hayvanlar\n",
    "* Atlar (Zebralar, Atlar, Eşekler vb.)\n",
    "* Kemirgenler (Sıçanlar, Kunduzlar vb.)\n",
    "* Kedigiller (Kaplanlar, Aslanlar)\n",
    "\n",
    "* Hayvanların Tür Adı, Ağırlığı, Yaş Bilgileri Tutulacak\n",
    "* Sistem yem verme saatlerini seçebilmelidir -> getFeedSchedule()\n",
    "* Her hayvan için belirli ilaçların dozajını belirlenmesi -> getDosage()"
   ]
  },
  {
   "cell_type": "code",
   "execution_count": 32,
   "metadata": {},
   "outputs": [],
   "source": [
    "class Hayvan:\n",
    "    def __init__(self, tur_adi, agirligi, yas):\n",
    "        self.tur_adi = tur_adi,\n",
    "        self.agirligi = agirligi,\n",
    "        self.yas = yas\n",
    "\n",
    "    def getFeedSchedule(self):\n",
    "        return [10, 20]\n",
    "\n",
    "    def getDosage(self):\n",
    "        return 2"
   ]
  },
  {
   "cell_type": "code",
   "execution_count": 33,
   "metadata": {},
   "outputs": [],
   "source": [
    "class Atlar(Hayvan):\n",
    "    def __init__(self, tur_adi, agirligi, yas):\n",
    "        super().__init__(tur_adi, agirligi, yas)\n",
    "    \n",
    "    def getFeedSchedule(self):\n",
    "        return [6, 12, 18]\n",
    "\n",
    "    def getDosage(self):\n",
    "        return 3"
   ]
  },
  {
   "cell_type": "code",
   "execution_count": 34,
   "metadata": {},
   "outputs": [],
   "source": [
    "class Kemirgenler(Hayvan):\n",
    "    def __init__(self, tur_adi, agirligi, yas):\n",
    "        super().__init__(tur_adi, agirligi, yas)\n",
    "\n",
    "    def getFeedSchedule(self):\n",
    "        return [8, 18]\n",
    "\n",
    "    def getDosage(self):\n",
    "        return 1"
   ]
  },
  {
   "cell_type": "code",
   "execution_count": 35,
   "metadata": {},
   "outputs": [],
   "source": [
    "class Kedigiller(Hayvan):\n",
    "    def __init__(self, tur_adi, agirligi, yas):\n",
    "        super().__init__(tur_adi, agirligi, yas)\n",
    "    \n",
    "    def getFeedSchedule(self):\n",
    "        return [6, 13, 20]\n",
    "\n",
    "    def getDosage(self):\n",
    "        return 2"
   ]
  },
  {
   "cell_type": "code",
   "execution_count": 36,
   "metadata": {},
   "outputs": [],
   "source": [
    "atlar = Atlar(\"At\", 150, 3)\n",
    "Aslan = Kedigiller(\"Aslan\", 30, 1)\n",
    "Kemirgenler = Kemirgenler(\"Kemirgen\", 2, 1)"
   ]
  },
  {
   "cell_type": "code",
   "execution_count": 37,
   "metadata": {},
   "outputs": [
    {
     "name": "stdout",
     "output_type": "stream",
     "text": [
      "Atlar İçin:\n",
      "İlaç Dozu 3\n",
      "Yem Saatleri:[6, 12, 18]\n",
      "\n",
      "\n",
      "Kedigiller İçin:\n",
      "İlaç Dozu 24\n",
      "Yem Saatleri:[7, 19]\n",
      "\n",
      "\n",
      "Kemirgenler İçin:\n",
      "İlaç Dozu 1\n",
      "Yem Saatleri:[8, 18]\n",
      "\n",
      "\n"
     ]
    }
   ],
   "source": [
    "print(f\"Atlar İçin:\\nİlaç Dozu {atlar.getDosage()}\\nYem Saatleri:{atlar.getFeedSchedule()}\\n\\n\")\n",
    "print(f\"Kedigiller İçin:\\nİlaç Dozu {Aslan.getDosage()}\\nYem Saatleri:{Aslan.getFeedSchedule()}\\n\\n\")\n",
    "print(f\"Kemirgenler İçin:\\nİlaç Dozu {Kemirgenler.getDosage()}\\nYem Saatleri:{Kemirgenler.getFeedSchedule()}\\n\\n\")"
   ]
  }
 ],
 "metadata": {
  "kernelspec": {
   "display_name": "Python 3.10.8 64-bit (microsoft store)",
   "language": "python",
   "name": "python3"
  },
  "language_info": {
   "codemirror_mode": {
    "name": "ipython",
    "version": 3
   },
   "file_extension": ".py",
   "mimetype": "text/x-python",
   "name": "python",
   "nbconvert_exporter": "python",
   "pygments_lexer": "ipython3",
   "version": "3.10.8"
  },
  "orig_nbformat": 4,
  "vscode": {
   "interpreter": {
    "hash": "75328cd36868a46990b96b50a3e79d16599f753ed0672728bccd76ddc954032c"
   }
  }
 },
 "nbformat": 4,
 "nbformat_minor": 2
}
