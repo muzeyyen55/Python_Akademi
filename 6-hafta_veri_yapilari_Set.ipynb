{
 "cells": [
  {
   "cell_type": "markdown",
   "metadata": {},
   "source": [
    "**SET**\n",
    "\n",
    "* index ile erişilemezler.Unordered yani sıralı değillerdir. (Bir sete erişmek istediğinizde sıralama her seferinde farklılaşacaktır.)\n",
    "\n",
    "* Setler değiştirilemezler, tani immutable. Tuple' dan farkı sete yeni eleman ekleyip çıkarabiliyoruz.\n",
    "\n",
    "* {} parantez içerisinde tanımlanır. Elemanlar (,) ile ayrılır.\n",
    "\n",
    "* Farklı tipte veri taşımaya izin verir.\n",
    "\n",
    "* Aynı değere sahip iki eleman \"YER ALAMAZ\". Duplicate veri taşımazlar."
   ]
  },
  {
   "cell_type": "code",
   "execution_count": 55,
   "metadata": {},
   "outputs": [],
   "source": [
    "int_set = {1, 2, 3, 4}\n",
    "string_set = {\"Müzeyyen\", \"Nur\", \"Aysel\", \"Öykü\", \"Melisa\"}\n",
    "\n",
    "mix_set = {12, \"Başak\", 10234.6, True, False}"
   ]
  },
  {
   "cell_type": "code",
   "execution_count": 56,
   "metadata": {},
   "outputs": [
    {
     "name": "stdout",
     "output_type": "stream",
     "text": [
      "{False, True, 'Başak', 10234.6, 12}\n"
     ]
    }
   ],
   "source": [
    "print(mix_set)"
   ]
  },
  {
   "cell_type": "code",
   "execution_count": 57,
   "metadata": {},
   "outputs": [
    {
     "name": "stdout",
     "output_type": "stream",
     "text": [
      "<class 'set'>\n"
     ]
    }
   ],
   "source": [
    "print(type(mix_set))"
   ]
  },
  {
   "cell_type": "code",
   "execution_count": 58,
   "metadata": {},
   "outputs": [
    {
     "name": "stdout",
     "output_type": "stream",
     "text": [
      "{0, 1, 2, 3, 8, 9}\n"
     ]
    }
   ],
   "source": [
    "my_set = {1, 3, 8, 1, 2, 8, 0, 9}\n",
    "print(my_set)"
   ]
  },
  {
   "cell_type": "code",
   "execution_count": 59,
   "metadata": {},
   "outputs": [
    {
     "name": "stdout",
     "output_type": "stream",
     "text": [
      "[3, 8, 2, 'Ece', 'Ece', True, 8, False, 9, 10, False, 3, 2]\n",
      "{False, True, 2, 3, 8, 'Ece', 9, 10}\n"
     ]
    }
   ],
   "source": [
    "my_list = [3, 8, 2, \"Ece\", \"Ece\", True, 8, False, 9, 10, False, 3, 2]\n",
    "print(my_list)\n",
    "\n",
    "my_set = set(my_list)\n",
    "print(my_set)"
   ]
  },
  {
   "cell_type": "code",
   "execution_count": 61,
   "metadata": {},
   "outputs": [
    {
     "name": "stdout",
     "output_type": "stream",
     "text": [
      "{('Müzeyyen', 'İrem', 'Nihal'), 'Başak', 'Duygu', 'Ayşe Nur'}\n"
     ]
    }
   ],
   "source": [
    "#set içerisinde tuple kullanımı\n",
    "\n",
    "my_set = {\"Ayşe Nur\", \"Duygu\", \"Başak\", (\"Müzeyyen\", \"İrem\", \"Nihal\")}\n",
    "\n",
    "print(my_set)"
   ]
  },
  {
   "cell_type": "code",
   "execution_count": 65,
   "metadata": {},
   "outputs": [
    {
     "ename": "TypeError",
     "evalue": "unhashable type: 'list'",
     "output_type": "error",
     "traceback": [
      "\u001b[1;31m---------------------------------------------------------------------------\u001b[0m",
      "\u001b[1;31mTypeError\u001b[0m                                 Traceback (most recent call last)",
      "Cell \u001b[1;32mIn [65], line 3\u001b[0m\n\u001b[0;32m      1\u001b[0m \u001b[39m#set içerisinde list kullanımı\u001b[39;00m\n\u001b[1;32m----> 3\u001b[0m my_set \u001b[39m=\u001b[39m {\u001b[39m\"\u001b[39m\u001b[39mAyşe Nur\u001b[39m\u001b[39m\"\u001b[39m, \u001b[39m\"\u001b[39m\u001b[39mDuygu\u001b[39m\u001b[39m\"\u001b[39m, \u001b[39m\"\u001b[39m\u001b[39mBaşak\u001b[39m\u001b[39m\"\u001b[39m, [\u001b[39m\"\u001b[39m\u001b[39mMüzeyyen\u001b[39m\u001b[39m\"\u001b[39m, \u001b[39m\"\u001b[39m\u001b[39mİrem\u001b[39m\u001b[39m\"\u001b[39m, \u001b[39m\"\u001b[39m\u001b[39mNihal\u001b[39m\u001b[39m\"\u001b[39m]}\n\u001b[0;32m      5\u001b[0m \u001b[39mprint\u001b[39m(my_set)\n",
      "\u001b[1;31mTypeError\u001b[0m: unhashable type: 'list'"
     ]
    }
   ],
   "source": [
    "#set içerisinde list kullanımı\n",
    "\n",
    "my_set = {\"Ayşe Nur\", \"Duygu\", \"Başak\", [\"Müzeyyen\", \"İrem\", \"Nihal\"]}\n",
    "\n",
    "print(my_set)"
   ]
  },
  {
   "cell_type": "markdown",
   "metadata": {},
   "source": [
    "**Boş Bir Set Oluşturma**\n",
    "\n",
    "Boş bir liste ve tuple oluşturmak istediğimizde;\n",
    "\n",
    "* my_list = []\n",
    "* my_tuple = {}\n",
    "\n",
    "setlerde durum farklı"
   ]
  },
  {
   "cell_type": "code",
   "execution_count": 1,
   "metadata": {},
   "outputs": [
    {
     "name": "stdout",
     "output_type": "stream",
     "text": [
      "<class 'set'>\n"
     ]
    }
   ],
   "source": [
    "empty_set = set()\n",
    "print(type(empty_set))"
   ]
  },
  {
   "cell_type": "code",
   "execution_count": 2,
   "metadata": {},
   "outputs": [
    {
     "name": "stdout",
     "output_type": "stream",
     "text": [
      "<class 'dict'>\n"
     ]
    }
   ],
   "source": [
    "empty_set = {}\n",
    "print(type(empty_set))"
   ]
  },
  {
   "cell_type": "markdown",
   "metadata": {},
   "source": [
    "**ELEMANLARA ERİŞİM**"
   ]
  },
  {
   "cell_type": "code",
   "execution_count": 3,
   "metadata": {},
   "outputs": [
    {
     "name": "stdout",
     "output_type": "stream",
     "text": [
      "Friends\n",
      "How T Met Your Mother\n",
      "Person of Interest\n",
      "The Big Bang Theory\n",
      "Breaking Bad\n"
     ]
    }
   ],
   "source": [
    "movies = {\"How T Met Your Mother\", \"The Big Bang Theory\", \"Breaking Bad\", \"Friends\", \"Person of Interest\"}\n",
    "\n",
    "for i in movies:\n",
    "    print(i)"
   ]
  },
  {
   "cell_type": "markdown",
   "metadata": {},
   "source": [
    "**SET İÇERİSİNDE ELEMAN KONTROLÜ**"
   ]
  },
  {
   "cell_type": "code",
   "execution_count": 4,
   "metadata": {},
   "outputs": [
    {
     "name": "stdout",
     "output_type": "stream",
     "text": [
      "Diziler içerisinde mevcut değil\n"
     ]
    }
   ],
   "source": [
    "movies = {\"How T Met Your Mother\", \"The Big Bang Theory\", \"Breaking Bad\", \"Friends\", \"Person of Interest\"}\n",
    "\n",
    "if \"Harry Potter\" in movies: \n",
    "    print(\"Diziler içerisinde mevcut\")\n",
    "else:\n",
    "    print(\"Diziler içerisinde mevcut değil\")"
   ]
  },
  {
   "cell_type": "code",
   "execution_count": 5,
   "metadata": {},
   "outputs": [
    {
     "name": "stdout",
     "output_type": "stream",
     "text": [
      "Dizi Setinin Uzunluğu 5\n"
     ]
    }
   ],
   "source": [
    "print(\"Dizi Setinin Uzunluğu\", len(movies))"
   ]
  },
  {
   "cell_type": "markdown",
   "metadata": {},
   "source": [
    "**BİR SETE ELEMAN EKLEME**\n",
    "\n",
    "* add() ile sete yeni bir eleman eklenir\n",
    "* update() ile de birden fazla ekleme işlemi yapılır."
   ]
  },
  {
   "cell_type": "code",
   "execution_count": 10,
   "metadata": {},
   "outputs": [
    {
     "name": "stdout",
     "output_type": "stream",
     "text": [
      "{'Merhaba Dünya', 'Harry Potter', 'Bu İş Asla Tutmaz', 'Müşterinizin Beynindeki Satın Alma Düğmesine Basmak', 'Serenad'}\n",
      "{'Merhaba Dünya', 'Harry Potter', 'Bu İş Asla Tutmaz', 'Müşterinizin Beynindeki Satın Alma Düğmesine Basmak', 'Serenad'}\n"
     ]
    }
   ],
   "source": [
    "#add\n",
    "\n",
    "books = {\"Harry Potter\", \"Serenad\", \"Müşterinizin Beynindeki Satın Alma Düğmesine Basmak\", \"Merhaba Dünya\"}\n",
    "\n",
    "books.add(\"Bu İş Asla Tutmaz\")\n",
    "print(books)\n",
    "\n",
    "books.add(\"Harry Potter\") #mevcutta var olan bir elemanı eklemez\n",
    "print(books)"
   ]
  },
  {
   "cell_type": "code",
   "execution_count": 12,
   "metadata": {},
   "outputs": [
    {
     "name": "stdout",
     "output_type": "stream",
     "text": [
      "{'Merhaba Dünya', 'Harry Potter', 'Körlük', 'Bu İş Asla Tutmaz', 'Müşterinizin Beynindeki Satın Alma Düğmesine Basmak', 'İnce Memed', 'Serenad'}\n"
     ]
    }
   ],
   "source": [
    "#update\n",
    "books.update([\"Körlük\", \"İnce Memed\"])\n",
    "\n",
    "print(books)"
   ]
  },
  {
   "cell_type": "markdown",
   "metadata": {},
   "source": [
    "**BİR SET İÇERİSİNDEN ELEMAN SİLME**\n",
    "\n",
    "* remove()\n",
    "* discard()\n",
    "* pop()\n",
    "* clear()\n",
    "* del set"
   ]
  },
  {
   "cell_type": "code",
   "execution_count": 16,
   "metadata": {},
   "outputs": [
    {
     "data": {
      "text/plain": [
       "{'Bu İş Asla Tutmaz',\n",
       " 'Körlük',\n",
       " 'Merhaba Dünya',\n",
       " 'Müşterinizin Beynindeki Satın Alma Düğmesine Basmak',\n",
       " 'Serenad',\n",
       " 'İnce Memed'}"
      ]
     },
     "execution_count": 16,
     "metadata": {},
     "output_type": "execute_result"
    }
   ],
   "source": [
    "#remove: Listede belirttiğimiz kısmı siler\n",
    "books = {\"Harry Potter\", \"Serenad\", \"Müşterinizin Beynindeki Satın Alma Düğmesine Basmak\", \"Merhaba Dünya\" , 'Serenad', 'Bu İş Asla Tutmaz', 'İnce Memed', 'Körlük'}\n",
    "\n",
    "books.remove(\"Harry Potter\")# listede harry potter yazanları siler\n",
    "books"
   ]
  },
  {
   "cell_type": "code",
   "execution_count": 17,
   "metadata": {},
   "outputs": [
    {
     "ename": "KeyError",
     "evalue": "'Harry Potter'",
     "output_type": "error",
     "traceback": [
      "\u001b[1;31m---------------------------------------------------------------------------\u001b[0m",
      "\u001b[1;31mKeyError\u001b[0m                                  Traceback (most recent call last)",
      "Cell \u001b[1;32mIn [17], line 3\u001b[0m\n\u001b[0;32m      1\u001b[0m \u001b[39m#Set içerisinde olmayan bir değeri silmek istersek hata alırız.\u001b[39;00m\n\u001b[1;32m----> 3\u001b[0m books\u001b[39m.\u001b[39;49mremove(\u001b[39m\"\u001b[39;49m\u001b[39mHarry Potter\u001b[39;49m\u001b[39m\"\u001b[39;49m)\n\u001b[0;32m      4\u001b[0m books\n",
      "\u001b[1;31mKeyError\u001b[0m: 'Harry Potter'"
     ]
    }
   ],
   "source": [
    "#Set içerisinde olmayan bir değeri silmek istersek hata alırız.\n",
    "\n",
    "books.remove(\"Harry Potter\")\n",
    "books"
   ]
  },
  {
   "cell_type": "code",
   "execution_count": 18,
   "metadata": {},
   "outputs": [
    {
     "data": {
      "text/plain": [
       "{'Bu İş Asla Tutmaz', 'Körlük', 'Merhaba Dünya', 'Serenad', 'İnce Memed'}"
      ]
     },
     "execution_count": 18,
     "metadata": {},
     "output_type": "execute_result"
    }
   ],
   "source": [
    "#discard -> remove' dan tek farkı olmayan bir elemanı silmeye çalışırken hata almayız\n",
    "\n",
    "books.discard(\"Müşterinizin Beynindeki Satın Alma Düğmesine Basmak\")\n",
    "books"
   ]
  },
  {
   "cell_type": "code",
   "execution_count": 21,
   "metadata": {},
   "outputs": [
    {
     "data": {
      "text/plain": [
       "{'Bu İş Asla Tutmaz', 'Serenad'}"
      ]
     },
     "execution_count": 21,
     "metadata": {},
     "output_type": "execute_result"
    }
   ],
   "source": [
    "#pop(): Her basıldığında listedeki bir sonraki elemanı siler\n",
    "\n",
    "books.pop()\n",
    "books"
   ]
  },
  {
   "cell_type": "code",
   "execution_count": 22,
   "metadata": {},
   "outputs": [
    {
     "data": {
      "text/plain": [
       "set()"
      ]
     },
     "execution_count": 22,
     "metadata": {},
     "output_type": "execute_result"
    }
   ],
   "source": [
    "#clear(): listedeki bütün elemanları siler. boş set değeri döndürür\n",
    "\n",
    "books.clear()\n",
    "books"
   ]
  },
  {
   "cell_type": "code",
   "execution_count": 23,
   "metadata": {},
   "outputs": [
    {
     "ename": "NameError",
     "evalue": "name 'books' is not defined",
     "output_type": "error",
     "traceback": [
      "\u001b[1;31m---------------------------------------------------------------------------\u001b[0m",
      "\u001b[1;31mNameError\u001b[0m                                 Traceback (most recent call last)",
      "Cell \u001b[1;32mIn [23], line 4\u001b[0m\n\u001b[0;32m      1\u001b[0m \u001b[39m#del\u001b[39;00m\n\u001b[0;32m      3\u001b[0m \u001b[39mdel\u001b[39;00m books\n\u001b[1;32m----> 4\u001b[0m books\n",
      "\u001b[1;31mNameError\u001b[0m: name 'books' is not defined"
     ]
    }
   ],
   "source": [
    "#del: clear gibi listedeki bütün elemanları cleardan tek farkı (set()) şeklinde değer döndürmez boş değer atar\n",
    "\n",
    "del books\n",
    "books\n",
    "\n",
    "#listede silinecek eleman bulamadığı için hata verdi"
   ]
  },
  {
   "cell_type": "markdown",
   "metadata": {},
   "source": [
    "**SET ÜZERİNDE KULLANABİLECEĞİMİZ OPERATÖRLER**\n",
    "\n",
    "* union() -> |\n",
    "\n",
    "* intersection() -> &\n",
    "\n",
    "* difference() -> -\n",
    "\n",
    "* symmetric_difference() -> ^"
   ]
  },
  {
   "cell_type": "markdown",
   "metadata": {},
   "source": [
    "**Union**\n",
    "\n",
    "İki seti birleştirmek için kullanılır."
   ]
  },
  {
   "cell_type": "code",
   "execution_count": 66,
   "metadata": {},
   "outputs": [
    {
     "data": {
      "text/plain": [
       "{'Asena', 'Aysel', 'Behice', 'Emre', 'Ezgi', 'Hatice', 'Kübra', 'Merve'}"
      ]
     },
     "execution_count": 66,
     "metadata": {},
     "output_type": "execute_result"
    }
   ],
   "source": [
    "my_set1 = {\"Aysel\", \"Merve\", \"Emre\", \"Asena\", \"Ezgi\"}\n",
    "my_set2 = {\"Merve\", \"Ezgi\", \"Hatice\", \"Behice\", \"Kübra\"}\n",
    "\n",
    "my_set3 = my_set1 | my_set2\n",
    "my_set3"
   ]
  },
  {
   "cell_type": "code",
   "execution_count": 67,
   "metadata": {},
   "outputs": [
    {
     "data": {
      "text/plain": [
       "{'Asena', 'Aysel', 'Behice', 'Emre', 'Ezgi', 'Hatice', 'Kübra', 'Merve'}"
      ]
     },
     "execution_count": 67,
     "metadata": {},
     "output_type": "execute_result"
    }
   ],
   "source": [
    "my_set4 = my_set1.union(my_set2)\n",
    "\n",
    "my_set4"
   ]
  },
  {
   "cell_type": "markdown",
   "metadata": {},
   "source": [
    "**Intersection**\n",
    "\n",
    "İki küme içerisinde yer alan ortak elemanları döndürür"
   ]
  },
  {
   "cell_type": "code",
   "execution_count": 30,
   "metadata": {},
   "outputs": [
    {
     "data": {
      "text/plain": [
       "{'Ezgi', 'Merve'}"
      ]
     },
     "execution_count": 30,
     "metadata": {},
     "output_type": "execute_result"
    }
   ],
   "source": [
    "my_set1 = {\"Aysel\", \"Merve\", \"Emre\", \"Asena\", \"Ezgi\"}\n",
    "my_set2 = {\"Merve\", \"Ezgi\", \"Hatice\", \"Behice\", \"Kübra\"}\n",
    "\n",
    "my_set3 = my_set1 & my_set2\n",
    "my_set3"
   ]
  },
  {
   "cell_type": "code",
   "execution_count": 31,
   "metadata": {},
   "outputs": [
    {
     "data": {
      "text/plain": [
       "{'Ezgi', 'Merve'}"
      ]
     },
     "execution_count": 31,
     "metadata": {},
     "output_type": "execute_result"
    }
   ],
   "source": [
    "my_set4 = my_set1.intersection(my_set2)\n",
    "my_set4"
   ]
  },
  {
   "cell_type": "markdown",
   "metadata": {},
   "source": [
    "**Intersection_Update**"
   ]
  },
  {
   "cell_type": "code",
   "execution_count": 32,
   "metadata": {},
   "outputs": [
    {
     "data": {
      "text/plain": [
       "{'Ezgi', 'Merve'}"
      ]
     },
     "execution_count": 32,
     "metadata": {},
     "output_type": "execute_result"
    }
   ],
   "source": [
    "my_set1 = {\"Aysel\", \"Merve\", \"Emre\", \"Asena\", \"Ezgi\"}\n",
    "my_set2 = {\"Merve\", \"Ezgi\", \"Hatice\", \"Behice\", \"Kübra\"}\n",
    "\n",
    "my_set1.intersection_update(my_set2)\n",
    "my_set1"
   ]
  },
  {
   "cell_type": "markdown",
   "metadata": {},
   "source": [
    "**Difference**"
   ]
  },
  {
   "cell_type": "code",
   "execution_count": 33,
   "metadata": {},
   "outputs": [
    {
     "data": {
      "text/plain": [
       "{'Asena', 'Aysel', 'Emre'}"
      ]
     },
     "execution_count": 33,
     "metadata": {},
     "output_type": "execute_result"
    }
   ],
   "source": [
    "my_set1 = {\"Aysel\", \"Merve\", \"Emre\", \"Asena\", \"Ezgi\"}\n",
    "my_set2 = {\"Merve\", \"Ezgi\", \"Hatice\", \"Behice\", \"Kübra\"}\n",
    "\n",
    "my_set3 = my_set1 - my_set2\n",
    "my_set3\n",
    "\n",
    "#my_set1 ve my_set2 de ortak olmayan elemanların farkını alıp my_set1 deki elemanları yazar"
   ]
  },
  {
   "cell_type": "code",
   "execution_count": 34,
   "metadata": {},
   "outputs": [
    {
     "data": {
      "text/plain": [
       "{'Asena', 'Aysel', 'Emre'}"
      ]
     },
     "execution_count": 34,
     "metadata": {},
     "output_type": "execute_result"
    }
   ],
   "source": [
    "my_set1.difference(my_set2)"
   ]
  },
  {
   "cell_type": "code",
   "execution_count": 35,
   "metadata": {},
   "outputs": [
    {
     "data": {
      "text/plain": [
       "{'Asena', 'Aysel', 'Emre', 'Ezgi', 'Merve'}"
      ]
     },
     "execution_count": 35,
     "metadata": {},
     "output_type": "execute_result"
    }
   ],
   "source": [
    "my_set1"
   ]
  },
  {
   "cell_type": "code",
   "execution_count": 36,
   "metadata": {},
   "outputs": [],
   "source": [
    "my_set1.difference_update(my_set2)"
   ]
  },
  {
   "cell_type": "code",
   "execution_count": 37,
   "metadata": {},
   "outputs": [
    {
     "data": {
      "text/plain": [
       "{'Asena', 'Aysel', 'Emre'}"
      ]
     },
     "execution_count": 37,
     "metadata": {},
     "output_type": "execute_result"
    }
   ],
   "source": [
    "my_set1"
   ]
  },
  {
   "cell_type": "markdown",
   "metadata": {},
   "source": [
    "**Symmetric Difference**"
   ]
  },
  {
   "cell_type": "code",
   "execution_count": 38,
   "metadata": {},
   "outputs": [
    {
     "data": {
      "text/plain": [
       "{'Asena', 'Aysel', 'Behice', 'Emre', 'Hatice', 'Kübra'}"
      ]
     },
     "execution_count": 38,
     "metadata": {},
     "output_type": "execute_result"
    }
   ],
   "source": [
    "my_set1 = {\"Aysel\", \"Merve\", \"Emre\", \"Asena\", \"Ezgi\"}\n",
    "my_set2 = {\"Merve\", \"Ezgi\", \"Hatice\", \"Behice\", \"Kübra\"}\n",
    "\n",
    "unique_set = my_set1 ^ my_set2\n",
    "unique_set"
   ]
  },
  {
   "cell_type": "code",
   "execution_count": 39,
   "metadata": {},
   "outputs": [
    {
     "data": {
      "text/plain": [
       "{'Asena', 'Aysel', 'Behice', 'Emre', 'Hatice', 'Kübra'}"
      ]
     },
     "execution_count": 39,
     "metadata": {},
     "output_type": "execute_result"
    }
   ],
   "source": [
    "unique_set2 = my_set2.symmetric_difference(my_set1)\n",
    "unique_set2"
   ]
  },
  {
   "cell_type": "code",
   "execution_count": 40,
   "metadata": {},
   "outputs": [
    {
     "data": {
      "text/plain": [
       "{'Asena', 'Aysel', 'Behice', 'Emre', 'Hatice', 'Kübra'}"
      ]
     },
     "execution_count": 40,
     "metadata": {},
     "output_type": "execute_result"
    }
   ],
   "source": [
    "my_set1.symmetric_difference_update(my_set2)\n",
    "my_set1"
   ]
  },
  {
   "cell_type": "markdown",
   "metadata": {},
   "source": [
    "**KOPYALAMA İŞLEMLERİ**\n",
    "\n",
    "* copy()\n",
    "\n",
    "* =\n",
    "\n",
    "* set()"
   ]
  },
  {
   "cell_type": "code",
   "execution_count": 43,
   "metadata": {},
   "outputs": [
    {
     "data": {
      "text/plain": [
       "{18, 'Ahmet', 'Sezen', True, 'Vildan'}"
      ]
     },
     "execution_count": 43,
     "metadata": {},
     "output_type": "execute_result"
    }
   ],
   "source": [
    "# = operatörü ile\n",
    "\n",
    "my_set = {\"Sezen\", \"Ahmet\", True, 18}\n",
    "my_set2 = my_set\n",
    "\n",
    "my_set.add(\"Vildan\")\n",
    "my_set2"
   ]
  },
  {
   "cell_type": "code",
   "execution_count": 44,
   "metadata": {},
   "outputs": [
    {
     "data": {
      "text/plain": [
       "{18, 'Ahmet', 'Sezen', True}"
      ]
     },
     "execution_count": 44,
     "metadata": {},
     "output_type": "execute_result"
    }
   ],
   "source": [
    "#copy metodu ile\n",
    "\n",
    "my_set = {\"Sezen\", \"Ahmet\", True, 18}\n",
    "my_set2 = my_set.copy()\n",
    "\n",
    "my_set.add(\"Vidan\")\n",
    "my_set2"
   ]
  },
  {
   "cell_type": "code",
   "execution_count": 45,
   "metadata": {},
   "outputs": [
    {
     "data": {
      "text/plain": [
       "{18, 'Ahmet', 'Sezen', True}"
      ]
     },
     "execution_count": 45,
     "metadata": {},
     "output_type": "execute_result"
    }
   ],
   "source": [
    "#set metodu ile\n",
    "\n",
    "my_set = {\"Sezen\", \"Ahmet\", True, 18}\n",
    "my_set2 = set(my_set)\n",
    "\n",
    "my_set.add(\"Vildan\")\n",
    "my_set2"
   ]
  },
  {
   "cell_type": "markdown",
   "metadata": {},
   "source": [
    "**Subset(alt küme) and superset(üst küme)**"
   ]
  },
  {
   "cell_type": "code",
   "execution_count": 46,
   "metadata": {},
   "outputs": [
    {
     "name": "stdout",
     "output_type": "stream",
     "text": [
      "True\n",
      "False\n"
     ]
    }
   ],
   "source": [
    "languages = {\"Python\", \"C#\", \"Java\", \"Kotlin\", \"Dart\"}\n",
    "languages2 = {\"Kotlin\", \"Java\"}\n",
    "\n",
    "print(languages.issuperset(languages2))\n",
    "print(languages.issubset(languages2))"
   ]
  },
  {
   "cell_type": "markdown",
   "metadata": {},
   "source": [
    "**isdisjoint()**\n",
    "\n",
    "İki kümenin ayrık kümeler olup olmadığını kontrol eder"
   ]
  },
  {
   "cell_type": "code",
   "execution_count": 47,
   "metadata": {},
   "outputs": [
    {
     "name": "stdout",
     "output_type": "stream",
     "text": [
      "True\n"
     ]
    }
   ],
   "source": [
    "languages = {\"Python\", \"C#\", \"Java\", \"Kotlin\", \"Dart\"}\n",
    "languages2 = {\"Flutter\"}\n",
    "\n",
    "print(languages.isdisjoint(languages2))"
   ]
  },
  {
   "cell_type": "markdown",
   "metadata": {},
   "source": [
    "**Frozenset**\n",
    "\n",
    "Değişmez bir set oluşturmak istenildiğinde kullanılır"
   ]
  },
  {
   "cell_type": "code",
   "execution_count": 48,
   "metadata": {},
   "outputs": [],
   "source": [
    "frozen_set = frozenset({\"Nihan\", \"Edanur\", \"Buse\", \"Sena\"})"
   ]
  },
  {
   "cell_type": "code",
   "execution_count": 49,
   "metadata": {},
   "outputs": [
    {
     "ename": "AttributeError",
     "evalue": "'frozenset' object has no attribute 'add'",
     "output_type": "error",
     "traceback": [
      "\u001b[1;31m---------------------------------------------------------------------------\u001b[0m",
      "\u001b[1;31mAttributeError\u001b[0m                            Traceback (most recent call last)",
      "Cell \u001b[1;32mIn [49], line 1\u001b[0m\n\u001b[1;32m----> 1\u001b[0m frozen_set\u001b[39m.\u001b[39;49madd(\u001b[39m6\u001b[39m)\n",
      "\u001b[1;31mAttributeError\u001b[0m: 'frozenset' object has no attribute 'add'"
     ]
    }
   ],
   "source": [
    "frozen_set.add(6)"
   ]
  },
  {
   "cell_type": "code",
   "execution_count": 51,
   "metadata": {},
   "outputs": [
    {
     "name": "stdout",
     "output_type": "stream",
     "text": [
      "{10, 80, 20, 60, 30}\n"
     ]
    }
   ],
   "source": [
    "#iki set içerisinde yer alan benzersiz elemanları ekrana basalım\n",
    "\n",
    "my_set1 = {10, 20, 30, 40, 50}\n",
    "my_set2 = {40, 50, 60, 80}\n",
    "\n",
    "print(my_set1.symmetric_difference(my_set2))"
   ]
  },
  {
   "cell_type": "code",
   "execution_count": 53,
   "metadata": {},
   "outputs": [
    {
     "data": {
      "text/plain": [
       "{0, 1, 2, 3, 4, 7, 9}"
      ]
     },
     "execution_count": 53,
     "metadata": {},
     "output_type": "execute_result"
    }
   ],
   "source": [
    "#Bir listenin tüm elemanlarını bir sete ekleme işlemini yapalım\n",
    "\n",
    "my_list = [1, 2, 9, 3, 4]\n",
    "my_set = {1, 4, 7, 9, 0}\n",
    "\n",
    "my_set.update(my_list)\n",
    "my_set"
   ]
  },
  {
   "cell_type": "code",
   "execution_count": 54,
   "metadata": {},
   "outputs": [
    {
     "data": {
      "text/plain": [
       "{1, 3, 5, 7, 9}"
      ]
     },
     "execution_count": 54,
     "metadata": {},
     "output_type": "execute_result"
    }
   ],
   "source": [
    "#Bir set içerisinde yer alan çift sayıları sil,\n",
    "\n",
    "my_set = {1, 2, 3, 4, 5, 6, 7, 8, 9, 10}\n",
    "\n",
    "my_list = [i for i in my_set if i % 2 == 0] #list comprehension\n",
    "\n",
    "#my_list = []\n",
    "#for item in my_set:\n",
    "#    if item % 2 == 0:\n",
    "#        my_list.append(item)\n",
    "\n",
    "for i in my_list:\n",
    "    my_set.remove(i)\n",
    "\n",
    "my_set"
   ]
  }
 ],
 "metadata": {
  "kernelspec": {
   "display_name": "Python 3.9.5 64-bit",
   "language": "python",
   "name": "python3"
  },
  "language_info": {
   "codemirror_mode": {
    "name": "ipython",
    "version": 3
   },
   "file_extension": ".py",
   "mimetype": "text/x-python",
   "name": "python",
   "nbconvert_exporter": "python",
   "pygments_lexer": "ipython3",
   "version": "3.9.5"
  },
  "orig_nbformat": 4,
  "vscode": {
   "interpreter": {
    "hash": "f6246b25e200e4c5124e3e61789ac81350562f0761bbcf92ad9e48654207659c"
   }
  }
 },
 "nbformat": 4,
 "nbformat_minor": 2
}
